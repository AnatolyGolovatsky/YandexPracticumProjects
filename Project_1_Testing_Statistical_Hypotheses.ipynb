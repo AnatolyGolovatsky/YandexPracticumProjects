{
 "cells": [
  {
   "cell_type": "markdown",
   "metadata": {},
   "source": [
    "Клиентам компании Мегалайн предлагают два тарифных плана: «Смарт» и «Ультра». Чтобы скорректировать рекламный бюджет, надо понять, какой тариф приносит больше денег.\n",
    "Нам предстоит сделать предварительный анализ тарифов на небольшой выборке клиентов. В нашем распоряжении данные 500 пользователей «Мегалайна»: кто они, откуда, каким тарифом пользуются, сколько звонков и сообщений каждый отправил за 2018 год. Нужно проанализировать поведение клиентов и сделать вывод — какой тариф лучше. Первым делом загрузим данные."
   ]
  },
  {
   "cell_type": "markdown",
   "metadata": {},
   "source": [
    "# Project_1._Testing_Statistical_Hypotheses"
   ]
  },
  {
   "cell_type": "markdown",
   "metadata": {},
   "source": [
    "# Знакомство с данными"
   ]
  },
  {
   "cell_type": "code",
   "execution_count": 130,
   "metadata": {},
   "outputs": [
    {
     "name": "stdout",
     "output_type": "stream",
     "text": [
      "<class 'pandas.core.frame.DataFrame'>\n",
      "RangeIndex: 202607 entries, 0 to 202606\n",
      "Data columns (total 4 columns):\n",
      " #   Column     Non-Null Count   Dtype  \n",
      "---  ------     --------------   -----  \n",
      " 0   id         202607 non-null  object \n",
      " 1   call_date  202607 non-null  object \n",
      " 2   duration   202607 non-null  float64\n",
      " 3   user_id    202607 non-null  int64  \n",
      "dtypes: float64(1), int64(1), object(2)\n",
      "memory usage: 6.2+ MB\n"
     ]
    },
    {
     "data": {
      "text/html": [
       "<div>\n",
       "<style scoped>\n",
       "    .dataframe tbody tr th:only-of-type {\n",
       "        vertical-align: middle;\n",
       "    }\n",
       "\n",
       "    .dataframe tbody tr th {\n",
       "        vertical-align: top;\n",
       "    }\n",
       "\n",
       "    .dataframe thead th {\n",
       "        text-align: right;\n",
       "    }\n",
       "</style>\n",
       "<table border=\"1\" class=\"dataframe\">\n",
       "  <thead>\n",
       "    <tr style=\"text-align: right;\">\n",
       "      <th></th>\n",
       "      <th>id</th>\n",
       "      <th>call_date</th>\n",
       "      <th>duration</th>\n",
       "      <th>user_id</th>\n",
       "    </tr>\n",
       "  </thead>\n",
       "  <tbody>\n",
       "    <tr>\n",
       "      <th>0</th>\n",
       "      <td>1000_0</td>\n",
       "      <td>2018-07-25</td>\n",
       "      <td>0.00</td>\n",
       "      <td>1000</td>\n",
       "    </tr>\n",
       "    <tr>\n",
       "      <th>1</th>\n",
       "      <td>1000_1</td>\n",
       "      <td>2018-08-17</td>\n",
       "      <td>0.00</td>\n",
       "      <td>1000</td>\n",
       "    </tr>\n",
       "    <tr>\n",
       "      <th>2</th>\n",
       "      <td>1000_2</td>\n",
       "      <td>2018-06-11</td>\n",
       "      <td>2.85</td>\n",
       "      <td>1000</td>\n",
       "    </tr>\n",
       "    <tr>\n",
       "      <th>3</th>\n",
       "      <td>1000_3</td>\n",
       "      <td>2018-09-21</td>\n",
       "      <td>13.80</td>\n",
       "      <td>1000</td>\n",
       "    </tr>\n",
       "    <tr>\n",
       "      <th>4</th>\n",
       "      <td>1000_4</td>\n",
       "      <td>2018-12-15</td>\n",
       "      <td>5.18</td>\n",
       "      <td>1000</td>\n",
       "    </tr>\n",
       "  </tbody>\n",
       "</table>\n",
       "</div>"
      ],
      "text/plain": [
       "       id   call_date  duration  user_id\n",
       "0  1000_0  2018-07-25      0.00     1000\n",
       "1  1000_1  2018-08-17      0.00     1000\n",
       "2  1000_2  2018-06-11      2.85     1000\n",
       "3  1000_3  2018-09-21     13.80     1000\n",
       "4  1000_4  2018-12-15      5.18     1000"
      ]
     },
     "execution_count": 130,
     "metadata": {},
     "output_type": "execute_result"
    }
   ],
   "source": [
    "import pandas as pd\n",
    "calls = pd.read_csv('/datasets/calls.csv')\n",
    "calls.info()\n",
    "calls.head(5)"
   ]
  },
  {
   "cell_type": "code",
   "execution_count": 131,
   "metadata": {},
   "outputs": [
    {
     "name": "stdout",
     "output_type": "stream",
     "text": [
      "<class 'pandas.core.frame.DataFrame'>\n",
      "RangeIndex: 149396 entries, 0 to 149395\n",
      "Data columns (total 5 columns):\n",
      " #   Column        Non-Null Count   Dtype  \n",
      "---  ------        --------------   -----  \n",
      " 0   Unnamed: 0    149396 non-null  int64  \n",
      " 1   id            149396 non-null  object \n",
      " 2   mb_used       149396 non-null  float64\n",
      " 3   session_date  149396 non-null  object \n",
      " 4   user_id       149396 non-null  int64  \n",
      "dtypes: float64(1), int64(2), object(2)\n",
      "memory usage: 5.7+ MB\n"
     ]
    },
    {
     "data": {
      "text/html": [
       "<div>\n",
       "<style scoped>\n",
       "    .dataframe tbody tr th:only-of-type {\n",
       "        vertical-align: middle;\n",
       "    }\n",
       "\n",
       "    .dataframe tbody tr th {\n",
       "        vertical-align: top;\n",
       "    }\n",
       "\n",
       "    .dataframe thead th {\n",
       "        text-align: right;\n",
       "    }\n",
       "</style>\n",
       "<table border=\"1\" class=\"dataframe\">\n",
       "  <thead>\n",
       "    <tr style=\"text-align: right;\">\n",
       "      <th></th>\n",
       "      <th>Unnamed: 0</th>\n",
       "      <th>id</th>\n",
       "      <th>mb_used</th>\n",
       "      <th>session_date</th>\n",
       "      <th>user_id</th>\n",
       "    </tr>\n",
       "  </thead>\n",
       "  <tbody>\n",
       "    <tr>\n",
       "      <th>0</th>\n",
       "      <td>0</td>\n",
       "      <td>1000_0</td>\n",
       "      <td>112.95</td>\n",
       "      <td>2018-11-25</td>\n",
       "      <td>1000</td>\n",
       "    </tr>\n",
       "    <tr>\n",
       "      <th>1</th>\n",
       "      <td>1</td>\n",
       "      <td>1000_1</td>\n",
       "      <td>1052.81</td>\n",
       "      <td>2018-09-07</td>\n",
       "      <td>1000</td>\n",
       "    </tr>\n",
       "    <tr>\n",
       "      <th>2</th>\n",
       "      <td>2</td>\n",
       "      <td>1000_2</td>\n",
       "      <td>1197.26</td>\n",
       "      <td>2018-06-25</td>\n",
       "      <td>1000</td>\n",
       "    </tr>\n",
       "    <tr>\n",
       "      <th>3</th>\n",
       "      <td>3</td>\n",
       "      <td>1000_3</td>\n",
       "      <td>550.27</td>\n",
       "      <td>2018-08-22</td>\n",
       "      <td>1000</td>\n",
       "    </tr>\n",
       "    <tr>\n",
       "      <th>4</th>\n",
       "      <td>4</td>\n",
       "      <td>1000_4</td>\n",
       "      <td>302.56</td>\n",
       "      <td>2018-09-24</td>\n",
       "      <td>1000</td>\n",
       "    </tr>\n",
       "  </tbody>\n",
       "</table>\n",
       "</div>"
      ],
      "text/plain": [
       "   Unnamed: 0      id  mb_used session_date  user_id\n",
       "0           0  1000_0   112.95   2018-11-25     1000\n",
       "1           1  1000_1  1052.81   2018-09-07     1000\n",
       "2           2  1000_2  1197.26   2018-06-25     1000\n",
       "3           3  1000_3   550.27   2018-08-22     1000\n",
       "4           4  1000_4   302.56   2018-09-24     1000"
      ]
     },
     "execution_count": 131,
     "metadata": {},
     "output_type": "execute_result"
    }
   ],
   "source": [
    "internet = pd.read_csv('/datasets/internet.csv')\n",
    "internet.info()\n",
    "internet.head()"
   ]
  },
  {
   "cell_type": "code",
   "execution_count": 132,
   "metadata": {},
   "outputs": [
    {
     "name": "stdout",
     "output_type": "stream",
     "text": [
      "<class 'pandas.core.frame.DataFrame'>\n",
      "RangeIndex: 123036 entries, 0 to 123035\n",
      "Data columns (total 3 columns):\n",
      " #   Column        Non-Null Count   Dtype \n",
      "---  ------        --------------   ----- \n",
      " 0   id            123036 non-null  object\n",
      " 1   message_date  123036 non-null  object\n",
      " 2   user_id       123036 non-null  int64 \n",
      "dtypes: int64(1), object(2)\n",
      "memory usage: 2.8+ MB\n"
     ]
    },
    {
     "data": {
      "text/html": [
       "<div>\n",
       "<style scoped>\n",
       "    .dataframe tbody tr th:only-of-type {\n",
       "        vertical-align: middle;\n",
       "    }\n",
       "\n",
       "    .dataframe tbody tr th {\n",
       "        vertical-align: top;\n",
       "    }\n",
       "\n",
       "    .dataframe thead th {\n",
       "        text-align: right;\n",
       "    }\n",
       "</style>\n",
       "<table border=\"1\" class=\"dataframe\">\n",
       "  <thead>\n",
       "    <tr style=\"text-align: right;\">\n",
       "      <th></th>\n",
       "      <th>id</th>\n",
       "      <th>message_date</th>\n",
       "      <th>user_id</th>\n",
       "    </tr>\n",
       "  </thead>\n",
       "  <tbody>\n",
       "    <tr>\n",
       "      <th>0</th>\n",
       "      <td>1000_0</td>\n",
       "      <td>2018-06-27</td>\n",
       "      <td>1000</td>\n",
       "    </tr>\n",
       "    <tr>\n",
       "      <th>1</th>\n",
       "      <td>1000_1</td>\n",
       "      <td>2018-10-08</td>\n",
       "      <td>1000</td>\n",
       "    </tr>\n",
       "    <tr>\n",
       "      <th>2</th>\n",
       "      <td>1000_2</td>\n",
       "      <td>2018-08-04</td>\n",
       "      <td>1000</td>\n",
       "    </tr>\n",
       "    <tr>\n",
       "      <th>3</th>\n",
       "      <td>1000_3</td>\n",
       "      <td>2018-06-16</td>\n",
       "      <td>1000</td>\n",
       "    </tr>\n",
       "    <tr>\n",
       "      <th>4</th>\n",
       "      <td>1000_4</td>\n",
       "      <td>2018-12-05</td>\n",
       "      <td>1000</td>\n",
       "    </tr>\n",
       "  </tbody>\n",
       "</table>\n",
       "</div>"
      ],
      "text/plain": [
       "       id message_date  user_id\n",
       "0  1000_0   2018-06-27     1000\n",
       "1  1000_1   2018-10-08     1000\n",
       "2  1000_2   2018-08-04     1000\n",
       "3  1000_3   2018-06-16     1000\n",
       "4  1000_4   2018-12-05     1000"
      ]
     },
     "execution_count": 132,
     "metadata": {},
     "output_type": "execute_result"
    }
   ],
   "source": [
    "messages = pd.read_csv('/datasets/messages.csv')\n",
    "messages.info()\n",
    "messages.head()"
   ]
  },
  {
   "cell_type": "code",
   "execution_count": 133,
   "metadata": {},
   "outputs": [
    {
     "name": "stdout",
     "output_type": "stream",
     "text": [
      "<class 'pandas.core.frame.DataFrame'>\n",
      "RangeIndex: 2 entries, 0 to 1\n",
      "Data columns (total 8 columns):\n",
      " #   Column                 Non-Null Count  Dtype \n",
      "---  ------                 --------------  ----- \n",
      " 0   messages_included      2 non-null      int64 \n",
      " 1   mb_per_month_included  2 non-null      int64 \n",
      " 2   minutes_included       2 non-null      int64 \n",
      " 3   rub_monthly_fee        2 non-null      int64 \n",
      " 4   rub_per_gb             2 non-null      int64 \n",
      " 5   rub_per_message        2 non-null      int64 \n",
      " 6   rub_per_minute         2 non-null      int64 \n",
      " 7   tariff_name            2 non-null      object\n",
      "dtypes: int64(7), object(1)\n",
      "memory usage: 256.0+ bytes\n"
     ]
    },
    {
     "data": {
      "text/html": [
       "<div>\n",
       "<style scoped>\n",
       "    .dataframe tbody tr th:only-of-type {\n",
       "        vertical-align: middle;\n",
       "    }\n",
       "\n",
       "    .dataframe tbody tr th {\n",
       "        vertical-align: top;\n",
       "    }\n",
       "\n",
       "    .dataframe thead th {\n",
       "        text-align: right;\n",
       "    }\n",
       "</style>\n",
       "<table border=\"1\" class=\"dataframe\">\n",
       "  <thead>\n",
       "    <tr style=\"text-align: right;\">\n",
       "      <th></th>\n",
       "      <th>messages_included</th>\n",
       "      <th>mb_per_month_included</th>\n",
       "      <th>minutes_included</th>\n",
       "      <th>rub_monthly_fee</th>\n",
       "      <th>rub_per_gb</th>\n",
       "      <th>rub_per_message</th>\n",
       "      <th>rub_per_minute</th>\n",
       "      <th>tariff_name</th>\n",
       "    </tr>\n",
       "  </thead>\n",
       "  <tbody>\n",
       "    <tr>\n",
       "      <th>0</th>\n",
       "      <td>50</td>\n",
       "      <td>15360</td>\n",
       "      <td>500</td>\n",
       "      <td>550</td>\n",
       "      <td>200</td>\n",
       "      <td>3</td>\n",
       "      <td>3</td>\n",
       "      <td>smart</td>\n",
       "    </tr>\n",
       "    <tr>\n",
       "      <th>1</th>\n",
       "      <td>1000</td>\n",
       "      <td>30720</td>\n",
       "      <td>3000</td>\n",
       "      <td>1950</td>\n",
       "      <td>150</td>\n",
       "      <td>1</td>\n",
       "      <td>1</td>\n",
       "      <td>ultra</td>\n",
       "    </tr>\n",
       "  </tbody>\n",
       "</table>\n",
       "</div>"
      ],
      "text/plain": [
       "   messages_included  mb_per_month_included  minutes_included  \\\n",
       "0                 50                  15360               500   \n",
       "1               1000                  30720              3000   \n",
       "\n",
       "   rub_monthly_fee  rub_per_gb  rub_per_message  rub_per_minute tariff_name  \n",
       "0              550         200                3               3       smart  \n",
       "1             1950         150                1               1       ultra  "
      ]
     },
     "execution_count": 133,
     "metadata": {},
     "output_type": "execute_result"
    }
   ],
   "source": [
    "tariffs = pd.read_csv('/datasets/tariffs.csv')\n",
    "tariffs.info()\n",
    "tariffs.head()"
   ]
  },
  {
   "cell_type": "code",
   "execution_count": 134,
   "metadata": {},
   "outputs": [
    {
     "name": "stdout",
     "output_type": "stream",
     "text": [
      "<class 'pandas.core.frame.DataFrame'>\n",
      "RangeIndex: 500 entries, 0 to 499\n",
      "Data columns (total 8 columns):\n",
      " #   Column      Non-Null Count  Dtype \n",
      "---  ------      --------------  ----- \n",
      " 0   user_id     500 non-null    int64 \n",
      " 1   age         500 non-null    int64 \n",
      " 2   churn_date  38 non-null     object\n",
      " 3   city        500 non-null    object\n",
      " 4   first_name  500 non-null    object\n",
      " 5   last_name   500 non-null    object\n",
      " 6   reg_date    500 non-null    object\n",
      " 7   tariff      500 non-null    object\n",
      "dtypes: int64(2), object(6)\n",
      "memory usage: 31.4+ KB\n"
     ]
    },
    {
     "data": {
      "text/html": [
       "<div>\n",
       "<style scoped>\n",
       "    .dataframe tbody tr th:only-of-type {\n",
       "        vertical-align: middle;\n",
       "    }\n",
       "\n",
       "    .dataframe tbody tr th {\n",
       "        vertical-align: top;\n",
       "    }\n",
       "\n",
       "    .dataframe thead th {\n",
       "        text-align: right;\n",
       "    }\n",
       "</style>\n",
       "<table border=\"1\" class=\"dataframe\">\n",
       "  <thead>\n",
       "    <tr style=\"text-align: right;\">\n",
       "      <th></th>\n",
       "      <th>user_id</th>\n",
       "      <th>age</th>\n",
       "      <th>churn_date</th>\n",
       "      <th>city</th>\n",
       "      <th>first_name</th>\n",
       "      <th>last_name</th>\n",
       "      <th>reg_date</th>\n",
       "      <th>tariff</th>\n",
       "    </tr>\n",
       "  </thead>\n",
       "  <tbody>\n",
       "    <tr>\n",
       "      <th>0</th>\n",
       "      <td>1000</td>\n",
       "      <td>52</td>\n",
       "      <td>NaN</td>\n",
       "      <td>Краснодар</td>\n",
       "      <td>Рафаил</td>\n",
       "      <td>Верещагин</td>\n",
       "      <td>2018-05-25</td>\n",
       "      <td>ultra</td>\n",
       "    </tr>\n",
       "    <tr>\n",
       "      <th>1</th>\n",
       "      <td>1001</td>\n",
       "      <td>41</td>\n",
       "      <td>NaN</td>\n",
       "      <td>Москва</td>\n",
       "      <td>Иван</td>\n",
       "      <td>Ежов</td>\n",
       "      <td>2018-11-01</td>\n",
       "      <td>smart</td>\n",
       "    </tr>\n",
       "    <tr>\n",
       "      <th>2</th>\n",
       "      <td>1002</td>\n",
       "      <td>59</td>\n",
       "      <td>NaN</td>\n",
       "      <td>Стерлитамак</td>\n",
       "      <td>Евгений</td>\n",
       "      <td>Абрамович</td>\n",
       "      <td>2018-06-17</td>\n",
       "      <td>smart</td>\n",
       "    </tr>\n",
       "    <tr>\n",
       "      <th>3</th>\n",
       "      <td>1003</td>\n",
       "      <td>23</td>\n",
       "      <td>NaN</td>\n",
       "      <td>Москва</td>\n",
       "      <td>Белла</td>\n",
       "      <td>Белякова</td>\n",
       "      <td>2018-08-17</td>\n",
       "      <td>ultra</td>\n",
       "    </tr>\n",
       "    <tr>\n",
       "      <th>4</th>\n",
       "      <td>1004</td>\n",
       "      <td>68</td>\n",
       "      <td>NaN</td>\n",
       "      <td>Новокузнецк</td>\n",
       "      <td>Татьяна</td>\n",
       "      <td>Авдеенко</td>\n",
       "      <td>2018-05-14</td>\n",
       "      <td>ultra</td>\n",
       "    </tr>\n",
       "  </tbody>\n",
       "</table>\n",
       "</div>"
      ],
      "text/plain": [
       "   user_id  age churn_date         city first_name  last_name    reg_date  \\\n",
       "0     1000   52        NaN    Краснодар     Рафаил  Верещагин  2018-05-25   \n",
       "1     1001   41        NaN       Москва       Иван       Ежов  2018-11-01   \n",
       "2     1002   59        NaN  Стерлитамак    Евгений  Абрамович  2018-06-17   \n",
       "3     1003   23        NaN       Москва      Белла   Белякова  2018-08-17   \n",
       "4     1004   68        NaN  Новокузнецк    Татьяна   Авдеенко  2018-05-14   \n",
       "\n",
       "  tariff  \n",
       "0  ultra  \n",
       "1  smart  \n",
       "2  smart  \n",
       "3  ultra  \n",
       "4  ultra  "
      ]
     },
     "execution_count": 134,
     "metadata": {},
     "output_type": "execute_result"
    }
   ],
   "source": [
    "users = pd.read_csv('/datasets/users.csv')\n",
    "users.info()\n",
    "users.head()"
   ]
  },
  {
   "cell_type": "markdown",
   "metadata": {},
   "source": [
    "Далее нам предстоит этап предобработки данных. Добавим в столбец звонков месяц и сгруппируем таблицу по столбцам month и user_id"
   ]
  },
  {
   "cell_type": "markdown",
   "metadata": {},
   "source": [
    "# Предобработка данных"
   ]
  },
  {
   "cell_type": "code",
   "execution_count": 135,
   "metadata": {},
   "outputs": [
    {
     "data": {
      "text/html": [
       "<div>\n",
       "<style scoped>\n",
       "    .dataframe tbody tr th:only-of-type {\n",
       "        vertical-align: middle;\n",
       "    }\n",
       "\n",
       "    .dataframe tbody tr th {\n",
       "        vertical-align: top;\n",
       "    }\n",
       "\n",
       "    .dataframe thead th {\n",
       "        text-align: right;\n",
       "    }\n",
       "</style>\n",
       "<table border=\"1\" class=\"dataframe\">\n",
       "  <thead>\n",
       "    <tr style=\"text-align: right;\">\n",
       "      <th></th>\n",
       "      <th>id</th>\n",
       "      <th>call_date</th>\n",
       "      <th>duration</th>\n",
       "      <th>user_id</th>\n",
       "    </tr>\n",
       "  </thead>\n",
       "  <tbody>\n",
       "    <tr>\n",
       "      <th>0</th>\n",
       "      <td>1000_0</td>\n",
       "      <td>2018-07-25</td>\n",
       "      <td>0.00</td>\n",
       "      <td>1000</td>\n",
       "    </tr>\n",
       "    <tr>\n",
       "      <th>1</th>\n",
       "      <td>1000_1</td>\n",
       "      <td>2018-08-17</td>\n",
       "      <td>0.00</td>\n",
       "      <td>1000</td>\n",
       "    </tr>\n",
       "    <tr>\n",
       "      <th>2</th>\n",
       "      <td>1000_2</td>\n",
       "      <td>2018-06-11</td>\n",
       "      <td>2.85</td>\n",
       "      <td>1000</td>\n",
       "    </tr>\n",
       "    <tr>\n",
       "      <th>3</th>\n",
       "      <td>1000_3</td>\n",
       "      <td>2018-09-21</td>\n",
       "      <td>13.80</td>\n",
       "      <td>1000</td>\n",
       "    </tr>\n",
       "    <tr>\n",
       "      <th>4</th>\n",
       "      <td>1000_4</td>\n",
       "      <td>2018-12-15</td>\n",
       "      <td>5.18</td>\n",
       "      <td>1000</td>\n",
       "    </tr>\n",
       "  </tbody>\n",
       "</table>\n",
       "</div>"
      ],
      "text/plain": [
       "       id  call_date  duration  user_id\n",
       "0  1000_0 2018-07-25      0.00     1000\n",
       "1  1000_1 2018-08-17      0.00     1000\n",
       "2  1000_2 2018-06-11      2.85     1000\n",
       "3  1000_3 2018-09-21     13.80     1000\n",
       "4  1000_4 2018-12-15      5.18     1000"
      ]
     },
     "execution_count": 135,
     "metadata": {},
     "output_type": "execute_result"
    }
   ],
   "source": [
    "calls['call_date'] = pd.to_datetime(calls['call_date'])\n",
    "calls.head()"
   ]
  },
  {
   "cell_type": "code",
   "execution_count": 136,
   "metadata": {},
   "outputs": [
    {
     "data": {
      "text/html": [
       "<div>\n",
       "<style scoped>\n",
       "    .dataframe tbody tr th:only-of-type {\n",
       "        vertical-align: middle;\n",
       "    }\n",
       "\n",
       "    .dataframe tbody tr th {\n",
       "        vertical-align: top;\n",
       "    }\n",
       "\n",
       "    .dataframe thead th {\n",
       "        text-align: right;\n",
       "    }\n",
       "</style>\n",
       "<table border=\"1\" class=\"dataframe\">\n",
       "  <thead>\n",
       "    <tr style=\"text-align: right;\">\n",
       "      <th></th>\n",
       "      <th>id</th>\n",
       "      <th>call_date</th>\n",
       "      <th>duration</th>\n",
       "      <th>user_id</th>\n",
       "      <th>month</th>\n",
       "    </tr>\n",
       "  </thead>\n",
       "  <tbody>\n",
       "    <tr>\n",
       "      <th>0</th>\n",
       "      <td>1000_0</td>\n",
       "      <td>2018-07-25</td>\n",
       "      <td>0.00</td>\n",
       "      <td>1000</td>\n",
       "      <td>7</td>\n",
       "    </tr>\n",
       "    <tr>\n",
       "      <th>1</th>\n",
       "      <td>1000_1</td>\n",
       "      <td>2018-08-17</td>\n",
       "      <td>0.00</td>\n",
       "      <td>1000</td>\n",
       "      <td>8</td>\n",
       "    </tr>\n",
       "    <tr>\n",
       "      <th>2</th>\n",
       "      <td>1000_2</td>\n",
       "      <td>2018-06-11</td>\n",
       "      <td>2.85</td>\n",
       "      <td>1000</td>\n",
       "      <td>6</td>\n",
       "    </tr>\n",
       "    <tr>\n",
       "      <th>3</th>\n",
       "      <td>1000_3</td>\n",
       "      <td>2018-09-21</td>\n",
       "      <td>13.80</td>\n",
       "      <td>1000</td>\n",
       "      <td>9</td>\n",
       "    </tr>\n",
       "    <tr>\n",
       "      <th>4</th>\n",
       "      <td>1000_4</td>\n",
       "      <td>2018-12-15</td>\n",
       "      <td>5.18</td>\n",
       "      <td>1000</td>\n",
       "      <td>12</td>\n",
       "    </tr>\n",
       "  </tbody>\n",
       "</table>\n",
       "</div>"
      ],
      "text/plain": [
       "       id  call_date  duration  user_id  month\n",
       "0  1000_0 2018-07-25      0.00     1000      7\n",
       "1  1000_1 2018-08-17      0.00     1000      8\n",
       "2  1000_2 2018-06-11      2.85     1000      6\n",
       "3  1000_3 2018-09-21     13.80     1000      9\n",
       "4  1000_4 2018-12-15      5.18     1000     12"
      ]
     },
     "execution_count": 136,
     "metadata": {},
     "output_type": "execute_result"
    }
   ],
   "source": [
    "calls['month'] = calls['call_date'].dt.month\n",
    "calls.head()"
   ]
  },
  {
   "cell_type": "code",
   "execution_count": 137,
   "metadata": {},
   "outputs": [
    {
     "data": {
      "text/html": [
       "<div>\n",
       "<style scoped>\n",
       "    .dataframe tbody tr th:only-of-type {\n",
       "        vertical-align: middle;\n",
       "    }\n",
       "\n",
       "    .dataframe tbody tr th {\n",
       "        vertical-align: top;\n",
       "    }\n",
       "\n",
       "    .dataframe thead th {\n",
       "        text-align: right;\n",
       "    }\n",
       "</style>\n",
       "<table border=\"1\" class=\"dataframe\">\n",
       "  <thead>\n",
       "    <tr style=\"text-align: right;\">\n",
       "      <th></th>\n",
       "      <th>user_id</th>\n",
       "      <th>age</th>\n",
       "      <th>churn_date</th>\n",
       "      <th>city</th>\n",
       "      <th>first_name</th>\n",
       "      <th>last_name</th>\n",
       "      <th>reg_date</th>\n",
       "      <th>tariff</th>\n",
       "    </tr>\n",
       "  </thead>\n",
       "  <tbody>\n",
       "    <tr>\n",
       "      <th>0</th>\n",
       "      <td>1000</td>\n",
       "      <td>52</td>\n",
       "      <td>NaN</td>\n",
       "      <td>Краснодар</td>\n",
       "      <td>Рафаил</td>\n",
       "      <td>Верещагин</td>\n",
       "      <td>2018-05-25</td>\n",
       "      <td>ultra</td>\n",
       "    </tr>\n",
       "    <tr>\n",
       "      <th>1</th>\n",
       "      <td>1001</td>\n",
       "      <td>41</td>\n",
       "      <td>NaN</td>\n",
       "      <td>Москва</td>\n",
       "      <td>Иван</td>\n",
       "      <td>Ежов</td>\n",
       "      <td>2018-11-01</td>\n",
       "      <td>smart</td>\n",
       "    </tr>\n",
       "    <tr>\n",
       "      <th>2</th>\n",
       "      <td>1002</td>\n",
       "      <td>59</td>\n",
       "      <td>NaN</td>\n",
       "      <td>Стерлитамак</td>\n",
       "      <td>Евгений</td>\n",
       "      <td>Абрамович</td>\n",
       "      <td>2018-06-17</td>\n",
       "      <td>smart</td>\n",
       "    </tr>\n",
       "    <tr>\n",
       "      <th>3</th>\n",
       "      <td>1003</td>\n",
       "      <td>23</td>\n",
       "      <td>NaN</td>\n",
       "      <td>Москва</td>\n",
       "      <td>Белла</td>\n",
       "      <td>Белякова</td>\n",
       "      <td>2018-08-17</td>\n",
       "      <td>ultra</td>\n",
       "    </tr>\n",
       "    <tr>\n",
       "      <th>4</th>\n",
       "      <td>1004</td>\n",
       "      <td>68</td>\n",
       "      <td>NaN</td>\n",
       "      <td>Новокузнецк</td>\n",
       "      <td>Татьяна</td>\n",
       "      <td>Авдеенко</td>\n",
       "      <td>2018-05-14</td>\n",
       "      <td>ultra</td>\n",
       "    </tr>\n",
       "  </tbody>\n",
       "</table>\n",
       "</div>"
      ],
      "text/plain": [
       "   user_id  age churn_date         city first_name  last_name   reg_date  \\\n",
       "0     1000   52        NaN    Краснодар     Рафаил  Верещагин 2018-05-25   \n",
       "1     1001   41        NaN       Москва       Иван       Ежов 2018-11-01   \n",
       "2     1002   59        NaN  Стерлитамак    Евгений  Абрамович 2018-06-17   \n",
       "3     1003   23        NaN       Москва      Белла   Белякова 2018-08-17   \n",
       "4     1004   68        NaN  Новокузнецк    Татьяна   Авдеенко 2018-05-14   \n",
       "\n",
       "  tariff  \n",
       "0  ultra  \n",
       "1  smart  \n",
       "2  smart  \n",
       "3  ultra  \n",
       "4  ultra  "
      ]
     },
     "execution_count": 137,
     "metadata": {},
     "output_type": "execute_result"
    }
   ],
   "source": [
    "users['reg_date'] = pd.to_datetime(users['reg_date'])\n",
    "users.head()"
   ]
  },
  {
   "cell_type": "code",
   "execution_count": 138,
   "metadata": {},
   "outputs": [
    {
     "data": {
      "text/html": [
       "<div>\n",
       "<style scoped>\n",
       "    .dataframe tbody tr th:only-of-type {\n",
       "        vertical-align: middle;\n",
       "    }\n",
       "\n",
       "    .dataframe tbody tr th {\n",
       "        vertical-align: top;\n",
       "    }\n",
       "\n",
       "    .dataframe thead th {\n",
       "        text-align: right;\n",
       "    }\n",
       "</style>\n",
       "<table border=\"1\" class=\"dataframe\">\n",
       "  <thead>\n",
       "    <tr style=\"text-align: right;\">\n",
       "      <th></th>\n",
       "      <th>user_id</th>\n",
       "      <th>age</th>\n",
       "      <th>churn_date</th>\n",
       "      <th>city</th>\n",
       "      <th>first_name</th>\n",
       "      <th>last_name</th>\n",
       "      <th>reg_date</th>\n",
       "      <th>tariff</th>\n",
       "      <th>month</th>\n",
       "    </tr>\n",
       "  </thead>\n",
       "  <tbody>\n",
       "    <tr>\n",
       "      <th>0</th>\n",
       "      <td>1000</td>\n",
       "      <td>52</td>\n",
       "      <td>NaN</td>\n",
       "      <td>Краснодар</td>\n",
       "      <td>Рафаил</td>\n",
       "      <td>Верещагин</td>\n",
       "      <td>2018-05-25</td>\n",
       "      <td>ultra</td>\n",
       "      <td>5</td>\n",
       "    </tr>\n",
       "    <tr>\n",
       "      <th>1</th>\n",
       "      <td>1001</td>\n",
       "      <td>41</td>\n",
       "      <td>NaN</td>\n",
       "      <td>Москва</td>\n",
       "      <td>Иван</td>\n",
       "      <td>Ежов</td>\n",
       "      <td>2018-11-01</td>\n",
       "      <td>smart</td>\n",
       "      <td>11</td>\n",
       "    </tr>\n",
       "    <tr>\n",
       "      <th>2</th>\n",
       "      <td>1002</td>\n",
       "      <td>59</td>\n",
       "      <td>NaN</td>\n",
       "      <td>Стерлитамак</td>\n",
       "      <td>Евгений</td>\n",
       "      <td>Абрамович</td>\n",
       "      <td>2018-06-17</td>\n",
       "      <td>smart</td>\n",
       "      <td>6</td>\n",
       "    </tr>\n",
       "    <tr>\n",
       "      <th>3</th>\n",
       "      <td>1003</td>\n",
       "      <td>23</td>\n",
       "      <td>NaN</td>\n",
       "      <td>Москва</td>\n",
       "      <td>Белла</td>\n",
       "      <td>Белякова</td>\n",
       "      <td>2018-08-17</td>\n",
       "      <td>ultra</td>\n",
       "      <td>8</td>\n",
       "    </tr>\n",
       "    <tr>\n",
       "      <th>4</th>\n",
       "      <td>1004</td>\n",
       "      <td>68</td>\n",
       "      <td>NaN</td>\n",
       "      <td>Новокузнецк</td>\n",
       "      <td>Татьяна</td>\n",
       "      <td>Авдеенко</td>\n",
       "      <td>2018-05-14</td>\n",
       "      <td>ultra</td>\n",
       "      <td>5</td>\n",
       "    </tr>\n",
       "  </tbody>\n",
       "</table>\n",
       "</div>"
      ],
      "text/plain": [
       "   user_id  age churn_date         city first_name  last_name   reg_date  \\\n",
       "0     1000   52        NaN    Краснодар     Рафаил  Верещагин 2018-05-25   \n",
       "1     1001   41        NaN       Москва       Иван       Ежов 2018-11-01   \n",
       "2     1002   59        NaN  Стерлитамак    Евгений  Абрамович 2018-06-17   \n",
       "3     1003   23        NaN       Москва      Белла   Белякова 2018-08-17   \n",
       "4     1004   68        NaN  Новокузнецк    Татьяна   Авдеенко 2018-05-14   \n",
       "\n",
       "  tariff  month  \n",
       "0  ultra      5  \n",
       "1  smart     11  \n",
       "2  smart      6  \n",
       "3  ultra      8  \n",
       "4  ultra      5  "
      ]
     },
     "execution_count": 138,
     "metadata": {},
     "output_type": "execute_result"
    }
   ],
   "source": [
    "users['month'] = users['reg_date'].dt.month\n",
    "users.head()"
   ]
  },
  {
   "cell_type": "code",
   "execution_count": 139,
   "metadata": {},
   "outputs": [
    {
     "name": "stdout",
     "output_type": "stream",
     "text": [
      "<class 'pandas.core.frame.DataFrame'>\n",
      "RangeIndex: 202607 entries, 0 to 202606\n",
      "Data columns (total 5 columns):\n",
      " #   Column     Non-Null Count   Dtype         \n",
      "---  ------     --------------   -----         \n",
      " 0   id         202607 non-null  object        \n",
      " 1   call_date  202607 non-null  datetime64[ns]\n",
      " 2   duration   202607 non-null  float64       \n",
      " 3   user_id    202607 non-null  int64         \n",
      " 4   month      202607 non-null  int64         \n",
      "dtypes: datetime64[ns](1), float64(1), int64(2), object(1)\n",
      "memory usage: 7.7+ MB\n"
     ]
    },
    {
     "data": {
      "text/html": [
       "<div>\n",
       "<style scoped>\n",
       "    .dataframe tbody tr th:only-of-type {\n",
       "        vertical-align: middle;\n",
       "    }\n",
       "\n",
       "    .dataframe tbody tr th {\n",
       "        vertical-align: top;\n",
       "    }\n",
       "\n",
       "    .dataframe thead th {\n",
       "        text-align: right;\n",
       "    }\n",
       "</style>\n",
       "<table border=\"1\" class=\"dataframe\">\n",
       "  <thead>\n",
       "    <tr style=\"text-align: right;\">\n",
       "      <th></th>\n",
       "      <th>id</th>\n",
       "      <th>call_date</th>\n",
       "      <th>duration</th>\n",
       "      <th>user_id</th>\n",
       "      <th>month</th>\n",
       "    </tr>\n",
       "  </thead>\n",
       "  <tbody>\n",
       "    <tr>\n",
       "      <th>0</th>\n",
       "      <td>1000_0</td>\n",
       "      <td>2018-07-25</td>\n",
       "      <td>0.0</td>\n",
       "      <td>1000</td>\n",
       "      <td>7</td>\n",
       "    </tr>\n",
       "    <tr>\n",
       "      <th>1</th>\n",
       "      <td>1000_1</td>\n",
       "      <td>2018-08-17</td>\n",
       "      <td>0.0</td>\n",
       "      <td>1000</td>\n",
       "      <td>8</td>\n",
       "    </tr>\n",
       "    <tr>\n",
       "      <th>2</th>\n",
       "      <td>1000_2</td>\n",
       "      <td>2018-06-11</td>\n",
       "      <td>3.0</td>\n",
       "      <td>1000</td>\n",
       "      <td>6</td>\n",
       "    </tr>\n",
       "    <tr>\n",
       "      <th>3</th>\n",
       "      <td>1000_3</td>\n",
       "      <td>2018-09-21</td>\n",
       "      <td>14.0</td>\n",
       "      <td>1000</td>\n",
       "      <td>9</td>\n",
       "    </tr>\n",
       "    <tr>\n",
       "      <th>4</th>\n",
       "      <td>1000_4</td>\n",
       "      <td>2018-12-15</td>\n",
       "      <td>6.0</td>\n",
       "      <td>1000</td>\n",
       "      <td>12</td>\n",
       "    </tr>\n",
       "  </tbody>\n",
       "</table>\n",
       "</div>"
      ],
      "text/plain": [
       "       id  call_date  duration  user_id  month\n",
       "0  1000_0 2018-07-25       0.0     1000      7\n",
       "1  1000_1 2018-08-17       0.0     1000      8\n",
       "2  1000_2 2018-06-11       3.0     1000      6\n",
       "3  1000_3 2018-09-21      14.0     1000      9\n",
       "4  1000_4 2018-12-15       6.0     1000     12"
      ]
     },
     "execution_count": 139,
     "metadata": {},
     "output_type": "execute_result"
    }
   ],
   "source": [
    "import numpy as np\n",
    "x = calls['duration']\n",
    "calls['duration'] = np.ceil(x)\n",
    "calls.info()\n",
    "calls.head(5)"
   ]
  },
  {
   "cell_type": "code",
   "execution_count": 140,
   "metadata": {},
   "outputs": [
    {
     "data": {
      "text/html": [
       "<div>\n",
       "<style scoped>\n",
       "    .dataframe tbody tr th:only-of-type {\n",
       "        vertical-align: middle;\n",
       "    }\n",
       "\n",
       "    .dataframe tbody tr th {\n",
       "        vertical-align: top;\n",
       "    }\n",
       "\n",
       "    .dataframe thead tr th {\n",
       "        text-align: left;\n",
       "    }\n",
       "</style>\n",
       "<table border=\"1\" class=\"dataframe\">\n",
       "  <thead>\n",
       "    <tr>\n",
       "      <th></th>\n",
       "      <th>month</th>\n",
       "      <th>user_id</th>\n",
       "      <th>count</th>\n",
       "      <th>sum</th>\n",
       "    </tr>\n",
       "    <tr>\n",
       "      <th></th>\n",
       "      <th></th>\n",
       "      <th></th>\n",
       "      <th>duration</th>\n",
       "      <th>duration</th>\n",
       "    </tr>\n",
       "  </thead>\n",
       "  <tbody>\n",
       "    <tr>\n",
       "      <th>0</th>\n",
       "      <td>1</td>\n",
       "      <td>1005</td>\n",
       "      <td>15</td>\n",
       "      <td>95.0</td>\n",
       "    </tr>\n",
       "    <tr>\n",
       "      <th>1</th>\n",
       "      <td>1</td>\n",
       "      <td>1032</td>\n",
       "      <td>61</td>\n",
       "      <td>380.0</td>\n",
       "    </tr>\n",
       "    <tr>\n",
       "      <th>2</th>\n",
       "      <td>1</td>\n",
       "      <td>1045</td>\n",
       "      <td>1</td>\n",
       "      <td>9.0</td>\n",
       "    </tr>\n",
       "    <tr>\n",
       "      <th>3</th>\n",
       "      <td>1</td>\n",
       "      <td>1055</td>\n",
       "      <td>64</td>\n",
       "      <td>551.0</td>\n",
       "    </tr>\n",
       "    <tr>\n",
       "      <th>4</th>\n",
       "      <td>1</td>\n",
       "      <td>1071</td>\n",
       "      <td>24</td>\n",
       "      <td>194.0</td>\n",
       "    </tr>\n",
       "  </tbody>\n",
       "</table>\n",
       "</div>"
      ],
      "text/plain": [
       "  month user_id    count      sum\n",
       "                duration duration\n",
       "0     1    1005       15     95.0\n",
       "1     1    1032       61    380.0\n",
       "2     1    1045        1      9.0\n",
       "3     1    1055       64    551.0\n",
       "4     1    1071       24    194.0"
      ]
     },
     "execution_count": 140,
     "metadata": {},
     "output_type": "execute_result"
    }
   ],
   "source": [
    "calls_df = calls.pivot_table(index = ['month', 'user_id'], values = 'duration', aggfunc =['count', 'sum']).reset_index()\n",
    "calls_df.head()"
   ]
  },
  {
   "cell_type": "markdown",
   "metadata": {},
   "source": [
    "Убираем \"двухэтажные\" названия столбцов"
   ]
  },
  {
   "cell_type": "code",
   "execution_count": 141,
   "metadata": {},
   "outputs": [
    {
     "data": {
      "text/html": [
       "<div>\n",
       "<style scoped>\n",
       "    .dataframe tbody tr th:only-of-type {\n",
       "        vertical-align: middle;\n",
       "    }\n",
       "\n",
       "    .dataframe tbody tr th {\n",
       "        vertical-align: top;\n",
       "    }\n",
       "\n",
       "    .dataframe thead th {\n",
       "        text-align: right;\n",
       "    }\n",
       "</style>\n",
       "<table border=\"1\" class=\"dataframe\">\n",
       "  <thead>\n",
       "    <tr style=\"text-align: right;\">\n",
       "      <th></th>\n",
       "      <th>month</th>\n",
       "      <th>user_id</th>\n",
       "      <th>call_count</th>\n",
       "      <th>call_sum</th>\n",
       "    </tr>\n",
       "  </thead>\n",
       "  <tbody>\n",
       "    <tr>\n",
       "      <th>0</th>\n",
       "      <td>1</td>\n",
       "      <td>1005</td>\n",
       "      <td>15</td>\n",
       "      <td>95.0</td>\n",
       "    </tr>\n",
       "    <tr>\n",
       "      <th>1</th>\n",
       "      <td>1</td>\n",
       "      <td>1032</td>\n",
       "      <td>61</td>\n",
       "      <td>380.0</td>\n",
       "    </tr>\n",
       "    <tr>\n",
       "      <th>2</th>\n",
       "      <td>1</td>\n",
       "      <td>1045</td>\n",
       "      <td>1</td>\n",
       "      <td>9.0</td>\n",
       "    </tr>\n",
       "    <tr>\n",
       "      <th>3</th>\n",
       "      <td>1</td>\n",
       "      <td>1055</td>\n",
       "      <td>64</td>\n",
       "      <td>551.0</td>\n",
       "    </tr>\n",
       "    <tr>\n",
       "      <th>4</th>\n",
       "      <td>1</td>\n",
       "      <td>1071</td>\n",
       "      <td>24</td>\n",
       "      <td>194.0</td>\n",
       "    </tr>\n",
       "  </tbody>\n",
       "</table>\n",
       "</div>"
      ],
      "text/plain": [
       "   month  user_id  call_count  call_sum\n",
       "0      1     1005          15      95.0\n",
       "1      1     1032          61     380.0\n",
       "2      1     1045           1       9.0\n",
       "3      1     1055          64     551.0\n",
       "4      1     1071          24     194.0"
      ]
     },
     "execution_count": 141,
     "metadata": {},
     "output_type": "execute_result"
    }
   ],
   "source": [
    "calls_df.columns=['month','user_id','call_count', 'call_sum']\n",
    "calls_df.head()"
   ]
  },
  {
   "cell_type": "markdown",
   "metadata": {},
   "source": [
    "Аналогичную операцию проведем с другими столбцами "
   ]
  },
  {
   "cell_type": "code",
   "execution_count": 142,
   "metadata": {},
   "outputs": [
    {
     "data": {
      "text/html": [
       "<div>\n",
       "<style scoped>\n",
       "    .dataframe tbody tr th:only-of-type {\n",
       "        vertical-align: middle;\n",
       "    }\n",
       "\n",
       "    .dataframe tbody tr th {\n",
       "        vertical-align: top;\n",
       "    }\n",
       "\n",
       "    .dataframe thead th {\n",
       "        text-align: right;\n",
       "    }\n",
       "</style>\n",
       "<table border=\"1\" class=\"dataframe\">\n",
       "  <thead>\n",
       "    <tr style=\"text-align: right;\">\n",
       "      <th></th>\n",
       "      <th>Unnamed: 0</th>\n",
       "      <th>id</th>\n",
       "      <th>mb_used</th>\n",
       "      <th>session_date</th>\n",
       "      <th>user_id</th>\n",
       "    </tr>\n",
       "  </thead>\n",
       "  <tbody>\n",
       "    <tr>\n",
       "      <th>0</th>\n",
       "      <td>0</td>\n",
       "      <td>1000_0</td>\n",
       "      <td>112.95</td>\n",
       "      <td>2018-11-25</td>\n",
       "      <td>1000</td>\n",
       "    </tr>\n",
       "    <tr>\n",
       "      <th>1</th>\n",
       "      <td>1</td>\n",
       "      <td>1000_1</td>\n",
       "      <td>1052.81</td>\n",
       "      <td>2018-09-07</td>\n",
       "      <td>1000</td>\n",
       "    </tr>\n",
       "    <tr>\n",
       "      <th>2</th>\n",
       "      <td>2</td>\n",
       "      <td>1000_2</td>\n",
       "      <td>1197.26</td>\n",
       "      <td>2018-06-25</td>\n",
       "      <td>1000</td>\n",
       "    </tr>\n",
       "    <tr>\n",
       "      <th>3</th>\n",
       "      <td>3</td>\n",
       "      <td>1000_3</td>\n",
       "      <td>550.27</td>\n",
       "      <td>2018-08-22</td>\n",
       "      <td>1000</td>\n",
       "    </tr>\n",
       "    <tr>\n",
       "      <th>4</th>\n",
       "      <td>4</td>\n",
       "      <td>1000_4</td>\n",
       "      <td>302.56</td>\n",
       "      <td>2018-09-24</td>\n",
       "      <td>1000</td>\n",
       "    </tr>\n",
       "  </tbody>\n",
       "</table>\n",
       "</div>"
      ],
      "text/plain": [
       "   Unnamed: 0      id  mb_used session_date  user_id\n",
       "0           0  1000_0   112.95   2018-11-25     1000\n",
       "1           1  1000_1  1052.81   2018-09-07     1000\n",
       "2           2  1000_2  1197.26   2018-06-25     1000\n",
       "3           3  1000_3   550.27   2018-08-22     1000\n",
       "4           4  1000_4   302.56   2018-09-24     1000"
      ]
     },
     "execution_count": 142,
     "metadata": {},
     "output_type": "execute_result"
    }
   ],
   "source": [
    "internet['session_date'] = pd.to_datetime(internet['session_date'])\n",
    "internet.head()"
   ]
  },
  {
   "cell_type": "code",
   "execution_count": 143,
   "metadata": {},
   "outputs": [
    {
     "data": {
      "text/html": [
       "<div>\n",
       "<style scoped>\n",
       "    .dataframe tbody tr th:only-of-type {\n",
       "        vertical-align: middle;\n",
       "    }\n",
       "\n",
       "    .dataframe tbody tr th {\n",
       "        vertical-align: top;\n",
       "    }\n",
       "\n",
       "    .dataframe thead th {\n",
       "        text-align: right;\n",
       "    }\n",
       "</style>\n",
       "<table border=\"1\" class=\"dataframe\">\n",
       "  <thead>\n",
       "    <tr style=\"text-align: right;\">\n",
       "      <th></th>\n",
       "      <th>Unnamed: 0</th>\n",
       "      <th>id</th>\n",
       "      <th>mb_used</th>\n",
       "      <th>session_date</th>\n",
       "      <th>user_id</th>\n",
       "      <th>month</th>\n",
       "    </tr>\n",
       "  </thead>\n",
       "  <tbody>\n",
       "    <tr>\n",
       "      <th>0</th>\n",
       "      <td>0</td>\n",
       "      <td>1000_0</td>\n",
       "      <td>112.95</td>\n",
       "      <td>2018-11-25</td>\n",
       "      <td>1000</td>\n",
       "      <td>11</td>\n",
       "    </tr>\n",
       "    <tr>\n",
       "      <th>1</th>\n",
       "      <td>1</td>\n",
       "      <td>1000_1</td>\n",
       "      <td>1052.81</td>\n",
       "      <td>2018-09-07</td>\n",
       "      <td>1000</td>\n",
       "      <td>9</td>\n",
       "    </tr>\n",
       "    <tr>\n",
       "      <th>2</th>\n",
       "      <td>2</td>\n",
       "      <td>1000_2</td>\n",
       "      <td>1197.26</td>\n",
       "      <td>2018-06-25</td>\n",
       "      <td>1000</td>\n",
       "      <td>6</td>\n",
       "    </tr>\n",
       "    <tr>\n",
       "      <th>3</th>\n",
       "      <td>3</td>\n",
       "      <td>1000_3</td>\n",
       "      <td>550.27</td>\n",
       "      <td>2018-08-22</td>\n",
       "      <td>1000</td>\n",
       "      <td>8</td>\n",
       "    </tr>\n",
       "    <tr>\n",
       "      <th>4</th>\n",
       "      <td>4</td>\n",
       "      <td>1000_4</td>\n",
       "      <td>302.56</td>\n",
       "      <td>2018-09-24</td>\n",
       "      <td>1000</td>\n",
       "      <td>9</td>\n",
       "    </tr>\n",
       "  </tbody>\n",
       "</table>\n",
       "</div>"
      ],
      "text/plain": [
       "   Unnamed: 0      id  mb_used session_date  user_id  month\n",
       "0           0  1000_0   112.95   2018-11-25     1000     11\n",
       "1           1  1000_1  1052.81   2018-09-07     1000      9\n",
       "2           2  1000_2  1197.26   2018-06-25     1000      6\n",
       "3           3  1000_3   550.27   2018-08-22     1000      8\n",
       "4           4  1000_4   302.56   2018-09-24     1000      9"
      ]
     },
     "execution_count": 143,
     "metadata": {},
     "output_type": "execute_result"
    }
   ],
   "source": [
    "internet['month'] = internet['session_date'].dt.month\n",
    "internet.head()"
   ]
  },
  {
   "cell_type": "code",
   "execution_count": 144,
   "metadata": {},
   "outputs": [
    {
     "data": {
      "text/html": [
       "<div>\n",
       "<style scoped>\n",
       "    .dataframe tbody tr th:only-of-type {\n",
       "        vertical-align: middle;\n",
       "    }\n",
       "\n",
       "    .dataframe tbody tr th {\n",
       "        vertical-align: top;\n",
       "    }\n",
       "\n",
       "    .dataframe thead tr th {\n",
       "        text-align: left;\n",
       "    }\n",
       "</style>\n",
       "<table border=\"1\" class=\"dataframe\">\n",
       "  <thead>\n",
       "    <tr>\n",
       "      <th></th>\n",
       "      <th>month</th>\n",
       "      <th>user_id</th>\n",
       "      <th>count</th>\n",
       "      <th>sum</th>\n",
       "    </tr>\n",
       "    <tr>\n",
       "      <th></th>\n",
       "      <th></th>\n",
       "      <th></th>\n",
       "      <th>mb_used</th>\n",
       "      <th>mb_used</th>\n",
       "    </tr>\n",
       "  </thead>\n",
       "  <tbody>\n",
       "    <tr>\n",
       "      <th>0</th>\n",
       "      <td>1</td>\n",
       "      <td>1005</td>\n",
       "      <td>6</td>\n",
       "      <td>2727.97</td>\n",
       "    </tr>\n",
       "    <tr>\n",
       "      <th>1</th>\n",
       "      <td>1</td>\n",
       "      <td>1032</td>\n",
       "      <td>62</td>\n",
       "      <td>24127.69</td>\n",
       "    </tr>\n",
       "    <tr>\n",
       "      <th>2</th>\n",
       "      <td>1</td>\n",
       "      <td>1045</td>\n",
       "      <td>5</td>\n",
       "      <td>2346.71</td>\n",
       "    </tr>\n",
       "    <tr>\n",
       "      <th>3</th>\n",
       "      <td>1</td>\n",
       "      <td>1055</td>\n",
       "      <td>47</td>\n",
       "      <td>17090.88</td>\n",
       "    </tr>\n",
       "    <tr>\n",
       "      <th>4</th>\n",
       "      <td>1</td>\n",
       "      <td>1071</td>\n",
       "      <td>40</td>\n",
       "      <td>15604.34</td>\n",
       "    </tr>\n",
       "  </tbody>\n",
       "</table>\n",
       "</div>"
      ],
      "text/plain": [
       "  month user_id   count       sum\n",
       "                mb_used   mb_used\n",
       "0     1    1005       6   2727.97\n",
       "1     1    1032      62  24127.69\n",
       "2     1    1045       5   2346.71\n",
       "3     1    1055      47  17090.88\n",
       "4     1    1071      40  15604.34"
      ]
     },
     "execution_count": 144,
     "metadata": {},
     "output_type": "execute_result"
    }
   ],
   "source": [
    "internet_df = internet.pivot_table(index = ['month', 'user_id'], values = 'mb_used', aggfunc =['count', 'sum']).reset_index()\n",
    "internet_df.head()"
   ]
  },
  {
   "cell_type": "code",
   "execution_count": 145,
   "metadata": {},
   "outputs": [
    {
     "data": {
      "text/html": [
       "<div>\n",
       "<style scoped>\n",
       "    .dataframe tbody tr th:only-of-type {\n",
       "        vertical-align: middle;\n",
       "    }\n",
       "\n",
       "    .dataframe tbody tr th {\n",
       "        vertical-align: top;\n",
       "    }\n",
       "\n",
       "    .dataframe thead th {\n",
       "        text-align: right;\n",
       "    }\n",
       "</style>\n",
       "<table border=\"1\" class=\"dataframe\">\n",
       "  <thead>\n",
       "    <tr style=\"text-align: right;\">\n",
       "      <th></th>\n",
       "      <th>month</th>\n",
       "      <th>user_id</th>\n",
       "      <th>inet_count</th>\n",
       "      <th>inet_sum</th>\n",
       "    </tr>\n",
       "  </thead>\n",
       "  <tbody>\n",
       "    <tr>\n",
       "      <th>0</th>\n",
       "      <td>1</td>\n",
       "      <td>1005</td>\n",
       "      <td>6</td>\n",
       "      <td>2727.97</td>\n",
       "    </tr>\n",
       "    <tr>\n",
       "      <th>1</th>\n",
       "      <td>1</td>\n",
       "      <td>1032</td>\n",
       "      <td>62</td>\n",
       "      <td>24127.69</td>\n",
       "    </tr>\n",
       "    <tr>\n",
       "      <th>2</th>\n",
       "      <td>1</td>\n",
       "      <td>1045</td>\n",
       "      <td>5</td>\n",
       "      <td>2346.71</td>\n",
       "    </tr>\n",
       "    <tr>\n",
       "      <th>3</th>\n",
       "      <td>1</td>\n",
       "      <td>1055</td>\n",
       "      <td>47</td>\n",
       "      <td>17090.88</td>\n",
       "    </tr>\n",
       "    <tr>\n",
       "      <th>4</th>\n",
       "      <td>1</td>\n",
       "      <td>1071</td>\n",
       "      <td>40</td>\n",
       "      <td>15604.34</td>\n",
       "    </tr>\n",
       "  </tbody>\n",
       "</table>\n",
       "</div>"
      ],
      "text/plain": [
       "   month  user_id  inet_count  inet_sum\n",
       "0      1     1005           6   2727.97\n",
       "1      1     1032          62  24127.69\n",
       "2      1     1045           5   2346.71\n",
       "3      1     1055          47  17090.88\n",
       "4      1     1071          40  15604.34"
      ]
     },
     "execution_count": 145,
     "metadata": {},
     "output_type": "execute_result"
    }
   ],
   "source": [
    "internet_df.columns=['month','user_id','inet_count', 'inet_sum']\n",
    "internet_df.head()"
   ]
  },
  {
   "cell_type": "code",
   "execution_count": 146,
   "metadata": {},
   "outputs": [
    {
     "data": {
      "text/html": [
       "<div>\n",
       "<style scoped>\n",
       "    .dataframe tbody tr th:only-of-type {\n",
       "        vertical-align: middle;\n",
       "    }\n",
       "\n",
       "    .dataframe tbody tr th {\n",
       "        vertical-align: top;\n",
       "    }\n",
       "\n",
       "    .dataframe thead th {\n",
       "        text-align: right;\n",
       "    }\n",
       "</style>\n",
       "<table border=\"1\" class=\"dataframe\">\n",
       "  <thead>\n",
       "    <tr style=\"text-align: right;\">\n",
       "      <th></th>\n",
       "      <th>id</th>\n",
       "      <th>message_date</th>\n",
       "      <th>user_id</th>\n",
       "    </tr>\n",
       "  </thead>\n",
       "  <tbody>\n",
       "    <tr>\n",
       "      <th>0</th>\n",
       "      <td>1000_0</td>\n",
       "      <td>2018-06-27</td>\n",
       "      <td>1000</td>\n",
       "    </tr>\n",
       "    <tr>\n",
       "      <th>1</th>\n",
       "      <td>1000_1</td>\n",
       "      <td>2018-10-08</td>\n",
       "      <td>1000</td>\n",
       "    </tr>\n",
       "    <tr>\n",
       "      <th>2</th>\n",
       "      <td>1000_2</td>\n",
       "      <td>2018-08-04</td>\n",
       "      <td>1000</td>\n",
       "    </tr>\n",
       "    <tr>\n",
       "      <th>3</th>\n",
       "      <td>1000_3</td>\n",
       "      <td>2018-06-16</td>\n",
       "      <td>1000</td>\n",
       "    </tr>\n",
       "    <tr>\n",
       "      <th>4</th>\n",
       "      <td>1000_4</td>\n",
       "      <td>2018-12-05</td>\n",
       "      <td>1000</td>\n",
       "    </tr>\n",
       "  </tbody>\n",
       "</table>\n",
       "</div>"
      ],
      "text/plain": [
       "       id message_date  user_id\n",
       "0  1000_0   2018-06-27     1000\n",
       "1  1000_1   2018-10-08     1000\n",
       "2  1000_2   2018-08-04     1000\n",
       "3  1000_3   2018-06-16     1000\n",
       "4  1000_4   2018-12-05     1000"
      ]
     },
     "execution_count": 146,
     "metadata": {},
     "output_type": "execute_result"
    }
   ],
   "source": [
    "messages['message_date'] = pd.to_datetime(messages['message_date'])\n",
    "messages.head()"
   ]
  },
  {
   "cell_type": "code",
   "execution_count": 147,
   "metadata": {},
   "outputs": [
    {
     "data": {
      "text/html": [
       "<div>\n",
       "<style scoped>\n",
       "    .dataframe tbody tr th:only-of-type {\n",
       "        vertical-align: middle;\n",
       "    }\n",
       "\n",
       "    .dataframe tbody tr th {\n",
       "        vertical-align: top;\n",
       "    }\n",
       "\n",
       "    .dataframe thead th {\n",
       "        text-align: right;\n",
       "    }\n",
       "</style>\n",
       "<table border=\"1\" class=\"dataframe\">\n",
       "  <thead>\n",
       "    <tr style=\"text-align: right;\">\n",
       "      <th></th>\n",
       "      <th>id</th>\n",
       "      <th>message_date</th>\n",
       "      <th>user_id</th>\n",
       "      <th>month</th>\n",
       "    </tr>\n",
       "  </thead>\n",
       "  <tbody>\n",
       "    <tr>\n",
       "      <th>0</th>\n",
       "      <td>1000_0</td>\n",
       "      <td>2018-06-27</td>\n",
       "      <td>1000</td>\n",
       "      <td>6</td>\n",
       "    </tr>\n",
       "    <tr>\n",
       "      <th>1</th>\n",
       "      <td>1000_1</td>\n",
       "      <td>2018-10-08</td>\n",
       "      <td>1000</td>\n",
       "      <td>10</td>\n",
       "    </tr>\n",
       "    <tr>\n",
       "      <th>2</th>\n",
       "      <td>1000_2</td>\n",
       "      <td>2018-08-04</td>\n",
       "      <td>1000</td>\n",
       "      <td>8</td>\n",
       "    </tr>\n",
       "    <tr>\n",
       "      <th>3</th>\n",
       "      <td>1000_3</td>\n",
       "      <td>2018-06-16</td>\n",
       "      <td>1000</td>\n",
       "      <td>6</td>\n",
       "    </tr>\n",
       "    <tr>\n",
       "      <th>4</th>\n",
       "      <td>1000_4</td>\n",
       "      <td>2018-12-05</td>\n",
       "      <td>1000</td>\n",
       "      <td>12</td>\n",
       "    </tr>\n",
       "  </tbody>\n",
       "</table>\n",
       "</div>"
      ],
      "text/plain": [
       "       id message_date  user_id  month\n",
       "0  1000_0   2018-06-27     1000      6\n",
       "1  1000_1   2018-10-08     1000     10\n",
       "2  1000_2   2018-08-04     1000      8\n",
       "3  1000_3   2018-06-16     1000      6\n",
       "4  1000_4   2018-12-05     1000     12"
      ]
     },
     "execution_count": 147,
     "metadata": {},
     "output_type": "execute_result"
    }
   ],
   "source": [
    "messages['month'] = messages['message_date'].dt.month\n",
    "messages.head()"
   ]
  },
  {
   "cell_type": "code",
   "execution_count": 148,
   "metadata": {},
   "outputs": [
    {
     "name": "stdout",
     "output_type": "stream",
     "text": [
      "<class 'pandas.core.frame.DataFrame'>\n",
      "RangeIndex: 2717 entries, 0 to 2716\n",
      "Data columns (total 3 columns):\n",
      " #   Column       Non-Null Count  Dtype\n",
      "---  ------       --------------  -----\n",
      " 0   (month, )    2717 non-null   int64\n",
      " 1   (user_id, )  2717 non-null   int64\n",
      " 2   (count, id)  2717 non-null   int64\n",
      "dtypes: int64(3)\n",
      "memory usage: 63.8 KB\n"
     ]
    },
    {
     "data": {
      "text/html": [
       "<div>\n",
       "<style scoped>\n",
       "    .dataframe tbody tr th:only-of-type {\n",
       "        vertical-align: middle;\n",
       "    }\n",
       "\n",
       "    .dataframe tbody tr th {\n",
       "        vertical-align: top;\n",
       "    }\n",
       "\n",
       "    .dataframe thead tr th {\n",
       "        text-align: left;\n",
       "    }\n",
       "</style>\n",
       "<table border=\"1\" class=\"dataframe\">\n",
       "  <thead>\n",
       "    <tr>\n",
       "      <th></th>\n",
       "      <th>month</th>\n",
       "      <th>user_id</th>\n",
       "      <th>count</th>\n",
       "    </tr>\n",
       "    <tr>\n",
       "      <th></th>\n",
       "      <th></th>\n",
       "      <th></th>\n",
       "      <th>id</th>\n",
       "    </tr>\n",
       "  </thead>\n",
       "  <tbody>\n",
       "    <tr>\n",
       "      <th>0</th>\n",
       "      <td>1</td>\n",
       "      <td>1005</td>\n",
       "      <td>7</td>\n",
       "    </tr>\n",
       "    <tr>\n",
       "      <th>1</th>\n",
       "      <td>1</td>\n",
       "      <td>1032</td>\n",
       "      <td>38</td>\n",
       "    </tr>\n",
       "    <tr>\n",
       "      <th>2</th>\n",
       "      <td>1</td>\n",
       "      <td>1045</td>\n",
       "      <td>5</td>\n",
       "    </tr>\n",
       "    <tr>\n",
       "      <th>3</th>\n",
       "      <td>1</td>\n",
       "      <td>1055</td>\n",
       "      <td>30</td>\n",
       "    </tr>\n",
       "    <tr>\n",
       "      <th>4</th>\n",
       "      <td>1</td>\n",
       "      <td>1071</td>\n",
       "      <td>16</td>\n",
       "    </tr>\n",
       "  </tbody>\n",
       "</table>\n",
       "</div>"
      ],
      "text/plain": [
       "  month user_id count\n",
       "                   id\n",
       "0     1    1005     7\n",
       "1     1    1032    38\n",
       "2     1    1045     5\n",
       "3     1    1055    30\n",
       "4     1    1071    16"
      ]
     },
     "execution_count": 148,
     "metadata": {},
     "output_type": "execute_result"
    }
   ],
   "source": [
    "messages_df = messages.pivot_table(index = ['month', 'user_id'], values = 'id', aggfunc =['count']).reset_index()\n",
    "messages_df.info()\n",
    "messages_df.head()"
   ]
  },
  {
   "cell_type": "code",
   "execution_count": 149,
   "metadata": {},
   "outputs": [
    {
     "data": {
      "text/html": [
       "<div>\n",
       "<style scoped>\n",
       "    .dataframe tbody tr th:only-of-type {\n",
       "        vertical-align: middle;\n",
       "    }\n",
       "\n",
       "    .dataframe tbody tr th {\n",
       "        vertical-align: top;\n",
       "    }\n",
       "\n",
       "    .dataframe thead th {\n",
       "        text-align: right;\n",
       "    }\n",
       "</style>\n",
       "<table border=\"1\" class=\"dataframe\">\n",
       "  <thead>\n",
       "    <tr style=\"text-align: right;\">\n",
       "      <th></th>\n",
       "      <th>month</th>\n",
       "      <th>user_id</th>\n",
       "      <th>messages</th>\n",
       "    </tr>\n",
       "  </thead>\n",
       "  <tbody>\n",
       "    <tr>\n",
       "      <th>0</th>\n",
       "      <td>1</td>\n",
       "      <td>1005</td>\n",
       "      <td>7</td>\n",
       "    </tr>\n",
       "    <tr>\n",
       "      <th>1</th>\n",
       "      <td>1</td>\n",
       "      <td>1032</td>\n",
       "      <td>38</td>\n",
       "    </tr>\n",
       "    <tr>\n",
       "      <th>2</th>\n",
       "      <td>1</td>\n",
       "      <td>1045</td>\n",
       "      <td>5</td>\n",
       "    </tr>\n",
       "    <tr>\n",
       "      <th>3</th>\n",
       "      <td>1</td>\n",
       "      <td>1055</td>\n",
       "      <td>30</td>\n",
       "    </tr>\n",
       "    <tr>\n",
       "      <th>4</th>\n",
       "      <td>1</td>\n",
       "      <td>1071</td>\n",
       "      <td>16</td>\n",
       "    </tr>\n",
       "  </tbody>\n",
       "</table>\n",
       "</div>"
      ],
      "text/plain": [
       "   month  user_id  messages\n",
       "0      1     1005         7\n",
       "1      1     1032        38\n",
       "2      1     1045         5\n",
       "3      1     1055        30\n",
       "4      1     1071        16"
      ]
     },
     "execution_count": 149,
     "metadata": {},
     "output_type": "execute_result"
    }
   ],
   "source": [
    "messages_df.columns=['month','user_id','messages']\n",
    "messages_df.head()"
   ]
  },
  {
   "cell_type": "markdown",
   "metadata": {},
   "source": [
    "Соединим таблицы. По столбцу id соединим таблицы звонков, интернета и сообщений."
   ]
  },
  {
   "cell_type": "code",
   "execution_count": 150,
   "metadata": {},
   "outputs": [
    {
     "name": "stdout",
     "output_type": "stream",
     "text": [
      "<class 'pandas.core.frame.DataFrame'>\n",
      "Int64Index: 3163 entries, 0 to 3162\n",
      "Data columns (total 6 columns):\n",
      " #   Column      Non-Null Count  Dtype  \n",
      "---  ------      --------------  -----  \n",
      " 0   month       3163 non-null   int64  \n",
      " 1   user_id     3163 non-null   int64  \n",
      " 2   call_count  3163 non-null   int64  \n",
      " 3   call_sum    3163 non-null   float64\n",
      " 4   inet_count  3163 non-null   int64  \n",
      " 5   inet_sum    3163 non-null   float64\n",
      "dtypes: float64(2), int64(4)\n",
      "memory usage: 173.0 KB\n"
     ]
    },
    {
     "data": {
      "text/html": [
       "<div>\n",
       "<style scoped>\n",
       "    .dataframe tbody tr th:only-of-type {\n",
       "        vertical-align: middle;\n",
       "    }\n",
       "\n",
       "    .dataframe tbody tr th {\n",
       "        vertical-align: top;\n",
       "    }\n",
       "\n",
       "    .dataframe thead th {\n",
       "        text-align: right;\n",
       "    }\n",
       "</style>\n",
       "<table border=\"1\" class=\"dataframe\">\n",
       "  <thead>\n",
       "    <tr style=\"text-align: right;\">\n",
       "      <th></th>\n",
       "      <th>month</th>\n",
       "      <th>user_id</th>\n",
       "      <th>call_count</th>\n",
       "      <th>call_sum</th>\n",
       "      <th>inet_count</th>\n",
       "      <th>inet_sum</th>\n",
       "    </tr>\n",
       "  </thead>\n",
       "  <tbody>\n",
       "    <tr>\n",
       "      <th>0</th>\n",
       "      <td>1</td>\n",
       "      <td>1005</td>\n",
       "      <td>15</td>\n",
       "      <td>95.0</td>\n",
       "      <td>6</td>\n",
       "      <td>2727.97</td>\n",
       "    </tr>\n",
       "    <tr>\n",
       "      <th>1</th>\n",
       "      <td>1</td>\n",
       "      <td>1032</td>\n",
       "      <td>61</td>\n",
       "      <td>380.0</td>\n",
       "      <td>62</td>\n",
       "      <td>24127.69</td>\n",
       "    </tr>\n",
       "    <tr>\n",
       "      <th>2</th>\n",
       "      <td>1</td>\n",
       "      <td>1045</td>\n",
       "      <td>1</td>\n",
       "      <td>9.0</td>\n",
       "      <td>5</td>\n",
       "      <td>2346.71</td>\n",
       "    </tr>\n",
       "    <tr>\n",
       "      <th>3</th>\n",
       "      <td>1</td>\n",
       "      <td>1055</td>\n",
       "      <td>64</td>\n",
       "      <td>551.0</td>\n",
       "      <td>47</td>\n",
       "      <td>17090.88</td>\n",
       "    </tr>\n",
       "    <tr>\n",
       "      <th>4</th>\n",
       "      <td>1</td>\n",
       "      <td>1071</td>\n",
       "      <td>24</td>\n",
       "      <td>194.0</td>\n",
       "      <td>40</td>\n",
       "      <td>15604.34</td>\n",
       "    </tr>\n",
       "  </tbody>\n",
       "</table>\n",
       "</div>"
      ],
      "text/plain": [
       "   month  user_id  call_count  call_sum  inet_count  inet_sum\n",
       "0      1     1005          15      95.0           6   2727.97\n",
       "1      1     1032          61     380.0          62  24127.69\n",
       "2      1     1045           1       9.0           5   2346.71\n",
       "3      1     1055          64     551.0          47  17090.88\n",
       "4      1     1071          24     194.0          40  15604.34"
      ]
     },
     "execution_count": 150,
     "metadata": {},
     "output_type": "execute_result"
    }
   ],
   "source": [
    "calls_internet = calls_df.merge(internet_df, on = ['user_id', 'month'])\n",
    "calls_internet.info()\n",
    "calls_internet.head()"
   ]
  },
  {
   "cell_type": "code",
   "execution_count": 151,
   "metadata": {},
   "outputs": [
    {
     "name": "stdout",
     "output_type": "stream",
     "text": [
      "<class 'pandas.core.frame.DataFrame'>\n",
      "Int64Index: 2667 entries, 0 to 2666\n",
      "Data columns (total 7 columns):\n",
      " #   Column      Non-Null Count  Dtype  \n",
      "---  ------      --------------  -----  \n",
      " 0   month       2667 non-null   int64  \n",
      " 1   user_id     2667 non-null   int64  \n",
      " 2   call_count  2667 non-null   int64  \n",
      " 3   call_sum    2667 non-null   float64\n",
      " 4   inet_count  2667 non-null   int64  \n",
      " 5   inet_sum    2667 non-null   float64\n",
      " 6   messages    2667 non-null   int64  \n",
      "dtypes: float64(2), int64(5)\n",
      "memory usage: 166.7 KB\n"
     ]
    },
    {
     "data": {
      "text/html": [
       "<div>\n",
       "<style scoped>\n",
       "    .dataframe tbody tr th:only-of-type {\n",
       "        vertical-align: middle;\n",
       "    }\n",
       "\n",
       "    .dataframe tbody tr th {\n",
       "        vertical-align: top;\n",
       "    }\n",
       "\n",
       "    .dataframe thead th {\n",
       "        text-align: right;\n",
       "    }\n",
       "</style>\n",
       "<table border=\"1\" class=\"dataframe\">\n",
       "  <thead>\n",
       "    <tr style=\"text-align: right;\">\n",
       "      <th></th>\n",
       "      <th>month</th>\n",
       "      <th>user_id</th>\n",
       "      <th>call_count</th>\n",
       "      <th>call_sum</th>\n",
       "      <th>inet_count</th>\n",
       "      <th>inet_sum</th>\n",
       "      <th>messages</th>\n",
       "    </tr>\n",
       "  </thead>\n",
       "  <tbody>\n",
       "    <tr>\n",
       "      <th>0</th>\n",
       "      <td>1</td>\n",
       "      <td>1005</td>\n",
       "      <td>15</td>\n",
       "      <td>95.0</td>\n",
       "      <td>6</td>\n",
       "      <td>2727.97</td>\n",
       "      <td>7</td>\n",
       "    </tr>\n",
       "    <tr>\n",
       "      <th>1</th>\n",
       "      <td>1</td>\n",
       "      <td>1032</td>\n",
       "      <td>61</td>\n",
       "      <td>380.0</td>\n",
       "      <td>62</td>\n",
       "      <td>24127.69</td>\n",
       "      <td>38</td>\n",
       "    </tr>\n",
       "    <tr>\n",
       "      <th>2</th>\n",
       "      <td>1</td>\n",
       "      <td>1045</td>\n",
       "      <td>1</td>\n",
       "      <td>9.0</td>\n",
       "      <td>5</td>\n",
       "      <td>2346.71</td>\n",
       "      <td>5</td>\n",
       "    </tr>\n",
       "    <tr>\n",
       "      <th>3</th>\n",
       "      <td>1</td>\n",
       "      <td>1055</td>\n",
       "      <td>64</td>\n",
       "      <td>551.0</td>\n",
       "      <td>47</td>\n",
       "      <td>17090.88</td>\n",
       "      <td>30</td>\n",
       "    </tr>\n",
       "    <tr>\n",
       "      <th>4</th>\n",
       "      <td>1</td>\n",
       "      <td>1071</td>\n",
       "      <td>24</td>\n",
       "      <td>194.0</td>\n",
       "      <td>40</td>\n",
       "      <td>15604.34</td>\n",
       "      <td>16</td>\n",
       "    </tr>\n",
       "  </tbody>\n",
       "</table>\n",
       "</div>"
      ],
      "text/plain": [
       "   month  user_id  call_count  call_sum  inet_count  inet_sum  messages\n",
       "0      1     1005          15      95.0           6   2727.97         7\n",
       "1      1     1032          61     380.0          62  24127.69        38\n",
       "2      1     1045           1       9.0           5   2346.71         5\n",
       "3      1     1055          64     551.0          47  17090.88        30\n",
       "4      1     1071          24     194.0          40  15604.34        16"
      ]
     },
     "execution_count": 151,
     "metadata": {},
     "output_type": "execute_result"
    }
   ],
   "source": [
    "calls_internet_messages = calls_internet.merge(messages_df, on = ['user_id', 'month'])\n",
    "calls_internet_messages.info()\n",
    "calls_internet_messages.head()"
   ]
  },
  {
   "cell_type": "markdown",
   "metadata": {},
   "source": [
    "Присоединяем таблицу пользователей по столбцам user_id и month"
   ]
  },
  {
   "cell_type": "code",
   "execution_count": 152,
   "metadata": {},
   "outputs": [
    {
     "name": "stdout",
     "output_type": "stream",
     "text": [
      "<class 'pandas.core.frame.DataFrame'>\n",
      "Int64Index: 403 entries, 0 to 402\n",
      "Data columns (total 14 columns):\n",
      " #   Column      Non-Null Count  Dtype         \n",
      "---  ------      --------------  -----         \n",
      " 0   month       403 non-null    int64         \n",
      " 1   user_id     403 non-null    int64         \n",
      " 2   call_count  403 non-null    int64         \n",
      " 3   call_sum    403 non-null    float64       \n",
      " 4   inet_count  403 non-null    int64         \n",
      " 5   inet_sum    403 non-null    float64       \n",
      " 6   messages    403 non-null    int64         \n",
      " 7   age         403 non-null    int64         \n",
      " 8   churn_date  27 non-null     object        \n",
      " 9   city        403 non-null    object        \n",
      " 10  first_name  403 non-null    object        \n",
      " 11  last_name   403 non-null    object        \n",
      " 12  reg_date    403 non-null    datetime64[ns]\n",
      " 13  tariff      403 non-null    object        \n",
      "dtypes: datetime64[ns](1), float64(2), int64(6), object(5)\n",
      "memory usage: 47.2+ KB\n"
     ]
    },
    {
     "data": {
      "text/html": [
       "<div>\n",
       "<style scoped>\n",
       "    .dataframe tbody tr th:only-of-type {\n",
       "        vertical-align: middle;\n",
       "    }\n",
       "\n",
       "    .dataframe tbody tr th {\n",
       "        vertical-align: top;\n",
       "    }\n",
       "\n",
       "    .dataframe thead th {\n",
       "        text-align: right;\n",
       "    }\n",
       "</style>\n",
       "<table border=\"1\" class=\"dataframe\">\n",
       "  <thead>\n",
       "    <tr style=\"text-align: right;\">\n",
       "      <th></th>\n",
       "      <th>month</th>\n",
       "      <th>user_id</th>\n",
       "      <th>call_count</th>\n",
       "      <th>call_sum</th>\n",
       "      <th>inet_count</th>\n",
       "      <th>inet_sum</th>\n",
       "      <th>messages</th>\n",
       "      <th>age</th>\n",
       "      <th>churn_date</th>\n",
       "      <th>city</th>\n",
       "      <th>first_name</th>\n",
       "      <th>last_name</th>\n",
       "      <th>reg_date</th>\n",
       "      <th>tariff</th>\n",
       "    </tr>\n",
       "  </thead>\n",
       "  <tbody>\n",
       "    <tr>\n",
       "      <th>0</th>\n",
       "      <td>1</td>\n",
       "      <td>1005</td>\n",
       "      <td>15</td>\n",
       "      <td>95.0</td>\n",
       "      <td>6</td>\n",
       "      <td>2727.97</td>\n",
       "      <td>7</td>\n",
       "      <td>67</td>\n",
       "      <td>NaN</td>\n",
       "      <td>Набережные Челны</td>\n",
       "      <td>Афанасий</td>\n",
       "      <td>Горлов</td>\n",
       "      <td>2018-01-25</td>\n",
       "      <td>smart</td>\n",
       "    </tr>\n",
       "    <tr>\n",
       "      <th>1</th>\n",
       "      <td>1</td>\n",
       "      <td>1032</td>\n",
       "      <td>61</td>\n",
       "      <td>380.0</td>\n",
       "      <td>62</td>\n",
       "      <td>24127.69</td>\n",
       "      <td>38</td>\n",
       "      <td>31</td>\n",
       "      <td>NaN</td>\n",
       "      <td>Ульяновск</td>\n",
       "      <td>Инна</td>\n",
       "      <td>Игнатьева</td>\n",
       "      <td>2018-01-04</td>\n",
       "      <td>smart</td>\n",
       "    </tr>\n",
       "    <tr>\n",
       "      <th>2</th>\n",
       "      <td>1</td>\n",
       "      <td>1045</td>\n",
       "      <td>1</td>\n",
       "      <td>9.0</td>\n",
       "      <td>5</td>\n",
       "      <td>2346.71</td>\n",
       "      <td>5</td>\n",
       "      <td>48</td>\n",
       "      <td>NaN</td>\n",
       "      <td>Улан-Удэ</td>\n",
       "      <td>Джемма</td>\n",
       "      <td>Карасева</td>\n",
       "      <td>2018-01-30</td>\n",
       "      <td>smart</td>\n",
       "    </tr>\n",
       "    <tr>\n",
       "      <th>3</th>\n",
       "      <td>1</td>\n",
       "      <td>1055</td>\n",
       "      <td>64</td>\n",
       "      <td>551.0</td>\n",
       "      <td>47</td>\n",
       "      <td>17090.88</td>\n",
       "      <td>30</td>\n",
       "      <td>39</td>\n",
       "      <td>NaN</td>\n",
       "      <td>Казань</td>\n",
       "      <td>Луиза</td>\n",
       "      <td>Березина</td>\n",
       "      <td>2018-01-02</td>\n",
       "      <td>smart</td>\n",
       "    </tr>\n",
       "    <tr>\n",
       "      <th>4</th>\n",
       "      <td>1</td>\n",
       "      <td>1071</td>\n",
       "      <td>24</td>\n",
       "      <td>194.0</td>\n",
       "      <td>40</td>\n",
       "      <td>15604.34</td>\n",
       "      <td>16</td>\n",
       "      <td>20</td>\n",
       "      <td>2018-08-31</td>\n",
       "      <td>Омск</td>\n",
       "      <td>Гектор</td>\n",
       "      <td>Чумаков</td>\n",
       "      <td>2018-01-09</td>\n",
       "      <td>smart</td>\n",
       "    </tr>\n",
       "  </tbody>\n",
       "</table>\n",
       "</div>"
      ],
      "text/plain": [
       "   month  user_id  call_count  call_sum  inet_count  inet_sum  messages  age  \\\n",
       "0      1     1005          15      95.0           6   2727.97         7   67   \n",
       "1      1     1032          61     380.0          62  24127.69        38   31   \n",
       "2      1     1045           1       9.0           5   2346.71         5   48   \n",
       "3      1     1055          64     551.0          47  17090.88        30   39   \n",
       "4      1     1071          24     194.0          40  15604.34        16   20   \n",
       "\n",
       "   churn_date              city first_name  last_name   reg_date tariff  \n",
       "0         NaN  Набережные Челны   Афанасий     Горлов 2018-01-25  smart  \n",
       "1         NaN         Ульяновск       Инна  Игнатьева 2018-01-04  smart  \n",
       "2         NaN          Улан-Удэ     Джемма   Карасева 2018-01-30  smart  \n",
       "3         NaN            Казань      Луиза   Березина 2018-01-02  smart  \n",
       "4  2018-08-31              Омск     Гектор    Чумаков 2018-01-09  smart  "
      ]
     },
     "execution_count": 152,
     "metadata": {},
     "output_type": "execute_result"
    }
   ],
   "source": [
    "cim = calls_internet_messages\n",
    "cim_users = cim.merge(users, on = ['user_id', 'month'])\n",
    "cim_users.info()\n",
    "cim_users.head()"
   ]
  },
  {
   "cell_type": "markdown",
   "metadata": {},
   "source": [
    "Далее присоединяем таблицу тарифов по стобцу тарифа, который уже есть в общей таблице"
   ]
  },
  {
   "cell_type": "code",
   "execution_count": 153,
   "metadata": {},
   "outputs": [
    {
     "data": {
      "text/html": [
       "<div>\n",
       "<style scoped>\n",
       "    .dataframe tbody tr th:only-of-type {\n",
       "        vertical-align: middle;\n",
       "    }\n",
       "\n",
       "    .dataframe tbody tr th {\n",
       "        vertical-align: top;\n",
       "    }\n",
       "\n",
       "    .dataframe thead th {\n",
       "        text-align: right;\n",
       "    }\n",
       "</style>\n",
       "<table border=\"1\" class=\"dataframe\">\n",
       "  <thead>\n",
       "    <tr style=\"text-align: right;\">\n",
       "      <th></th>\n",
       "      <th>messages_included</th>\n",
       "      <th>mb_per_month_included</th>\n",
       "      <th>minutes_included</th>\n",
       "      <th>rub_monthly_fee</th>\n",
       "      <th>rub_per_gb</th>\n",
       "      <th>rub_per_message</th>\n",
       "      <th>rub_per_minute</th>\n",
       "      <th>tariff</th>\n",
       "    </tr>\n",
       "  </thead>\n",
       "  <tbody>\n",
       "    <tr>\n",
       "      <th>0</th>\n",
       "      <td>50</td>\n",
       "      <td>15360</td>\n",
       "      <td>500</td>\n",
       "      <td>550</td>\n",
       "      <td>200</td>\n",
       "      <td>3</td>\n",
       "      <td>3</td>\n",
       "      <td>smart</td>\n",
       "    </tr>\n",
       "    <tr>\n",
       "      <th>1</th>\n",
       "      <td>1000</td>\n",
       "      <td>30720</td>\n",
       "      <td>3000</td>\n",
       "      <td>1950</td>\n",
       "      <td>150</td>\n",
       "      <td>1</td>\n",
       "      <td>1</td>\n",
       "      <td>ultra</td>\n",
       "    </tr>\n",
       "  </tbody>\n",
       "</table>\n",
       "</div>"
      ],
      "text/plain": [
       "   messages_included  mb_per_month_included  minutes_included  \\\n",
       "0                 50                  15360               500   \n",
       "1               1000                  30720              3000   \n",
       "\n",
       "   rub_monthly_fee  rub_per_gb  rub_per_message  rub_per_minute tariff  \n",
       "0              550         200                3               3  smart  \n",
       "1             1950         150                1               1  ultra  "
      ]
     },
     "execution_count": 153,
     "metadata": {},
     "output_type": "execute_result"
    }
   ],
   "source": [
    "tariffs = tariffs.rename(columns={'tariff_name': 'tariff'}) \n",
    "tariffs.head() "
   ]
  },
  {
   "cell_type": "code",
   "execution_count": 154,
   "metadata": {},
   "outputs": [
    {
     "name": "stdout",
     "output_type": "stream",
     "text": [
      "<class 'pandas.core.frame.DataFrame'>\n",
      "Int64Index: 403 entries, 0 to 402\n",
      "Data columns (total 21 columns):\n",
      " #   Column                 Non-Null Count  Dtype         \n",
      "---  ------                 --------------  -----         \n",
      " 0   month                  403 non-null    int64         \n",
      " 1   user_id                403 non-null    int64         \n",
      " 2   call_count             403 non-null    int64         \n",
      " 3   call_sum               403 non-null    float64       \n",
      " 4   inet_count             403 non-null    int64         \n",
      " 5   inet_sum               403 non-null    float64       \n",
      " 6   messages               403 non-null    int64         \n",
      " 7   age                    403 non-null    int64         \n",
      " 8   churn_date             27 non-null     object        \n",
      " 9   city                   403 non-null    object        \n",
      " 10  first_name             403 non-null    object        \n",
      " 11  last_name              403 non-null    object        \n",
      " 12  reg_date               403 non-null    datetime64[ns]\n",
      " 13  tariff                 403 non-null    object        \n",
      " 14  messages_included      403 non-null    int64         \n",
      " 15  mb_per_month_included  403 non-null    int64         \n",
      " 16  minutes_included       403 non-null    int64         \n",
      " 17  rub_monthly_fee        403 non-null    int64         \n",
      " 18  rub_per_gb             403 non-null    int64         \n",
      " 19  rub_per_message        403 non-null    int64         \n",
      " 20  rub_per_minute         403 non-null    int64         \n",
      "dtypes: datetime64[ns](1), float64(2), int64(13), object(5)\n",
      "memory usage: 69.3+ KB\n"
     ]
    },
    {
     "data": {
      "text/html": [
       "<div>\n",
       "<style scoped>\n",
       "    .dataframe tbody tr th:only-of-type {\n",
       "        vertical-align: middle;\n",
       "    }\n",
       "\n",
       "    .dataframe tbody tr th {\n",
       "        vertical-align: top;\n",
       "    }\n",
       "\n",
       "    .dataframe thead th {\n",
       "        text-align: right;\n",
       "    }\n",
       "</style>\n",
       "<table border=\"1\" class=\"dataframe\">\n",
       "  <thead>\n",
       "    <tr style=\"text-align: right;\">\n",
       "      <th></th>\n",
       "      <th>month</th>\n",
       "      <th>user_id</th>\n",
       "      <th>call_count</th>\n",
       "      <th>call_sum</th>\n",
       "      <th>inet_count</th>\n",
       "      <th>inet_sum</th>\n",
       "      <th>messages</th>\n",
       "      <th>age</th>\n",
       "      <th>churn_date</th>\n",
       "      <th>city</th>\n",
       "      <th>...</th>\n",
       "      <th>last_name</th>\n",
       "      <th>reg_date</th>\n",
       "      <th>tariff</th>\n",
       "      <th>messages_included</th>\n",
       "      <th>mb_per_month_included</th>\n",
       "      <th>minutes_included</th>\n",
       "      <th>rub_monthly_fee</th>\n",
       "      <th>rub_per_gb</th>\n",
       "      <th>rub_per_message</th>\n",
       "      <th>rub_per_minute</th>\n",
       "    </tr>\n",
       "  </thead>\n",
       "  <tbody>\n",
       "    <tr>\n",
       "      <th>0</th>\n",
       "      <td>1</td>\n",
       "      <td>1005</td>\n",
       "      <td>15</td>\n",
       "      <td>95.0</td>\n",
       "      <td>6</td>\n",
       "      <td>2727.97</td>\n",
       "      <td>7</td>\n",
       "      <td>67</td>\n",
       "      <td>NaN</td>\n",
       "      <td>Набережные Челны</td>\n",
       "      <td>...</td>\n",
       "      <td>Горлов</td>\n",
       "      <td>2018-01-25</td>\n",
       "      <td>smart</td>\n",
       "      <td>50</td>\n",
       "      <td>15360</td>\n",
       "      <td>500</td>\n",
       "      <td>550</td>\n",
       "      <td>200</td>\n",
       "      <td>3</td>\n",
       "      <td>3</td>\n",
       "    </tr>\n",
       "    <tr>\n",
       "      <th>1</th>\n",
       "      <td>1</td>\n",
       "      <td>1032</td>\n",
       "      <td>61</td>\n",
       "      <td>380.0</td>\n",
       "      <td>62</td>\n",
       "      <td>24127.69</td>\n",
       "      <td>38</td>\n",
       "      <td>31</td>\n",
       "      <td>NaN</td>\n",
       "      <td>Ульяновск</td>\n",
       "      <td>...</td>\n",
       "      <td>Игнатьева</td>\n",
       "      <td>2018-01-04</td>\n",
       "      <td>smart</td>\n",
       "      <td>50</td>\n",
       "      <td>15360</td>\n",
       "      <td>500</td>\n",
       "      <td>550</td>\n",
       "      <td>200</td>\n",
       "      <td>3</td>\n",
       "      <td>3</td>\n",
       "    </tr>\n",
       "    <tr>\n",
       "      <th>2</th>\n",
       "      <td>1</td>\n",
       "      <td>1045</td>\n",
       "      <td>1</td>\n",
       "      <td>9.0</td>\n",
       "      <td>5</td>\n",
       "      <td>2346.71</td>\n",
       "      <td>5</td>\n",
       "      <td>48</td>\n",
       "      <td>NaN</td>\n",
       "      <td>Улан-Удэ</td>\n",
       "      <td>...</td>\n",
       "      <td>Карасева</td>\n",
       "      <td>2018-01-30</td>\n",
       "      <td>smart</td>\n",
       "      <td>50</td>\n",
       "      <td>15360</td>\n",
       "      <td>500</td>\n",
       "      <td>550</td>\n",
       "      <td>200</td>\n",
       "      <td>3</td>\n",
       "      <td>3</td>\n",
       "    </tr>\n",
       "    <tr>\n",
       "      <th>3</th>\n",
       "      <td>1</td>\n",
       "      <td>1055</td>\n",
       "      <td>64</td>\n",
       "      <td>551.0</td>\n",
       "      <td>47</td>\n",
       "      <td>17090.88</td>\n",
       "      <td>30</td>\n",
       "      <td>39</td>\n",
       "      <td>NaN</td>\n",
       "      <td>Казань</td>\n",
       "      <td>...</td>\n",
       "      <td>Березина</td>\n",
       "      <td>2018-01-02</td>\n",
       "      <td>smart</td>\n",
       "      <td>50</td>\n",
       "      <td>15360</td>\n",
       "      <td>500</td>\n",
       "      <td>550</td>\n",
       "      <td>200</td>\n",
       "      <td>3</td>\n",
       "      <td>3</td>\n",
       "    </tr>\n",
       "    <tr>\n",
       "      <th>4</th>\n",
       "      <td>1</td>\n",
       "      <td>1071</td>\n",
       "      <td>24</td>\n",
       "      <td>194.0</td>\n",
       "      <td>40</td>\n",
       "      <td>15604.34</td>\n",
       "      <td>16</td>\n",
       "      <td>20</td>\n",
       "      <td>2018-08-31</td>\n",
       "      <td>Омск</td>\n",
       "      <td>...</td>\n",
       "      <td>Чумаков</td>\n",
       "      <td>2018-01-09</td>\n",
       "      <td>smart</td>\n",
       "      <td>50</td>\n",
       "      <td>15360</td>\n",
       "      <td>500</td>\n",
       "      <td>550</td>\n",
       "      <td>200</td>\n",
       "      <td>3</td>\n",
       "      <td>3</td>\n",
       "    </tr>\n",
       "  </tbody>\n",
       "</table>\n",
       "<p>5 rows × 21 columns</p>\n",
       "</div>"
      ],
      "text/plain": [
       "   month  user_id  call_count  call_sum  inet_count  inet_sum  messages  age  \\\n",
       "0      1     1005          15      95.0           6   2727.97         7   67   \n",
       "1      1     1032          61     380.0          62  24127.69        38   31   \n",
       "2      1     1045           1       9.0           5   2346.71         5   48   \n",
       "3      1     1055          64     551.0          47  17090.88        30   39   \n",
       "4      1     1071          24     194.0          40  15604.34        16   20   \n",
       "\n",
       "   churn_date              city  ...  last_name   reg_date tariff  \\\n",
       "0         NaN  Набережные Челны  ...     Горлов 2018-01-25  smart   \n",
       "1         NaN         Ульяновск  ...  Игнатьева 2018-01-04  smart   \n",
       "2         NaN          Улан-Удэ  ...   Карасева 2018-01-30  smart   \n",
       "3         NaN            Казань  ...   Березина 2018-01-02  smart   \n",
       "4  2018-08-31              Омск  ...    Чумаков 2018-01-09  smart   \n",
       "\n",
       "  messages_included  mb_per_month_included  minutes_included  rub_monthly_fee  \\\n",
       "0                50                  15360               500              550   \n",
       "1                50                  15360               500              550   \n",
       "2                50                  15360               500              550   \n",
       "3                50                  15360               500              550   \n",
       "4                50                  15360               500              550   \n",
       "\n",
       "   rub_per_gb  rub_per_message  rub_per_minute  \n",
       "0         200                3               3  \n",
       "1         200                3               3  \n",
       "2         200                3               3  \n",
       "3         200                3               3  \n",
       "4         200                3               3  \n",
       "\n",
       "[5 rows x 21 columns]"
      ]
     },
     "execution_count": 154,
     "metadata": {},
     "output_type": "execute_result"
    }
   ],
   "source": [
    "cim_users_tariffs = cim_users.merge(tariffs, on = 'tariff')\n",
    "cim_users_tariffs.info()\n",
    "cim_users_tariffs.head(5)"
   ]
  },
  {
   "cell_type": "markdown",
   "metadata": {},
   "source": [
    "Проверяем пропуски. "
   ]
  },
  {
   "cell_type": "code",
   "execution_count": 155,
   "metadata": {},
   "outputs": [
    {
     "name": "stdout",
     "output_type": "stream",
     "text": [
      "<class 'pandas.core.frame.DataFrame'>\n",
      "Int64Index: 403 entries, 0 to 402\n",
      "Data columns (total 21 columns):\n",
      " #   Column                 Non-Null Count  Dtype         \n",
      "---  ------                 --------------  -----         \n",
      " 0   month                  403 non-null    int64         \n",
      " 1   user_id                403 non-null    int64         \n",
      " 2   call_count             403 non-null    int64         \n",
      " 3   call_sum               403 non-null    float64       \n",
      " 4   inet_count             403 non-null    int64         \n",
      " 5   inet_sum               403 non-null    float64       \n",
      " 6   messages               403 non-null    int64         \n",
      " 7   age                    403 non-null    int64         \n",
      " 8   churn_date             27 non-null     object        \n",
      " 9   city                   403 non-null    object        \n",
      " 10  first_name             403 non-null    object        \n",
      " 11  last_name              403 non-null    object        \n",
      " 12  reg_date               403 non-null    datetime64[ns]\n",
      " 13  tariff                 403 non-null    object        \n",
      " 14  messages_included      403 non-null    int64         \n",
      " 15  mb_per_month_included  403 non-null    int64         \n",
      " 16  minutes_included       403 non-null    int64         \n",
      " 17  rub_monthly_fee        403 non-null    int64         \n",
      " 18  rub_per_gb             403 non-null    int64         \n",
      " 19  rub_per_message        403 non-null    int64         \n",
      " 20  rub_per_minute         403 non-null    int64         \n",
      "dtypes: datetime64[ns](1), float64(2), int64(13), object(5)\n",
      "memory usage: 69.3+ KB\n"
     ]
    },
    {
     "data": {
      "text/plain": [
       "month                      0\n",
       "user_id                    0\n",
       "call_count                 0\n",
       "call_sum                   0\n",
       "inet_count                 0\n",
       "inet_sum                   0\n",
       "messages                   0\n",
       "age                        0\n",
       "churn_date               376\n",
       "city                       0\n",
       "first_name                 0\n",
       "last_name                  0\n",
       "reg_date                   0\n",
       "tariff                     0\n",
       "messages_included          0\n",
       "mb_per_month_included      0\n",
       "minutes_included           0\n",
       "rub_monthly_fee            0\n",
       "rub_per_gb                 0\n",
       "rub_per_message            0\n",
       "rub_per_minute             0\n",
       "dtype: int64"
      ]
     },
     "execution_count": 155,
     "metadata": {},
     "output_type": "execute_result"
    }
   ],
   "source": [
    "df = cim_users_tariffs \n",
    "df.info()\n",
    "df.isna().sum()"
   ]
  },
  {
   "cell_type": "markdown",
   "metadata": {},
   "source": [
    "Пропуски в столбце churn_date естественны, большинство клиентов на момент выгрузки данных продолжает пользоваться тарифами. \n",
    "Пропусков в других строках нет. "
   ]
  },
  {
   "cell_type": "code",
   "execution_count": 156,
   "metadata": {},
   "outputs": [
    {
     "data": {
      "text/plain": [
       "0"
      ]
     },
     "execution_count": 156,
     "metadata": {},
     "output_type": "execute_result"
    }
   ],
   "source": [
    "df.duplicated().sum()"
   ]
  },
  {
   "cell_type": "markdown",
   "metadata": {},
   "source": [
    "Дубликатов нет. Двигаемся дальше. Приведем данные к нужным типам"
   ]
  },
  {
   "cell_type": "code",
   "execution_count": 157,
   "metadata": {},
   "outputs": [
    {
     "data": {
      "text/html": [
       "<div>\n",
       "<style scoped>\n",
       "    .dataframe tbody tr th:only-of-type {\n",
       "        vertical-align: middle;\n",
       "    }\n",
       "\n",
       "    .dataframe tbody tr th {\n",
       "        vertical-align: top;\n",
       "    }\n",
       "\n",
       "    .dataframe thead th {\n",
       "        text-align: right;\n",
       "    }\n",
       "</style>\n",
       "<table border=\"1\" class=\"dataframe\">\n",
       "  <thead>\n",
       "    <tr style=\"text-align: right;\">\n",
       "      <th></th>\n",
       "      <th>month</th>\n",
       "      <th>user_id</th>\n",
       "      <th>call_count</th>\n",
       "      <th>call_sum</th>\n",
       "      <th>inet_count</th>\n",
       "      <th>inet_sum</th>\n",
       "      <th>messages</th>\n",
       "      <th>age</th>\n",
       "      <th>churn_date</th>\n",
       "      <th>city</th>\n",
       "      <th>...</th>\n",
       "      <th>reg_date</th>\n",
       "      <th>tariff</th>\n",
       "      <th>messages_included</th>\n",
       "      <th>mb_per_month_included</th>\n",
       "      <th>minutes_included</th>\n",
       "      <th>rub_monthly_fee</th>\n",
       "      <th>rub_per_gb</th>\n",
       "      <th>rub_per_message</th>\n",
       "      <th>rub_per_minute</th>\n",
       "      <th>inet_gb</th>\n",
       "    </tr>\n",
       "  </thead>\n",
       "  <tbody>\n",
       "    <tr>\n",
       "      <th>0</th>\n",
       "      <td>1</td>\n",
       "      <td>1005</td>\n",
       "      <td>15</td>\n",
       "      <td>95.0</td>\n",
       "      <td>6</td>\n",
       "      <td>2727.97</td>\n",
       "      <td>7</td>\n",
       "      <td>67</td>\n",
       "      <td>NaN</td>\n",
       "      <td>Набережные Челны</td>\n",
       "      <td>...</td>\n",
       "      <td>2018-01-25</td>\n",
       "      <td>smart</td>\n",
       "      <td>50</td>\n",
       "      <td>15360</td>\n",
       "      <td>500</td>\n",
       "      <td>550</td>\n",
       "      <td>200</td>\n",
       "      <td>3</td>\n",
       "      <td>3</td>\n",
       "      <td>2.664033</td>\n",
       "    </tr>\n",
       "    <tr>\n",
       "      <th>1</th>\n",
       "      <td>1</td>\n",
       "      <td>1032</td>\n",
       "      <td>61</td>\n",
       "      <td>380.0</td>\n",
       "      <td>62</td>\n",
       "      <td>24127.69</td>\n",
       "      <td>38</td>\n",
       "      <td>31</td>\n",
       "      <td>NaN</td>\n",
       "      <td>Ульяновск</td>\n",
       "      <td>...</td>\n",
       "      <td>2018-01-04</td>\n",
       "      <td>smart</td>\n",
       "      <td>50</td>\n",
       "      <td>15360</td>\n",
       "      <td>500</td>\n",
       "      <td>550</td>\n",
       "      <td>200</td>\n",
       "      <td>3</td>\n",
       "      <td>3</td>\n",
       "      <td>23.562197</td>\n",
       "    </tr>\n",
       "    <tr>\n",
       "      <th>2</th>\n",
       "      <td>1</td>\n",
       "      <td>1045</td>\n",
       "      <td>1</td>\n",
       "      <td>9.0</td>\n",
       "      <td>5</td>\n",
       "      <td>2346.71</td>\n",
       "      <td>5</td>\n",
       "      <td>48</td>\n",
       "      <td>NaN</td>\n",
       "      <td>Улан-Удэ</td>\n",
       "      <td>...</td>\n",
       "      <td>2018-01-30</td>\n",
       "      <td>smart</td>\n",
       "      <td>50</td>\n",
       "      <td>15360</td>\n",
       "      <td>500</td>\n",
       "      <td>550</td>\n",
       "      <td>200</td>\n",
       "      <td>3</td>\n",
       "      <td>3</td>\n",
       "      <td>2.291709</td>\n",
       "    </tr>\n",
       "    <tr>\n",
       "      <th>3</th>\n",
       "      <td>1</td>\n",
       "      <td>1055</td>\n",
       "      <td>64</td>\n",
       "      <td>551.0</td>\n",
       "      <td>47</td>\n",
       "      <td>17090.88</td>\n",
       "      <td>30</td>\n",
       "      <td>39</td>\n",
       "      <td>NaN</td>\n",
       "      <td>Казань</td>\n",
       "      <td>...</td>\n",
       "      <td>2018-01-02</td>\n",
       "      <td>smart</td>\n",
       "      <td>50</td>\n",
       "      <td>15360</td>\n",
       "      <td>500</td>\n",
       "      <td>550</td>\n",
       "      <td>200</td>\n",
       "      <td>3</td>\n",
       "      <td>3</td>\n",
       "      <td>16.690313</td>\n",
       "    </tr>\n",
       "    <tr>\n",
       "      <th>4</th>\n",
       "      <td>1</td>\n",
       "      <td>1071</td>\n",
       "      <td>24</td>\n",
       "      <td>194.0</td>\n",
       "      <td>40</td>\n",
       "      <td>15604.34</td>\n",
       "      <td>16</td>\n",
       "      <td>20</td>\n",
       "      <td>2018-08-31</td>\n",
       "      <td>Омск</td>\n",
       "      <td>...</td>\n",
       "      <td>2018-01-09</td>\n",
       "      <td>smart</td>\n",
       "      <td>50</td>\n",
       "      <td>15360</td>\n",
       "      <td>500</td>\n",
       "      <td>550</td>\n",
       "      <td>200</td>\n",
       "      <td>3</td>\n",
       "      <td>3</td>\n",
       "      <td>15.238613</td>\n",
       "    </tr>\n",
       "  </tbody>\n",
       "</table>\n",
       "<p>5 rows × 22 columns</p>\n",
       "</div>"
      ],
      "text/plain": [
       "   month  user_id  call_count  call_sum  inet_count  inet_sum  messages  age  \\\n",
       "0      1     1005          15      95.0           6   2727.97         7   67   \n",
       "1      1     1032          61     380.0          62  24127.69        38   31   \n",
       "2      1     1045           1       9.0           5   2346.71         5   48   \n",
       "3      1     1055          64     551.0          47  17090.88        30   39   \n",
       "4      1     1071          24     194.0          40  15604.34        16   20   \n",
       "\n",
       "   churn_date              city  ...   reg_date tariff messages_included  \\\n",
       "0         NaN  Набережные Челны  ... 2018-01-25  smart                50   \n",
       "1         NaN         Ульяновск  ... 2018-01-04  smart                50   \n",
       "2         NaN          Улан-Удэ  ... 2018-01-30  smart                50   \n",
       "3         NaN            Казань  ... 2018-01-02  smart                50   \n",
       "4  2018-08-31              Омск  ... 2018-01-09  smart                50   \n",
       "\n",
       "  mb_per_month_included  minutes_included  rub_monthly_fee  rub_per_gb  \\\n",
       "0                 15360               500              550         200   \n",
       "1                 15360               500              550         200   \n",
       "2                 15360               500              550         200   \n",
       "3                 15360               500              550         200   \n",
       "4                 15360               500              550         200   \n",
       "\n",
       "   rub_per_message  rub_per_minute    inet_gb  \n",
       "0                3               3   2.664033  \n",
       "1                3               3  23.562197  \n",
       "2                3               3   2.291709  \n",
       "3                3               3  16.690313  \n",
       "4                3               3  15.238613  \n",
       "\n",
       "[5 rows x 22 columns]"
      ]
     },
     "execution_count": 157,
     "metadata": {},
     "output_type": "execute_result"
    }
   ],
   "source": [
    "df['inet_gb'] = df['inet_sum']/1024\n",
    "df.head()"
   ]
  },
  {
   "cell_type": "code",
   "execution_count": 158,
   "metadata": {},
   "outputs": [
    {
     "data": {
      "image/png": "[encoded data removed]",
      "text/plain": [
       "<Figure size 432x288 with 1 Axes>"
      ]
     },
     "metadata": {
      "needs_background": "light"
     },
     "output_type": "display_data"
    }
   ],
   "source": [
    "internet_df.head()\n",
    "internet_df['inet_sum'].describe()\n",
    "internet_df['inet_sum'].hist(bins = 50);\n",
    "#internet_df['inet_gb'] = np.ceil(internet_df['inet_sum']/1024)\n",
    "#internet_df.head(60)"
   ]
  },
  {
   "cell_type": "markdown",
   "metadata": {},
   "source": [
    "# Анализ данных"
   ]
  },
  {
   "cell_type": "markdown",
   "metadata": {},
   "source": [
    "Добавляем в столбец profit сумму, которую получит оператор от каждого клиента"
   ]
  },
  {
   "cell_type": "code",
   "execution_count": 159,
   "metadata": {},
   "outputs": [],
   "source": [
    "def revenue(df):\n",
    "    \n",
    "    tariff = df['tariff']\n",
    "    over_min = df['call_sum'] - tariffs.loc[tariffs['tariff'] == tariff,'minutes_included'].item()\n",
    "    over_sms = df['messages'] - tariffs.loc[tariffs['tariff'] == tariff,'minutes_included'].item()\n",
    "    over_gb = df['inet_sum'] - tariffs.loc[tariffs['tariff'] == tariff,'minutes_included'].item()\n",
    "\n",
    "    if over_min < 0:\n",
    "        rub_min = 0\n",
    "    else:\n",
    "        rub_min = over_min * df['rub_per_minute']\n",
    "\n",
    "    if over_sms < 0:\n",
    "        rub_sms = 0\n",
    "    else:\n",
    "        rub_sms = over_sms * df['rub_per_message']\n",
    "\n",
    "    if over_gb < 0:\n",
    "        rub_gb = 0\n",
    "    else:\n",
    "        rub_gb = np.ceil(over_gb / 1024) * df['rub_per_gb']\n",
    "\n",
    "    revenue = rub_min+rub_sms+rub_gb+df['rub_monthly_fee']\n",
    "\n",
    "    return revenue\n",
    "\n",
    "df['profit'] = df.apply(revenue, axis=1)"
   ]
  },
  {
   "cell_type": "code",
   "execution_count": 160,
   "metadata": {},
   "outputs": [
    {
     "name": "stdout",
     "output_type": "stream",
     "text": [
      "<class 'pandas.core.frame.DataFrame'>\n",
      "Int64Index: 403 entries, 0 to 402\n",
      "Data columns (total 23 columns):\n",
      " #   Column                 Non-Null Count  Dtype         \n",
      "---  ------                 --------------  -----         \n",
      " 0   month                  403 non-null    int64         \n",
      " 1   user_id                403 non-null    int64         \n",
      " 2   call_count             403 non-null    int64         \n",
      " 3   call_sum               403 non-null    float64       \n",
      " 4   inet_count             403 non-null    int64         \n",
      " 5   inet_sum               403 non-null    float64       \n",
      " 6   messages               403 non-null    int64         \n",
      " 7   age                    403 non-null    int64         \n",
      " 8   churn_date             27 non-null     object        \n",
      " 9   city                   403 non-null    object        \n",
      " 10  first_name             403 non-null    object        \n",
      " 11  last_name              403 non-null    object        \n",
      " 12  reg_date               403 non-null    datetime64[ns]\n",
      " 13  tariff                 403 non-null    object        \n",
      " 14  messages_included      403 non-null    int64         \n",
      " 15  mb_per_month_included  403 non-null    int64         \n",
      " 16  minutes_included       403 non-null    int64         \n",
      " 17  rub_monthly_fee        403 non-null    int64         \n",
      " 18  rub_per_gb             403 non-null    int64         \n",
      " 19  rub_per_message        403 non-null    int64         \n",
      " 20  rub_per_minute         403 non-null    int64         \n",
      " 21  inet_gb                403 non-null    float64       \n",
      " 22  profit                 403 non-null    float64       \n",
      "dtypes: datetime64[ns](1), float64(4), int64(13), object(5)\n",
      "memory usage: 75.6+ KB\n"
     ]
    },
    {
     "data": {
      "text/html": [
       "<div>\n",
       "<style scoped>\n",
       "    .dataframe tbody tr th:only-of-type {\n",
       "        vertical-align: middle;\n",
       "    }\n",
       "\n",
       "    .dataframe tbody tr th {\n",
       "        vertical-align: top;\n",
       "    }\n",
       "\n",
       "    .dataframe thead th {\n",
       "        text-align: right;\n",
       "    }\n",
       "</style>\n",
       "<table border=\"1\" class=\"dataframe\">\n",
       "  <thead>\n",
       "    <tr style=\"text-align: right;\">\n",
       "      <th></th>\n",
       "      <th>month</th>\n",
       "      <th>user_id</th>\n",
       "      <th>call_count</th>\n",
       "      <th>call_sum</th>\n",
       "      <th>inet_count</th>\n",
       "      <th>inet_sum</th>\n",
       "      <th>messages</th>\n",
       "      <th>age</th>\n",
       "      <th>churn_date</th>\n",
       "      <th>city</th>\n",
       "      <th>...</th>\n",
       "      <th>tariff</th>\n",
       "      <th>messages_included</th>\n",
       "      <th>mb_per_month_included</th>\n",
       "      <th>minutes_included</th>\n",
       "      <th>rub_monthly_fee</th>\n",
       "      <th>rub_per_gb</th>\n",
       "      <th>rub_per_message</th>\n",
       "      <th>rub_per_minute</th>\n",
       "      <th>inet_gb</th>\n",
       "      <th>profit</th>\n",
       "    </tr>\n",
       "  </thead>\n",
       "  <tbody>\n",
       "    <tr>\n",
       "      <th>0</th>\n",
       "      <td>1</td>\n",
       "      <td>1005</td>\n",
       "      <td>15</td>\n",
       "      <td>95.0</td>\n",
       "      <td>6</td>\n",
       "      <td>2727.97</td>\n",
       "      <td>7</td>\n",
       "      <td>67</td>\n",
       "      <td>NaN</td>\n",
       "      <td>Набережные Челны</td>\n",
       "      <td>...</td>\n",
       "      <td>smart</td>\n",
       "      <td>50</td>\n",
       "      <td>15360</td>\n",
       "      <td>500</td>\n",
       "      <td>550</td>\n",
       "      <td>200</td>\n",
       "      <td>3</td>\n",
       "      <td>3</td>\n",
       "      <td>2.664033</td>\n",
       "      <td>1150.0</td>\n",
       "    </tr>\n",
       "    <tr>\n",
       "      <th>1</th>\n",
       "      <td>1</td>\n",
       "      <td>1032</td>\n",
       "      <td>61</td>\n",
       "      <td>380.0</td>\n",
       "      <td>62</td>\n",
       "      <td>24127.69</td>\n",
       "      <td>38</td>\n",
       "      <td>31</td>\n",
       "      <td>NaN</td>\n",
       "      <td>Ульяновск</td>\n",
       "      <td>...</td>\n",
       "      <td>smart</td>\n",
       "      <td>50</td>\n",
       "      <td>15360</td>\n",
       "      <td>500</td>\n",
       "      <td>550</td>\n",
       "      <td>200</td>\n",
       "      <td>3</td>\n",
       "      <td>3</td>\n",
       "      <td>23.562197</td>\n",
       "      <td>5350.0</td>\n",
       "    </tr>\n",
       "    <tr>\n",
       "      <th>2</th>\n",
       "      <td>1</td>\n",
       "      <td>1045</td>\n",
       "      <td>1</td>\n",
       "      <td>9.0</td>\n",
       "      <td>5</td>\n",
       "      <td>2346.71</td>\n",
       "      <td>5</td>\n",
       "      <td>48</td>\n",
       "      <td>NaN</td>\n",
       "      <td>Улан-Удэ</td>\n",
       "      <td>...</td>\n",
       "      <td>smart</td>\n",
       "      <td>50</td>\n",
       "      <td>15360</td>\n",
       "      <td>500</td>\n",
       "      <td>550</td>\n",
       "      <td>200</td>\n",
       "      <td>3</td>\n",
       "      <td>3</td>\n",
       "      <td>2.291709</td>\n",
       "      <td>950.0</td>\n",
       "    </tr>\n",
       "    <tr>\n",
       "      <th>3</th>\n",
       "      <td>1</td>\n",
       "      <td>1055</td>\n",
       "      <td>64</td>\n",
       "      <td>551.0</td>\n",
       "      <td>47</td>\n",
       "      <td>17090.88</td>\n",
       "      <td>30</td>\n",
       "      <td>39</td>\n",
       "      <td>NaN</td>\n",
       "      <td>Казань</td>\n",
       "      <td>...</td>\n",
       "      <td>smart</td>\n",
       "      <td>50</td>\n",
       "      <td>15360</td>\n",
       "      <td>500</td>\n",
       "      <td>550</td>\n",
       "      <td>200</td>\n",
       "      <td>3</td>\n",
       "      <td>3</td>\n",
       "      <td>16.690313</td>\n",
       "      <td>4103.0</td>\n",
       "    </tr>\n",
       "    <tr>\n",
       "      <th>4</th>\n",
       "      <td>1</td>\n",
       "      <td>1071</td>\n",
       "      <td>24</td>\n",
       "      <td>194.0</td>\n",
       "      <td>40</td>\n",
       "      <td>15604.34</td>\n",
       "      <td>16</td>\n",
       "      <td>20</td>\n",
       "      <td>2018-08-31</td>\n",
       "      <td>Омск</td>\n",
       "      <td>...</td>\n",
       "      <td>smart</td>\n",
       "      <td>50</td>\n",
       "      <td>15360</td>\n",
       "      <td>500</td>\n",
       "      <td>550</td>\n",
       "      <td>200</td>\n",
       "      <td>3</td>\n",
       "      <td>3</td>\n",
       "      <td>15.238613</td>\n",
       "      <td>3550.0</td>\n",
       "    </tr>\n",
       "  </tbody>\n",
       "</table>\n",
       "<p>5 rows × 23 columns</p>\n",
       "</div>"
      ],
      "text/plain": [
       "   month  user_id  call_count  call_sum  inet_count  inet_sum  messages  age  \\\n",
       "0      1     1005          15      95.0           6   2727.97         7   67   \n",
       "1      1     1032          61     380.0          62  24127.69        38   31   \n",
       "2      1     1045           1       9.0           5   2346.71         5   48   \n",
       "3      1     1055          64     551.0          47  17090.88        30   39   \n",
       "4      1     1071          24     194.0          40  15604.34        16   20   \n",
       "\n",
       "   churn_date              city  ... tariff messages_included  \\\n",
       "0         NaN  Набережные Челны  ...  smart                50   \n",
       "1         NaN         Ульяновск  ...  smart                50   \n",
       "2         NaN          Улан-Удэ  ...  smart                50   \n",
       "3         NaN            Казань  ...  smart                50   \n",
       "4  2018-08-31              Омск  ...  smart                50   \n",
       "\n",
       "  mb_per_month_included minutes_included  rub_monthly_fee  rub_per_gb  \\\n",
       "0                 15360              500              550         200   \n",
       "1                 15360              500              550         200   \n",
       "2                 15360              500              550         200   \n",
       "3                 15360              500              550         200   \n",
       "4                 15360              500              550         200   \n",
       "\n",
       "   rub_per_message  rub_per_minute    inet_gb  profit  \n",
       "0                3               3   2.664033  1150.0  \n",
       "1                3               3  23.562197  5350.0  \n",
       "2                3               3   2.291709   950.0  \n",
       "3                3               3  16.690313  4103.0  \n",
       "4                3               3  15.238613  3550.0  \n",
       "\n",
       "[5 rows x 23 columns]"
      ]
     },
     "execution_count": 160,
     "metadata": {},
     "output_type": "execute_result"
    }
   ],
   "source": [
    "df.info()\n",
    "df.head()"
   ]
  },
  {
   "cell_type": "code",
   "execution_count": 161,
   "metadata": {},
   "outputs": [
    {
     "data": {
      "text/plain": [
       "count     113.000000\n",
       "mean     3309.292035\n",
       "std      1238.600677\n",
       "min      1950.000000\n",
       "25%      2250.000000\n",
       "50%      3000.000000\n",
       "75%      4050.000000\n",
       "max      6750.000000\n",
       "Name: profit, dtype: float64"
      ]
     },
     "execution_count": 161,
     "metadata": {},
     "output_type": "execute_result"
    }
   ],
   "source": [
    "ultra = df[df['tariff'] == 'ultra']\n",
    "ultra['profit'].describe()"
   ]
  },
  {
   "cell_type": "code",
   "execution_count": 162,
   "metadata": {},
   "outputs": [
    {
     "data": {
      "image/png": "[encoded data removed]",
      "text/plain": [
       "<Figure size 432x288 with 1 Axes>"
      ]
     },
     "metadata": {
      "needs_background": "light"
     },
     "output_type": "display_data"
    }
   ],
   "source": [
    "ultra['profit'].plot();"
   ]
  },
  {
   "cell_type": "code",
   "execution_count": 163,
   "metadata": {},
   "outputs": [
    {
     "data": {
      "text/plain": [
       "count     290.000000\n",
       "mean     2486.344828\n",
       "std      1134.780688\n",
       "min       550.000000\n",
       "25%      1550.000000\n",
       "50%      2350.000000\n",
       "75%      3150.000000\n",
       "max      5550.000000\n",
       "Name: profit, dtype: float64"
      ]
     },
     "execution_count": 163,
     "metadata": {},
     "output_type": "execute_result"
    }
   ],
   "source": [
    "smart = df[df['tariff'] == 'smart']\n",
    "smart['profit'].describe()"
   ]
  },
  {
   "cell_type": "code",
   "execution_count": 164,
   "metadata": {},
   "outputs": [
    {
     "data": {
      "image/png": "[encoded data removed]",
      "text/plain": [
       "<Figure size 432x288 with 1 Axes>"
      ]
     },
     "metadata": {
      "needs_background": "light"
     },
     "output_type": "display_data"
    }
   ],
   "source": [
    "smart['profit'].plot();"
   ]
  },
  {
   "cell_type": "code",
   "execution_count": 165,
   "metadata": {},
   "outputs": [
    {
     "data": {
      "text/plain": [
       "721040.0"
      ]
     },
     "execution_count": 165,
     "metadata": {},
     "output_type": "execute_result"
    }
   ],
   "source": [
    "smart['profit'].sum()"
   ]
  },
  {
   "cell_type": "code",
   "execution_count": 166,
   "metadata": {},
   "outputs": [
    {
     "data": {
      "text/plain": [
       "373950.0"
      ]
     },
     "execution_count": 166,
     "metadata": {},
     "output_type": "execute_result"
    }
   ],
   "source": [
    "ultra['profit'].sum()"
   ]
  },
  {
   "cell_type": "code",
   "execution_count": 167,
   "metadata": {},
   "outputs": [
    {
     "name": "stdout",
     "output_type": "stream",
     "text": [
      "Данные для звонков тарифа смарт:\n",
      "count    290.000000\n",
      "mean     254.155172\n",
      "std      159.056518\n",
      "min        0.000000\n",
      "25%      118.250000\n",
      "50%      238.500000\n",
      "75%      353.000000\n",
      "max      705.000000\n",
      "Name: call_sum, dtype: float64\n",
      "\n",
      "Данные для интернета тарифа смарт:\n",
      "count      290.000000\n",
      "mean      9845.069793\n",
      "std       5705.015319\n",
      "min          0.000000\n",
      "25%       5191.060000\n",
      "50%       9241.670000\n",
      "75%      13641.775000\n",
      "max      25761.350000\n",
      "Name: inet_sum, dtype: float64\n",
      "\n",
      "Данные для сообщений тарифа смарт:\n",
      "count    290.000000\n",
      "mean      23.272414\n",
      "std       20.742404\n",
      "min        1.000000\n",
      "25%        7.000000\n",
      "50%       17.000000\n",
      "75%       32.000000\n",
      "max      103.000000\n",
      "Name: messages, dtype: float64\n"
     ]
    }
   ],
   "source": [
    "print('Данные для звонков тарифа смарт:')\n",
    "print(smart['call_sum'].describe())\n",
    "print()\n",
    "print('Данные для интернета тарифа смарт:')\n",
    "print(smart['inet_sum'].describe())\n",
    "print()\n",
    "print('Данные для сообщений тарифа смарт:')\n",
    "print(smart['messages'].describe())"
   ]
  },
  {
   "cell_type": "code",
   "execution_count": 168,
   "metadata": {},
   "outputs": [
    {
     "name": "stdout",
     "output_type": "stream",
     "text": [
      "Данные для звонков тарифа ультра:\n",
      "count     113.000000\n",
      "mean      326.619469\n",
      "std       266.340354\n",
      "min         1.000000\n",
      "25%       106.000000\n",
      "50%       277.000000\n",
      "75%       462.000000\n",
      "max      1186.000000\n",
      "Name: call_sum, dtype: float64\n",
      "\n",
      "Данные для интернета тарифа ультра:\n",
      "count      113.000000\n",
      "mean     11734.918407\n",
      "std       8525.562999\n",
      "min          0.000000\n",
      "25%       4677.840000\n",
      "50%       9782.390000\n",
      "75%      16681.400000\n",
      "max      34888.140000\n",
      "Name: inet_sum, dtype: float64\n",
      "\n",
      "Данные для сообщений тарифа ультра:\n",
      "count    113.000000\n",
      "mean      40.469027\n",
      "std       38.013877\n",
      "min        1.000000\n",
      "25%       14.000000\n",
      "50%       27.000000\n",
      "75%       62.000000\n",
      "max      223.000000\n",
      "Name: messages, dtype: float64\n"
     ]
    }
   ],
   "source": [
    "print('Данные для звонков тарифа ультра:')\n",
    "print(ultra['call_sum'].describe())\n",
    "print()\n",
    "print('Данные для интернета тарифа ультра:')\n",
    "print(ultra['inet_sum'].describe())\n",
    "print()\n",
    "print('Данные для сообщений тарифа ультра:')\n",
    "print(ultra['messages'].describe())"
   ]
  },
  {
   "cell_type": "markdown",
   "metadata": {},
   "source": [
    "Рассмотрим на графиках время разговоров"
   ]
  },
  {
   "cell_type": "code",
   "execution_count": 169,
   "metadata": {},
   "outputs": [
    {
     "name": "stdout",
     "output_type": "stream",
     "text": [
      "count    290.000000\n",
      "mean     254.155172\n",
      "std      159.056518\n",
      "min        0.000000\n",
      "25%      118.250000\n",
      "50%      238.500000\n",
      "75%      353.000000\n",
      "max      705.000000\n",
      "Name: call_sum, dtype: float64\n"
     ]
    },
    {
     "data": {
      "image/png": "[encoded data removed]",
      "text/plain": [
       "<Figure size 432x288 with 1 Axes>"
      ]
     },
     "metadata": {
      "needs_background": "light"
     },
     "output_type": "display_data"
    }
   ],
   "source": [
    "smart['call_sum'].hist(bins = 50);\n",
    "print(smart['call_sum'].describe())"
   ]
  },
  {
   "cell_type": "code",
   "execution_count": 170,
   "metadata": {},
   "outputs": [
    {
     "name": "stdout",
     "output_type": "stream",
     "text": [
      "count     113.000000\n",
      "mean      326.619469\n",
      "std       266.340354\n",
      "min         1.000000\n",
      "25%       106.000000\n",
      "50%       277.000000\n",
      "75%       462.000000\n",
      "max      1186.000000\n",
      "Name: call_sum, dtype: float64\n"
     ]
    },
    {
     "data": {
      "image/png": "[encoded data removed]",
      "text/plain": [
       "<Figure size 432x288 with 1 Axes>"
      ]
     },
     "metadata": {
      "needs_background": "light"
     },
     "output_type": "display_data"
    }
   ],
   "source": [
    "ultra['call_sum'].hist(bins = 50);\n",
    "print(ultra['call_sum'].describe())"
   ]
  },
  {
   "cell_type": "markdown",
   "metadata": {},
   "source": [
    "Рассмотрим на графиках объем трафика"
   ]
  },
  {
   "cell_type": "code",
   "execution_count": 171,
   "metadata": {},
   "outputs": [
    {
     "data": {
      "text/plain": [
       "count    290.000000\n",
       "mean       9.614326\n",
       "std        5.571304\n",
       "min        0.000000\n",
       "25%        5.069395\n",
       "50%        9.025068\n",
       "75%       13.322046\n",
       "max       25.157568\n",
       "Name: inet_gb, dtype: float64"
      ]
     },
     "execution_count": 171,
     "metadata": {},
     "output_type": "execute_result"
    },
    {
     "data": {
      "image/png": "[encoded data removed]",
      "text/plain": [
       "<Figure size 432x288 with 1 Axes>"
      ]
     },
     "metadata": {
      "needs_background": "light"
     },
     "output_type": "display_data"
    }
   ],
   "source": [
    "smart['inet_gb'].hist(bins = 50);\n",
    "smart['inet_gb'].describe()"
   ]
  },
  {
   "cell_type": "code",
   "execution_count": 172,
   "metadata": {},
   "outputs": [
    {
     "data": {
      "text/plain": [
       "count    113.000000\n",
       "mean      11.459881\n",
       "std        8.325745\n",
       "min        0.000000\n",
       "25%        4.568203\n",
       "50%        9.553115\n",
       "75%       16.290430\n",
       "max       34.070449\n",
       "Name: inet_gb, dtype: float64"
      ]
     },
     "execution_count": 172,
     "metadata": {},
     "output_type": "execute_result"
    },
    {
     "data": {
      "image/png": "[encoded data removed]",
      "text/plain": [
       "<Figure size 432x288 with 1 Axes>"
      ]
     },
     "metadata": {
      "needs_background": "light"
     },
     "output_type": "display_data"
    }
   ],
   "source": [
    "ultra['inet_gb'].hist(bins = 50);\n",
    "ultra['inet_gb'].describe()"
   ]
  },
  {
   "cell_type": "markdown",
   "metadata": {},
   "source": [
    "Рассмотрим на графиках данные об отправленных сообщениях"
   ]
  },
  {
   "cell_type": "code",
   "execution_count": 173,
   "metadata": {},
   "outputs": [
    {
     "data": {
      "image/png": "[encoded data removed]",
      "text/plain": [
       "<Figure size 432x288 with 1 Axes>"
      ]
     },
     "metadata": {
      "needs_background": "light"
     },
     "output_type": "display_data"
    }
   ],
   "source": [
    "smart['messages'].describe()\n",
    "smart['messages'].hist(bins = 50);"
   ]
  },
  {
   "cell_type": "code",
   "execution_count": 174,
   "metadata": {},
   "outputs": [
    {
     "data": {
      "image/png": "[encoded data removed]",
      "text/plain": [
       "<Figure size 432x288 with 1 Axes>"
      ]
     },
     "metadata": {
      "needs_background": "light"
     },
     "output_type": "display_data"
    }
   ],
   "source": [
    "ultra['messages'].describe()\n",
    "ultra['messages'].hist(bins = 50);"
   ]
  },
  {
   "cell_type": "markdown",
   "metadata": {},
   "source": [
    "Мы рассмотрели данные, и можем сделать несколько выводов:\n",
    "Те, кто тратит много времени на звонки и тратит много трафика, предпочитают пользоваться тарифом ультра. Среди отправленных смс сообщений наблюдается похожая тенденция. При этом часто пользователи смарта не укладываются в рамки тарифа и доплачивают. И, в принципе, им это будет обходиться все равно дешевле, чем тариф ультра. "
   ]
  },
  {
   "cell_type": "markdown",
   "metadata": {},
   "source": [
    "# Проверка гипотез"
   ]
  },
  {
   "cell_type": "markdown",
   "metadata": {},
   "source": [
    "Нулевая гипотеза о равенстве средних двух генеральных совокупностей: пользователи тарифа смарт и пользователи тарифа ультра. И мы ее проверяем. Гипотеза двухсторонняя, нам неважно, в какую сторону она будет изменяться. \n",
    "Н 0 - средняя выручка от пользователей тарифа смарт равна средней выручке от пользователей тарифа ультра\n",
    "Н 1 - средняя выручка от пользователей тарифа смарт не равна средней выручке от пользователей тарифа ультра"
   ]
  },
  {
   "cell_type": "markdown",
   "metadata": {},
   "source": [
    "Создадим два датафрейма: московские пользователи и пользователи, проживающие вне Москвы. "
   ]
  },
  {
   "cell_type": "code",
   "execution_count": 175,
   "metadata": {},
   "outputs": [
    {
     "data": {
      "text/html": [
       "<div>\n",
       "<style scoped>\n",
       "    .dataframe tbody tr th:only-of-type {\n",
       "        vertical-align: middle;\n",
       "    }\n",
       "\n",
       "    .dataframe tbody tr th {\n",
       "        vertical-align: top;\n",
       "    }\n",
       "\n",
       "    .dataframe thead th {\n",
       "        text-align: right;\n",
       "    }\n",
       "</style>\n",
       "<table border=\"1\" class=\"dataframe\">\n",
       "  <thead>\n",
       "    <tr style=\"text-align: right;\">\n",
       "      <th></th>\n",
       "      <th>month</th>\n",
       "      <th>user_id</th>\n",
       "      <th>call_count</th>\n",
       "      <th>call_sum</th>\n",
       "      <th>inet_count</th>\n",
       "      <th>inet_sum</th>\n",
       "      <th>messages</th>\n",
       "      <th>age</th>\n",
       "      <th>churn_date</th>\n",
       "      <th>city</th>\n",
       "      <th>...</th>\n",
       "      <th>tariff</th>\n",
       "      <th>messages_included</th>\n",
       "      <th>mb_per_month_included</th>\n",
       "      <th>minutes_included</th>\n",
       "      <th>rub_monthly_fee</th>\n",
       "      <th>rub_per_gb</th>\n",
       "      <th>rub_per_message</th>\n",
       "      <th>rub_per_minute</th>\n",
       "      <th>inet_gb</th>\n",
       "      <th>profit</th>\n",
       "    </tr>\n",
       "  </thead>\n",
       "  <tbody>\n",
       "    <tr>\n",
       "      <th>18</th>\n",
       "      <td>1</td>\n",
       "      <td>1308</td>\n",
       "      <td>28</td>\n",
       "      <td>250.0</td>\n",
       "      <td>40</td>\n",
       "      <td>11962.84</td>\n",
       "      <td>24</td>\n",
       "      <td>52</td>\n",
       "      <td>NaN</td>\n",
       "      <td>Москва</td>\n",
       "      <td>...</td>\n",
       "      <td>smart</td>\n",
       "      <td>50</td>\n",
       "      <td>15360</td>\n",
       "      <td>500</td>\n",
       "      <td>550</td>\n",
       "      <td>200</td>\n",
       "      <td>3</td>\n",
       "      <td>3</td>\n",
       "      <td>11.682461</td>\n",
       "      <td>2950.0</td>\n",
       "    </tr>\n",
       "    <tr>\n",
       "      <th>24</th>\n",
       "      <td>1</td>\n",
       "      <td>1395</td>\n",
       "      <td>69</td>\n",
       "      <td>492.0</td>\n",
       "      <td>60</td>\n",
       "      <td>23367.03</td>\n",
       "      <td>25</td>\n",
       "      <td>66</td>\n",
       "      <td>NaN</td>\n",
       "      <td>Москва</td>\n",
       "      <td>...</td>\n",
       "      <td>smart</td>\n",
       "      <td>50</td>\n",
       "      <td>15360</td>\n",
       "      <td>500</td>\n",
       "      <td>550</td>\n",
       "      <td>200</td>\n",
       "      <td>3</td>\n",
       "      <td>3</td>\n",
       "      <td>22.819365</td>\n",
       "      <td>5150.0</td>\n",
       "    </tr>\n",
       "    <tr>\n",
       "      <th>25</th>\n",
       "      <td>1</td>\n",
       "      <td>1401</td>\n",
       "      <td>15</td>\n",
       "      <td>153.0</td>\n",
       "      <td>13</td>\n",
       "      <td>5144.72</td>\n",
       "      <td>14</td>\n",
       "      <td>42</td>\n",
       "      <td>NaN</td>\n",
       "      <td>Москва</td>\n",
       "      <td>...</td>\n",
       "      <td>smart</td>\n",
       "      <td>50</td>\n",
       "      <td>15360</td>\n",
       "      <td>500</td>\n",
       "      <td>550</td>\n",
       "      <td>200</td>\n",
       "      <td>3</td>\n",
       "      <td>3</td>\n",
       "      <td>5.024141</td>\n",
       "      <td>1550.0</td>\n",
       "    </tr>\n",
       "    <tr>\n",
       "      <th>39</th>\n",
       "      <td>2</td>\n",
       "      <td>1321</td>\n",
       "      <td>40</td>\n",
       "      <td>258.0</td>\n",
       "      <td>39</td>\n",
       "      <td>15510.52</td>\n",
       "      <td>18</td>\n",
       "      <td>29</td>\n",
       "      <td>NaN</td>\n",
       "      <td>Москва</td>\n",
       "      <td>...</td>\n",
       "      <td>smart</td>\n",
       "      <td>50</td>\n",
       "      <td>15360</td>\n",
       "      <td>500</td>\n",
       "      <td>550</td>\n",
       "      <td>200</td>\n",
       "      <td>3</td>\n",
       "      <td>3</td>\n",
       "      <td>15.146992</td>\n",
       "      <td>3550.0</td>\n",
       "    </tr>\n",
       "    <tr>\n",
       "      <th>47</th>\n",
       "      <td>2</td>\n",
       "      <td>1481</td>\n",
       "      <td>2</td>\n",
       "      <td>36.0</td>\n",
       "      <td>8</td>\n",
       "      <td>2745.82</td>\n",
       "      <td>6</td>\n",
       "      <td>70</td>\n",
       "      <td>NaN</td>\n",
       "      <td>Москва</td>\n",
       "      <td>...</td>\n",
       "      <td>smart</td>\n",
       "      <td>50</td>\n",
       "      <td>15360</td>\n",
       "      <td>500</td>\n",
       "      <td>550</td>\n",
       "      <td>200</td>\n",
       "      <td>3</td>\n",
       "      <td>3</td>\n",
       "      <td>2.681465</td>\n",
       "      <td>1150.0</td>\n",
       "    </tr>\n",
       "  </tbody>\n",
       "</table>\n",
       "<p>5 rows × 23 columns</p>\n",
       "</div>"
      ],
      "text/plain": [
       "    month  user_id  call_count  call_sum  inet_count  inet_sum  messages  age  \\\n",
       "18      1     1308          28     250.0          40  11962.84        24   52   \n",
       "24      1     1395          69     492.0          60  23367.03        25   66   \n",
       "25      1     1401          15     153.0          13   5144.72        14   42   \n",
       "39      2     1321          40     258.0          39  15510.52        18   29   \n",
       "47      2     1481           2      36.0           8   2745.82         6   70   \n",
       "\n",
       "   churn_date    city  ... tariff messages_included mb_per_month_included  \\\n",
       "18        NaN  Москва  ...  smart                50                 15360   \n",
       "24        NaN  Москва  ...  smart                50                 15360   \n",
       "25        NaN  Москва  ...  smart                50                 15360   \n",
       "39        NaN  Москва  ...  smart                50                 15360   \n",
       "47        NaN  Москва  ...  smart                50                 15360   \n",
       "\n",
       "   minutes_included  rub_monthly_fee  rub_per_gb  rub_per_message  \\\n",
       "18              500              550         200                3   \n",
       "24              500              550         200                3   \n",
       "25              500              550         200                3   \n",
       "39              500              550         200                3   \n",
       "47              500              550         200                3   \n",
       "\n",
       "    rub_per_minute    inet_gb  profit  \n",
       "18               3  11.682461  2950.0  \n",
       "24               3  22.819365  5150.0  \n",
       "25               3   5.024141  1550.0  \n",
       "39               3  15.146992  3550.0  \n",
       "47               3   2.681465  1150.0  \n",
       "\n",
       "[5 rows x 23 columns]"
      ]
     },
     "execution_count": 175,
     "metadata": {},
     "output_type": "execute_result"
    }
   ],
   "source": [
    "moscow = df[df['city'] == 'Москва']\n",
    "moscow.head()"
   ]
  },
  {
   "cell_type": "code",
   "execution_count": 176,
   "metadata": {},
   "outputs": [
    {
     "data": {
      "text/html": [
       "<div>\n",
       "<style scoped>\n",
       "    .dataframe tbody tr th:only-of-type {\n",
       "        vertical-align: middle;\n",
       "    }\n",
       "\n",
       "    .dataframe tbody tr th {\n",
       "        vertical-align: top;\n",
       "    }\n",
       "\n",
       "    .dataframe thead th {\n",
       "        text-align: right;\n",
       "    }\n",
       "</style>\n",
       "<table border=\"1\" class=\"dataframe\">\n",
       "  <thead>\n",
       "    <tr style=\"text-align: right;\">\n",
       "      <th></th>\n",
       "      <th>month</th>\n",
       "      <th>user_id</th>\n",
       "      <th>call_count</th>\n",
       "      <th>call_sum</th>\n",
       "      <th>inet_count</th>\n",
       "      <th>inet_sum</th>\n",
       "      <th>messages</th>\n",
       "      <th>age</th>\n",
       "      <th>churn_date</th>\n",
       "      <th>city</th>\n",
       "      <th>...</th>\n",
       "      <th>tariff</th>\n",
       "      <th>messages_included</th>\n",
       "      <th>mb_per_month_included</th>\n",
       "      <th>minutes_included</th>\n",
       "      <th>rub_monthly_fee</th>\n",
       "      <th>rub_per_gb</th>\n",
       "      <th>rub_per_message</th>\n",
       "      <th>rub_per_minute</th>\n",
       "      <th>inet_gb</th>\n",
       "      <th>profit</th>\n",
       "    </tr>\n",
       "  </thead>\n",
       "  <tbody>\n",
       "    <tr>\n",
       "      <th>0</th>\n",
       "      <td>1</td>\n",
       "      <td>1005</td>\n",
       "      <td>15</td>\n",
       "      <td>95.0</td>\n",
       "      <td>6</td>\n",
       "      <td>2727.97</td>\n",
       "      <td>7</td>\n",
       "      <td>67</td>\n",
       "      <td>NaN</td>\n",
       "      <td>Набережные Челны</td>\n",
       "      <td>...</td>\n",
       "      <td>smart</td>\n",
       "      <td>50</td>\n",
       "      <td>15360</td>\n",
       "      <td>500</td>\n",
       "      <td>550</td>\n",
       "      <td>200</td>\n",
       "      <td>3</td>\n",
       "      <td>3</td>\n",
       "      <td>2.664033</td>\n",
       "      <td>1150.0</td>\n",
       "    </tr>\n",
       "    <tr>\n",
       "      <th>1</th>\n",
       "      <td>1</td>\n",
       "      <td>1032</td>\n",
       "      <td>61</td>\n",
       "      <td>380.0</td>\n",
       "      <td>62</td>\n",
       "      <td>24127.69</td>\n",
       "      <td>38</td>\n",
       "      <td>31</td>\n",
       "      <td>NaN</td>\n",
       "      <td>Ульяновск</td>\n",
       "      <td>...</td>\n",
       "      <td>smart</td>\n",
       "      <td>50</td>\n",
       "      <td>15360</td>\n",
       "      <td>500</td>\n",
       "      <td>550</td>\n",
       "      <td>200</td>\n",
       "      <td>3</td>\n",
       "      <td>3</td>\n",
       "      <td>23.562197</td>\n",
       "      <td>5350.0</td>\n",
       "    </tr>\n",
       "    <tr>\n",
       "      <th>2</th>\n",
       "      <td>1</td>\n",
       "      <td>1045</td>\n",
       "      <td>1</td>\n",
       "      <td>9.0</td>\n",
       "      <td>5</td>\n",
       "      <td>2346.71</td>\n",
       "      <td>5</td>\n",
       "      <td>48</td>\n",
       "      <td>NaN</td>\n",
       "      <td>Улан-Удэ</td>\n",
       "      <td>...</td>\n",
       "      <td>smart</td>\n",
       "      <td>50</td>\n",
       "      <td>15360</td>\n",
       "      <td>500</td>\n",
       "      <td>550</td>\n",
       "      <td>200</td>\n",
       "      <td>3</td>\n",
       "      <td>3</td>\n",
       "      <td>2.291709</td>\n",
       "      <td>950.0</td>\n",
       "    </tr>\n",
       "    <tr>\n",
       "      <th>3</th>\n",
       "      <td>1</td>\n",
       "      <td>1055</td>\n",
       "      <td>64</td>\n",
       "      <td>551.0</td>\n",
       "      <td>47</td>\n",
       "      <td>17090.88</td>\n",
       "      <td>30</td>\n",
       "      <td>39</td>\n",
       "      <td>NaN</td>\n",
       "      <td>Казань</td>\n",
       "      <td>...</td>\n",
       "      <td>smart</td>\n",
       "      <td>50</td>\n",
       "      <td>15360</td>\n",
       "      <td>500</td>\n",
       "      <td>550</td>\n",
       "      <td>200</td>\n",
       "      <td>3</td>\n",
       "      <td>3</td>\n",
       "      <td>16.690313</td>\n",
       "      <td>4103.0</td>\n",
       "    </tr>\n",
       "    <tr>\n",
       "      <th>4</th>\n",
       "      <td>1</td>\n",
       "      <td>1071</td>\n",
       "      <td>24</td>\n",
       "      <td>194.0</td>\n",
       "      <td>40</td>\n",
       "      <td>15604.34</td>\n",
       "      <td>16</td>\n",
       "      <td>20</td>\n",
       "      <td>2018-08-31</td>\n",
       "      <td>Омск</td>\n",
       "      <td>...</td>\n",
       "      <td>smart</td>\n",
       "      <td>50</td>\n",
       "      <td>15360</td>\n",
       "      <td>500</td>\n",
       "      <td>550</td>\n",
       "      <td>200</td>\n",
       "      <td>3</td>\n",
       "      <td>3</td>\n",
       "      <td>15.238613</td>\n",
       "      <td>3550.0</td>\n",
       "    </tr>\n",
       "  </tbody>\n",
       "</table>\n",
       "<p>5 rows × 23 columns</p>\n",
       "</div>"
      ],
      "text/plain": [
       "   month  user_id  call_count  call_sum  inet_count  inet_sum  messages  age  \\\n",
       "0      1     1005          15      95.0           6   2727.97         7   67   \n",
       "1      1     1032          61     380.0          62  24127.69        38   31   \n",
       "2      1     1045           1       9.0           5   2346.71         5   48   \n",
       "3      1     1055          64     551.0          47  17090.88        30   39   \n",
       "4      1     1071          24     194.0          40  15604.34        16   20   \n",
       "\n",
       "   churn_date              city  ... tariff messages_included  \\\n",
       "0         NaN  Набережные Челны  ...  smart                50   \n",
       "1         NaN         Ульяновск  ...  smart                50   \n",
       "2         NaN          Улан-Удэ  ...  smart                50   \n",
       "3         NaN            Казань  ...  smart                50   \n",
       "4  2018-08-31              Омск  ...  smart                50   \n",
       "\n",
       "  mb_per_month_included minutes_included  rub_monthly_fee  rub_per_gb  \\\n",
       "0                 15360              500              550         200   \n",
       "1                 15360              500              550         200   \n",
       "2                 15360              500              550         200   \n",
       "3                 15360              500              550         200   \n",
       "4                 15360              500              550         200   \n",
       "\n",
       "   rub_per_message  rub_per_minute    inet_gb  profit  \n",
       "0                3               3   2.664033  1150.0  \n",
       "1                3               3  23.562197  5350.0  \n",
       "2                3               3   2.291709   950.0  \n",
       "3                3               3  16.690313  4103.0  \n",
       "4                3               3  15.238613  3550.0  \n",
       "\n",
       "[5 rows x 23 columns]"
      ]
     },
     "execution_count": 176,
     "metadata": {},
     "output_type": "execute_result"
    }
   ],
   "source": [
    "other = df[df['city'] != 'Москва']\n",
    "other.head()"
   ]
  },
  {
   "cell_type": "markdown",
   "metadata": {},
   "source": [
    "Нулевая гипотеза о равенстве средних двух генеральных совокупностей: пользователи Москвы и пользователи, живущие вне столицы. И мы ее проверяем. Гипотеза двухсторонняя, нам неважно, в какую сторону она будет изменяться. \n",
    "Н 0 - средняя выручка от пользователей Москвы равна средней выручке от пользователей, живущих вне Москвы\n",
    "Н 1 - средняя выручка от пользователей Москвы не равна средней выручке от пользователей, живущих вне Москвы"
   ]
  },
  {
   "cell_type": "code",
   "execution_count": 178,
   "metadata": {},
   "outputs": [],
   "source": [
    "from scipy import stats as st"
   ]
  },
  {
   "cell_type": "code",
   "execution_count": 179,
   "metadata": {},
   "outputs": [
    {
     "name": "stdout",
     "output_type": "stream",
     "text": [
      "p-значение: 0.21041495003070215\n",
      "Не получилось отвергнуть нулевую гипотезу\n"
     ]
    }
   ],
   "source": [
    "alpha = .05 # критический уровень статистической значимости\n",
    "# если p-value окажется меньше него - отвергнем гипотезу\n",
    "\n",
    "results = st.ttest_ind(\n",
    "    moscow['profit'], \n",
    "    other['profit'])\n",
    "\n",
    "print('p-значение:', results.pvalue)\n",
    "\n",
    "if results.pvalue < alpha:\n",
    "    print(\"Отвергаем нулевую гипотезу\")\n",
    "else:\n",
    "    print(\"Не получилось отвергнуть нулевую гипотезу\") "
   ]
  },
  {
   "cell_type": "markdown",
   "metadata": {},
   "source": [
    "# Общий вывод"
   ]
  },
  {
   "cell_type": "markdown",
   "metadata": {},
   "source": [
    "Тариф ультра принес оператору 26 миллионов за срок наблюдений, тогда как тариф смарт - 58 миллионов. При этом в наших данных почти в 3 раза больше пользователей тарифа смарт. \n",
    "Компании нужны оба тарифа: пользователи тарифа смарт часто не укладываются в заложенные рамки и траят больше средств. Тариф ультра позволяет пользователям не думать о тратах и использовать мобильную связь без ограничений. \n",
    "Проверка гипотез помогла нам удостовериться в том, что:\n",
    "- средняя выручка от пользователей тарифа смарт не равна средней выручке от пользователей тарифа ультра\n",
    "- средняя выручка от пользователей Москвы не равна средней выручке от пользователей, живущих вне Москвы"
   ]
  }
 ],
 "metadata": {
  "ExecuteTimeLog": [
   {
    "duration": 943,
    "start_time": "2022-06-05T13:39:10.083Z"
   },
   {
    "duration": 431,
    "start_time": "2022-06-05T13:40:40.597Z"
   },
   {
    "duration": 167,
    "start_time": "2022-06-05T13:41:12.099Z"
   },
   {
    "duration": 83,
    "start_time": "2022-06-05T13:41:40.079Z"
   },
   {
    "duration": 97,
    "start_time": "2022-06-05T13:42:07.048Z"
   },
   {
    "duration": 970,
    "start_time": "2022-06-07T19:38:19.072Z"
   },
   {
    "duration": 435,
    "start_time": "2022-06-07T19:38:28.598Z"
   },
   {
    "duration": 189,
    "start_time": "2022-06-07T19:38:38.294Z"
   },
   {
    "duration": 180,
    "start_time": "2022-06-07T19:38:42.101Z"
   },
   {
    "duration": 146,
    "start_time": "2022-06-07T19:38:47.503Z"
   },
   {
    "duration": 163,
    "start_time": "2022-06-07T19:38:55.574Z"
   },
   {
    "duration": 80,
    "start_time": "2022-06-07T19:39:03.165Z"
   },
   {
    "duration": 94,
    "start_time": "2022-06-07T19:39:10.247Z"
   },
   {
    "duration": 182,
    "start_time": "2022-06-07T20:48:21.407Z"
   },
   {
    "duration": 143,
    "start_time": "2022-06-07T20:48:36.118Z"
   },
   {
    "duration": 114,
    "start_time": "2022-06-07T20:48:50.413Z"
   },
   {
    "duration": 38,
    "start_time": "2022-06-07T20:49:01.518Z"
   },
   {
    "duration": 54,
    "start_time": "2022-06-07T20:49:11.726Z"
   },
   {
    "duration": 64,
    "start_time": "2022-06-07T20:51:05.726Z"
   },
   {
    "duration": 6,
    "start_time": "2022-06-07T20:52:01.118Z"
   },
   {
    "duration": 15,
    "start_time": "2022-06-07T20:52:34.313Z"
   },
   {
    "duration": 55,
    "start_time": "2022-06-07T20:57:34.992Z"
   },
   {
    "duration": 6,
    "start_time": "2022-06-07T20:57:54.920Z"
   },
   {
    "duration": 6,
    "start_time": "2022-06-07T20:58:01.176Z"
   },
   {
    "duration": 891,
    "start_time": "2022-06-07T20:58:06.199Z"
   },
   {
    "duration": 430,
    "start_time": "2022-06-07T20:58:09.703Z"
   },
   {
    "duration": 162,
    "start_time": "2022-06-07T20:58:12.560Z"
   },
   {
    "duration": 72,
    "start_time": "2022-06-07T20:58:15.192Z"
   },
   {
    "duration": 94,
    "start_time": "2022-06-07T20:58:17.760Z"
   },
   {
    "duration": 52,
    "start_time": "2022-06-07T20:58:28.592Z"
   },
   {
    "duration": 6,
    "start_time": "2022-06-07T20:58:32.672Z"
   },
   {
    "duration": 954,
    "start_time": "2022-06-07T20:58:36.520Z"
   },
   {
    "duration": 418,
    "start_time": "2022-06-07T20:58:37.477Z"
   },
   {
    "duration": 150,
    "start_time": "2022-06-07T20:58:37.897Z"
   },
   {
    "duration": 73,
    "start_time": "2022-06-07T20:58:38.600Z"
   },
   {
    "duration": 82,
    "start_time": "2022-06-07T20:58:39.528Z"
   },
   {
    "duration": 56,
    "start_time": "2022-06-07T20:58:48.136Z"
   },
   {
    "duration": 6,
    "start_time": "2022-06-07T20:59:07.816Z"
   },
   {
    "duration": 897,
    "start_time": "2022-06-07T20:59:13.311Z"
   },
   {
    "duration": 431,
    "start_time": "2022-06-07T20:59:17.080Z"
   },
   {
    "duration": 62,
    "start_time": "2022-06-07T20:59:28.336Z"
   },
   {
    "duration": 969,
    "start_time": "2022-06-07T21:00:00.373Z"
   },
   {
    "duration": 438,
    "start_time": "2022-06-07T21:00:02.092Z"
   },
   {
    "duration": 172,
    "start_time": "2022-06-07T21:00:03.140Z"
   },
   {
    "duration": 74,
    "start_time": "2022-06-07T21:00:04.284Z"
   },
   {
    "duration": 83,
    "start_time": "2022-06-07T21:00:05.123Z"
   },
   {
    "duration": 54,
    "start_time": "2022-06-07T21:01:09.364Z"
   },
   {
    "duration": 944,
    "start_time": "2022-06-07T21:01:14.392Z"
   },
   {
    "duration": 413,
    "start_time": "2022-06-07T21:01:15.338Z"
   },
   {
    "duration": 166,
    "start_time": "2022-06-07T21:01:16.148Z"
   },
   {
    "duration": 62,
    "start_time": "2022-06-07T21:01:17.091Z"
   },
   {
    "duration": 95,
    "start_time": "2022-06-07T21:01:17.861Z"
   },
   {
    "duration": 53,
    "start_time": "2022-06-07T21:01:30.523Z"
   },
   {
    "duration": 920,
    "start_time": "2022-06-07T21:01:42.300Z"
   },
   {
    "duration": 25,
    "start_time": "2022-06-07T21:01:49.740Z"
   },
   {
    "duration": 182,
    "start_time": "2022-06-07T21:02:11.100Z"
   },
   {
    "duration": 432,
    "start_time": "2022-06-07T21:02:14.419Z"
   },
   {
    "duration": 158,
    "start_time": "2022-06-07T21:02:15.341Z"
   },
   {
    "duration": 75,
    "start_time": "2022-06-07T21:02:16.388Z"
   },
   {
    "duration": 83,
    "start_time": "2022-06-07T21:02:17.277Z"
   },
   {
    "duration": 58,
    "start_time": "2022-06-07T21:02:30.180Z"
   },
   {
    "duration": 6,
    "start_time": "2022-06-07T21:02:48.324Z"
   },
   {
    "duration": 927,
    "start_time": "2022-06-07T21:02:52.492Z"
   },
   {
    "duration": 424,
    "start_time": "2022-06-07T21:02:56.221Z"
   },
   {
    "duration": 51,
    "start_time": "2022-06-07T21:03:15.629Z"
   },
   {
    "duration": 962,
    "start_time": "2022-06-07T21:03:19.940Z"
   },
   {
    "duration": 423,
    "start_time": "2022-06-07T21:03:20.932Z"
   },
   {
    "duration": 939,
    "start_time": "2022-06-07T21:05:20.470Z"
   },
   {
    "duration": 413,
    "start_time": "2022-06-07T21:05:24.061Z"
   },
   {
    "duration": 50,
    "start_time": "2022-06-07T21:05:44.411Z"
   },
   {
    "duration": 926,
    "start_time": "2022-06-07T21:05:48.973Z"
   },
   {
    "duration": 430,
    "start_time": "2022-06-07T21:05:50.493Z"
   },
   {
    "duration": 924,
    "start_time": "2022-06-07T21:07:43.797Z"
   },
   {
    "duration": 428,
    "start_time": "2022-06-07T21:07:45.308Z"
   },
   {
    "duration": 53,
    "start_time": "2022-06-07T21:07:52.979Z"
   },
   {
    "duration": 7,
    "start_time": "2022-06-07T21:07:53.396Z"
   },
   {
    "duration": 6,
    "start_time": "2022-06-07T21:08:07.013Z"
   },
   {
    "duration": 923,
    "start_time": "2022-06-07T21:08:11.966Z"
   },
   {
    "duration": 418,
    "start_time": "2022-06-07T21:08:13.324Z"
   },
   {
    "duration": 61,
    "start_time": "2022-06-07T21:08:20.027Z"
   },
   {
    "duration": 1045,
    "start_time": "2022-06-07T21:09:04.776Z"
   },
   {
    "duration": 518,
    "start_time": "2022-06-07T21:09:08.942Z"
   },
   {
    "duration": 177,
    "start_time": "2022-06-07T21:10:32.622Z"
   },
   {
    "duration": 71,
    "start_time": "2022-06-07T21:10:35.176Z"
   },
   {
    "duration": 94,
    "start_time": "2022-06-07T21:10:37.821Z"
   },
   {
    "duration": 188,
    "start_time": "2022-06-07T21:11:56.351Z"
   },
   {
    "duration": 189,
    "start_time": "2022-06-07T21:14:14.135Z"
   },
   {
    "duration": 214,
    "start_time": "2022-06-07T21:14:18.782Z"
   },
   {
    "duration": 217,
    "start_time": "2022-06-07T21:15:56.007Z"
   },
   {
    "duration": 30,
    "start_time": "2022-06-07T21:16:12.943Z"
   },
   {
    "duration": 219,
    "start_time": "2022-06-07T21:16:24.573Z"
   },
   {
    "duration": 213,
    "start_time": "2022-06-07T21:16:49.095Z"
   },
   {
    "duration": 270,
    "start_time": "2022-06-07T21:17:07.303Z"
   },
   {
    "duration": 2,
    "start_time": "2022-06-07T21:27:50.069Z"
   },
   {
    "duration": 95,
    "start_time": "2022-06-07T21:29:30.612Z"
   },
   {
    "duration": 95,
    "start_time": "2022-06-07T21:29:41.625Z"
   },
   {
    "duration": 105,
    "start_time": "2022-06-07T21:29:45.401Z"
   },
   {
    "duration": 70,
    "start_time": "2022-06-07T21:31:45.564Z"
   },
   {
    "duration": 3,
    "start_time": "2022-06-07T21:35:01.186Z"
   },
   {
    "duration": 4,
    "start_time": "2022-06-07T21:35:32.481Z"
   },
   {
    "duration": 104,
    "start_time": "2022-06-07T21:35:38.434Z"
   },
   {
    "duration": 9,
    "start_time": "2022-06-07T21:47:46.717Z"
   },
   {
    "duration": 7,
    "start_time": "2022-06-07T21:53:37.325Z"
   },
   {
    "duration": 28,
    "start_time": "2022-06-07T21:53:43.413Z"
   },
   {
    "duration": 10,
    "start_time": "2022-06-07T21:54:09.837Z"
   },
   {
    "duration": 9,
    "start_time": "2022-06-07T21:55:12.365Z"
   },
   {
    "duration": 178,
    "start_time": "2022-06-07T21:55:21.294Z"
   },
   {
    "duration": 169,
    "start_time": "2022-06-07T21:55:24.746Z"
   },
   {
    "duration": 117,
    "start_time": "2022-06-07T21:55:30.381Z"
   },
   {
    "duration": 40,
    "start_time": "2022-06-07T21:55:32.917Z"
   },
   {
    "duration": 51,
    "start_time": "2022-06-07T21:55:35.646Z"
   },
   {
    "duration": 32,
    "start_time": "2022-06-07T21:55:38.382Z"
   },
   {
    "duration": 40,
    "start_time": "2022-06-07T21:55:45.945Z"
   },
   {
    "duration": 53,
    "start_time": "2022-06-07T21:56:03.957Z"
   },
   {
    "duration": 640,
    "start_time": "2022-06-07T22:03:20.016Z"
   },
   {
    "duration": 680,
    "start_time": "2022-06-07T22:03:59.591Z"
   },
   {
    "duration": 699,
    "start_time": "2022-06-07T22:04:21.839Z"
   },
   {
    "duration": 186,
    "start_time": "2022-06-07T22:04:29.257Z"
   },
   {
    "duration": 160,
    "start_time": "2022-06-07T22:04:30.320Z"
   },
   {
    "duration": 102,
    "start_time": "2022-06-07T22:04:31.263Z"
   },
   {
    "duration": 39,
    "start_time": "2022-06-07T22:04:32.094Z"
   },
   {
    "duration": 51,
    "start_time": "2022-06-07T22:04:33.458Z"
   },
   {
    "duration": 27,
    "start_time": "2022-06-07T22:04:46.008Z"
   },
   {
    "duration": 19,
    "start_time": "2022-06-07T22:04:56.983Z"
   },
   {
    "duration": 27,
    "start_time": "2022-06-07T22:05:16.031Z"
   },
   {
    "duration": 23,
    "start_time": "2022-06-07T22:05:27.503Z"
   },
   {
    "duration": 7,
    "start_time": "2022-06-07T22:05:45.212Z"
   },
   {
    "duration": 8,
    "start_time": "2022-06-07T22:05:50.039Z"
   },
   {
    "duration": 8,
    "start_time": "2022-06-07T22:08:40.720Z"
   },
   {
    "duration": 7,
    "start_time": "2022-06-07T22:08:49.608Z"
   },
   {
    "duration": 7,
    "start_time": "2022-06-07T22:08:59.472Z"
   },
   {
    "duration": 9,
    "start_time": "2022-06-07T22:11:14.080Z"
   },
   {
    "duration": 185,
    "start_time": "2022-06-07T22:11:23.865Z"
   },
   {
    "duration": 136,
    "start_time": "2022-06-07T22:11:24.464Z"
   },
   {
    "duration": 114,
    "start_time": "2022-06-07T22:11:25.312Z"
   },
   {
    "duration": 26,
    "start_time": "2022-06-07T22:11:26.016Z"
   },
   {
    "duration": 52,
    "start_time": "2022-06-07T22:11:26.632Z"
   },
   {
    "duration": 32,
    "start_time": "2022-06-07T22:11:28.392Z"
   },
   {
    "duration": 26,
    "start_time": "2022-06-07T22:11:28.991Z"
   },
   {
    "duration": 7,
    "start_time": "2022-06-07T22:11:29.808Z"
   },
   {
    "duration": 257,
    "start_time": "2022-06-07T22:11:31.787Z"
   },
   {
    "duration": 54,
    "start_time": "2022-06-07T22:14:08.641Z"
   },
   {
    "duration": 38,
    "start_time": "2022-06-07T22:14:18.225Z"
   },
   {
    "duration": 442,
    "start_time": "2022-06-07T22:20:12.260Z"
   },
   {
    "duration": 8,
    "start_time": "2022-06-07T22:20:41.460Z"
   },
   {
    "duration": 27,
    "start_time": "2022-06-07T22:24:35.860Z"
   },
   {
    "duration": 477,
    "start_time": "2022-06-07T22:25:12.463Z"
   },
   {
    "duration": 22,
    "start_time": "2022-06-07T22:25:22.630Z"
   },
   {
    "duration": 35,
    "start_time": "2022-06-07T22:26:54.991Z"
   },
   {
    "duration": 7,
    "start_time": "2022-06-07T22:27:27.703Z"
   },
   {
    "duration": 7,
    "start_time": "2022-06-07T22:28:53.299Z"
   },
   {
    "duration": 8,
    "start_time": "2022-06-07T22:29:00.623Z"
   },
   {
    "duration": 25,
    "start_time": "2022-06-07T22:29:58.096Z"
   },
   {
    "duration": 18,
    "start_time": "2022-06-07T22:31:12.464Z"
   },
   {
    "duration": 17,
    "start_time": "2022-06-07T22:31:32.617Z"
   },
   {
    "duration": 18,
    "start_time": "2022-06-07T22:31:39.136Z"
   },
   {
    "duration": 18,
    "start_time": "2022-06-07T22:32:09.288Z"
   },
   {
    "duration": 19,
    "start_time": "2022-06-07T22:33:15.584Z"
   },
   {
    "duration": 10,
    "start_time": "2022-06-07T22:33:53.545Z"
   },
   {
    "duration": 24,
    "start_time": "2022-06-07T22:34:26.169Z"
   },
   {
    "duration": 7,
    "start_time": "2022-06-07T22:34:53.721Z"
   },
   {
    "duration": 1016,
    "start_time": "2022-06-07T22:35:03.969Z"
   },
   {
    "duration": 1830,
    "start_time": "2022-06-07T22:35:15.385Z"
   },
   {
    "duration": 4,
    "start_time": "2022-06-07T22:35:21.072Z"
   },
   {
    "duration": 902,
    "start_time": "2022-06-08T10:19:54.960Z"
   },
   {
    "duration": 386,
    "start_time": "2022-06-08T10:19:56.375Z"
   },
   {
    "duration": 145,
    "start_time": "2022-06-08T10:19:57.317Z"
   },
   {
    "duration": 69,
    "start_time": "2022-06-08T10:19:58.829Z"
   },
   {
    "duration": 77,
    "start_time": "2022-06-08T10:19:59.565Z"
   },
   {
    "duration": 50,
    "start_time": "2022-06-08T10:20:01.741Z"
   },
   {
    "duration": 33,
    "start_time": "2022-06-08T10:20:02.397Z"
   },
   {
    "duration": 54,
    "start_time": "2022-06-08T10:20:02.973Z"
   },
   {
    "duration": 8,
    "start_time": "2022-06-08T10:20:04.268Z"
   },
   {
    "duration": 23,
    "start_time": "2022-06-08T10:20:05.829Z"
   },
   {
    "duration": 23,
    "start_time": "2022-06-08T10:20:06.500Z"
   },
   {
    "duration": 63,
    "start_time": "2022-06-08T10:20:07.108Z"
   },
   {
    "duration": 9,
    "start_time": "2022-06-08T10:20:07.717Z"
   },
   {
    "duration": 22,
    "start_time": "2022-06-08T10:20:08.364Z"
   },
   {
    "duration": 18,
    "start_time": "2022-06-08T10:20:08.966Z"
   },
   {
    "duration": 29,
    "start_time": "2022-06-08T10:20:10.229Z"
   },
   {
    "duration": 999,
    "start_time": "2022-06-08T10:20:11.292Z"
   },
   {
    "duration": 1790,
    "start_time": "2022-06-08T10:20:12.605Z"
   },
   {
    "duration": 3,
    "start_time": "2022-06-08T10:20:14.396Z"
   },
   {
    "duration": 932,
    "start_time": "2022-06-08T10:20:28.190Z"
   },
   {
    "duration": 442,
    "start_time": "2022-06-08T10:20:29.748Z"
   },
   {
    "duration": 155,
    "start_time": "2022-06-08T10:20:31.068Z"
   },
   {
    "duration": 68,
    "start_time": "2022-06-08T10:20:32.229Z"
   },
   {
    "duration": 76,
    "start_time": "2022-06-08T10:20:33.205Z"
   },
   {
    "duration": 33,
    "start_time": "2022-06-08T10:20:35.599Z"
   },
   {
    "duration": 26,
    "start_time": "2022-06-08T10:20:36.940Z"
   },
   {
    "duration": 55,
    "start_time": "2022-06-08T10:20:38.044Z"
   },
   {
    "duration": 9,
    "start_time": "2022-06-08T10:20:40.948Z"
   },
   {
    "duration": 33,
    "start_time": "2022-06-08T10:20:43.332Z"
   },
   {
    "duration": 20,
    "start_time": "2022-06-08T10:20:44.572Z"
   },
   {
    "duration": 58,
    "start_time": "2022-06-08T10:20:46.030Z"
   },
   {
    "duration": 7,
    "start_time": "2022-06-08T10:20:46.884Z"
   },
   {
    "duration": 22,
    "start_time": "2022-06-08T10:20:48.420Z"
   },
   {
    "duration": 18,
    "start_time": "2022-06-08T10:20:50.476Z"
   },
   {
    "duration": 60,
    "start_time": "2022-06-08T10:21:03.500Z"
   },
   {
    "duration": 22,
    "start_time": "2022-06-08T10:21:07.972Z"
   },
   {
    "duration": 974,
    "start_time": "2022-06-08T10:21:11.845Z"
   },
   {
    "duration": 1743,
    "start_time": "2022-06-08T10:21:19.605Z"
   },
   {
    "duration": 3,
    "start_time": "2022-06-08T10:21:26.645Z"
   },
   {
    "duration": 48,
    "start_time": "2022-06-08T10:22:00.941Z"
   },
   {
    "duration": 5,
    "start_time": "2022-06-08T10:22:05.029Z"
   },
   {
    "duration": 8,
    "start_time": "2022-06-08T10:22:12.308Z"
   },
   {
    "duration": 881,
    "start_time": "2022-06-08T10:22:19.317Z"
   },
   {
    "duration": 393,
    "start_time": "2022-06-08T10:22:20.800Z"
   },
   {
    "duration": 148,
    "start_time": "2022-06-08T10:22:21.725Z"
   },
   {
    "duration": 70,
    "start_time": "2022-06-08T10:22:22.437Z"
   },
   {
    "duration": 80,
    "start_time": "2022-06-08T10:22:22.973Z"
   },
   {
    "duration": 36,
    "start_time": "2022-06-08T10:22:23.965Z"
   },
   {
    "duration": 27,
    "start_time": "2022-06-08T10:22:24.269Z"
   },
   {
    "duration": 54,
    "start_time": "2022-06-08T10:22:24.501Z"
   },
   {
    "duration": 7,
    "start_time": "2022-06-08T10:22:24.900Z"
   },
   {
    "duration": 41,
    "start_time": "2022-06-08T10:22:25.293Z"
   },
   {
    "duration": 22,
    "start_time": "2022-06-08T10:22:25.493Z"
   },
   {
    "duration": 45,
    "start_time": "2022-06-08T10:22:25.676Z"
   },
   {
    "duration": 7,
    "start_time": "2022-06-08T10:22:25.885Z"
   },
   {
    "duration": 20,
    "start_time": "2022-06-08T10:22:26.093Z"
   },
   {
    "duration": 19,
    "start_time": "2022-06-08T10:22:26.892Z"
   },
   {
    "duration": 25,
    "start_time": "2022-06-08T10:22:28.453Z"
   },
   {
    "duration": 998,
    "start_time": "2022-06-08T10:22:29.430Z"
   },
   {
    "duration": 1706,
    "start_time": "2022-06-08T10:22:34.004Z"
   },
   {
    "duration": 7,
    "start_time": "2022-06-08T10:22:43.005Z"
   },
   {
    "duration": 179,
    "start_time": "2022-06-08T10:24:21.246Z"
   },
   {
    "duration": 909,
    "start_time": "2022-06-08T10:34:42.697Z"
   },
   {
    "duration": 410,
    "start_time": "2022-06-08T10:34:43.608Z"
   },
   {
    "duration": 150,
    "start_time": "2022-06-08T10:34:44.151Z"
   },
   {
    "duration": 60,
    "start_time": "2022-06-08T10:34:44.792Z"
   },
   {
    "duration": 86,
    "start_time": "2022-06-08T10:34:45.233Z"
   },
   {
    "duration": 34,
    "start_time": "2022-06-08T10:34:45.830Z"
   },
   {
    "duration": 27,
    "start_time": "2022-06-08T10:34:46.031Z"
   },
   {
    "duration": 60,
    "start_time": "2022-06-08T10:34:46.224Z"
   },
   {
    "duration": 10,
    "start_time": "2022-06-08T10:34:46.631Z"
   },
   {
    "duration": 24,
    "start_time": "2022-06-08T10:34:47.023Z"
   },
   {
    "duration": 20,
    "start_time": "2022-06-08T10:34:47.256Z"
   },
   {
    "duration": 53,
    "start_time": "2022-06-08T10:34:47.455Z"
   },
   {
    "duration": 10,
    "start_time": "2022-06-08T10:34:47.680Z"
   },
   {
    "duration": 31,
    "start_time": "2022-06-08T10:34:47.895Z"
   },
   {
    "duration": 18,
    "start_time": "2022-06-08T10:34:48.715Z"
   },
   {
    "duration": 21,
    "start_time": "2022-06-08T10:34:52.656Z"
   },
   {
    "duration": 1065,
    "start_time": "2022-06-08T10:34:53.335Z"
   },
   {
    "duration": 1701,
    "start_time": "2022-06-08T10:34:54.519Z"
   },
   {
    "duration": 7,
    "start_time": "2022-06-08T10:35:10.585Z"
   },
   {
    "duration": 54,
    "start_time": "2022-06-08T10:35:25.574Z"
   },
   {
    "duration": 6,
    "start_time": "2022-06-08T10:37:17.921Z"
   },
   {
    "duration": 946,
    "start_time": "2022-06-08T10:41:17.626Z"
   },
   {
    "duration": 383,
    "start_time": "2022-06-08T10:41:18.575Z"
   },
   {
    "duration": 205,
    "start_time": "2022-06-08T10:41:18.960Z"
   },
   {
    "duration": 76,
    "start_time": "2022-06-08T10:41:19.409Z"
   },
   {
    "duration": 84,
    "start_time": "2022-06-08T10:41:19.905Z"
   },
   {
    "duration": 41,
    "start_time": "2022-06-08T10:41:20.769Z"
   },
   {
    "duration": 32,
    "start_time": "2022-06-08T10:41:21.058Z"
   },
   {
    "duration": 62,
    "start_time": "2022-06-08T10:41:21.248Z"
   },
   {
    "duration": 7,
    "start_time": "2022-06-08T10:41:21.632Z"
   },
   {
    "duration": 47,
    "start_time": "2022-06-08T10:41:22.018Z"
   },
   {
    "duration": 24,
    "start_time": "2022-06-08T10:41:22.216Z"
   },
   {
    "duration": 47,
    "start_time": "2022-06-08T10:41:22.424Z"
   },
   {
    "duration": 7,
    "start_time": "2022-06-08T10:41:22.643Z"
   },
   {
    "duration": 34,
    "start_time": "2022-06-08T10:41:22.905Z"
   },
   {
    "duration": 24,
    "start_time": "2022-06-08T10:41:23.141Z"
   },
   {
    "duration": 22,
    "start_time": "2022-06-08T10:41:24.546Z"
   },
   {
    "duration": 1020,
    "start_time": "2022-06-08T10:41:25.105Z"
   },
   {
    "duration": 1720,
    "start_time": "2022-06-08T10:41:29.817Z"
   },
   {
    "duration": 11,
    "start_time": "2022-06-08T10:41:31.866Z"
   },
   {
    "duration": 8,
    "start_time": "2022-06-08T10:48:19.970Z"
   },
   {
    "duration": 1717,
    "start_time": "2022-06-08T10:50:45.683Z"
   },
   {
    "duration": 66,
    "start_time": "2022-06-08T10:55:36.100Z"
   },
   {
    "duration": 882,
    "start_time": "2022-06-08T10:58:00.709Z"
   },
   {
    "duration": 383,
    "start_time": "2022-06-08T10:58:01.594Z"
   },
   {
    "duration": 148,
    "start_time": "2022-06-08T10:58:02.379Z"
   },
   {
    "duration": 56,
    "start_time": "2022-06-08T10:58:02.852Z"
   },
   {
    "duration": 76,
    "start_time": "2022-06-08T10:58:03.165Z"
   },
   {
    "duration": 34,
    "start_time": "2022-06-08T10:58:03.548Z"
   },
   {
    "duration": 25,
    "start_time": "2022-06-08T10:58:03.732Z"
   },
   {
    "duration": 52,
    "start_time": "2022-06-08T10:58:03.924Z"
   },
   {
    "duration": 8,
    "start_time": "2022-06-08T10:58:04.324Z"
   },
   {
    "duration": 27,
    "start_time": "2022-06-08T10:58:04.732Z"
   },
   {
    "duration": 24,
    "start_time": "2022-06-08T10:58:04.924Z"
   },
   {
    "duration": 44,
    "start_time": "2022-06-08T10:58:05.132Z"
   },
   {
    "duration": 8,
    "start_time": "2022-06-08T10:58:05.323Z"
   },
   {
    "duration": 20,
    "start_time": "2022-06-08T10:58:05.555Z"
   },
   {
    "duration": 18,
    "start_time": "2022-06-08T10:58:05.852Z"
   },
   {
    "duration": 21,
    "start_time": "2022-06-08T10:58:06.940Z"
   },
   {
    "duration": 986,
    "start_time": "2022-06-08T10:58:07.552Z"
   },
   {
    "duration": 1712,
    "start_time": "2022-06-08T10:58:09.220Z"
   },
   {
    "duration": 7,
    "start_time": "2022-06-08T10:58:18.372Z"
   },
   {
    "duration": 50,
    "start_time": "2022-06-08T10:58:34.644Z"
   },
   {
    "duration": 895,
    "start_time": "2022-06-08T10:59:00.508Z"
   },
   {
    "duration": 385,
    "start_time": "2022-06-08T10:59:02.156Z"
   },
   {
    "duration": 156,
    "start_time": "2022-06-08T10:59:02.612Z"
   },
   {
    "duration": 56,
    "start_time": "2022-06-08T10:59:02.860Z"
   },
   {
    "duration": 76,
    "start_time": "2022-06-08T10:59:03.068Z"
   },
   {
    "duration": 33,
    "start_time": "2022-06-08T10:59:03.443Z"
   },
   {
    "duration": 25,
    "start_time": "2022-06-08T10:59:03.636Z"
   },
   {
    "duration": 54,
    "start_time": "2022-06-08T10:59:03.820Z"
   },
   {
    "duration": 7,
    "start_time": "2022-06-08T10:59:04.196Z"
   },
   {
    "duration": 33,
    "start_time": "2022-06-08T10:59:04.580Z"
   },
   {
    "duration": 20,
    "start_time": "2022-06-08T10:59:04.772Z"
   },
   {
    "duration": 44,
    "start_time": "2022-06-08T10:59:04.973Z"
   },
   {
    "duration": 7,
    "start_time": "2022-06-08T10:59:05.155Z"
   },
   {
    "duration": 19,
    "start_time": "2022-06-08T10:59:05.348Z"
   },
   {
    "duration": 17,
    "start_time": "2022-06-08T10:59:05.540Z"
   },
   {
    "duration": 22,
    "start_time": "2022-06-08T10:59:05.940Z"
   },
   {
    "duration": 977,
    "start_time": "2022-06-08T10:59:06.144Z"
   },
   {
    "duration": 1744,
    "start_time": "2022-06-08T10:59:07.123Z"
   },
   {
    "duration": 7,
    "start_time": "2022-06-08T10:59:08.868Z"
   },
   {
    "duration": 2,
    "start_time": "2022-06-08T10:59:10.052Z"
   },
   {
    "duration": 1685,
    "start_time": "2022-06-08T10:59:11.915Z"
   },
   {
    "duration": 62,
    "start_time": "2022-06-08T10:59:16.339Z"
   },
   {
    "duration": 1897,
    "start_time": "2022-06-08T11:00:17.805Z"
   },
   {
    "duration": 10,
    "start_time": "2022-06-08T11:00:27.460Z"
   },
   {
    "duration": 1666,
    "start_time": "2022-06-08T11:00:35.692Z"
   },
   {
    "duration": 60,
    "start_time": "2022-06-08T11:00:40.812Z"
   },
   {
    "duration": 18,
    "start_time": "2022-06-08T11:05:39.598Z"
   },
   {
    "duration": 43,
    "start_time": "2022-06-08T11:05:59.822Z"
   },
   {
    "duration": 31,
    "start_time": "2022-06-08T11:06:15.886Z"
   },
   {
    "duration": 64,
    "start_time": "2022-06-08T11:07:11.670Z"
   },
   {
    "duration": 14,
    "start_time": "2022-06-08T11:07:21.110Z"
   },
   {
    "duration": 86,
    "start_time": "2022-06-08T11:07:32.589Z"
   },
   {
    "duration": 64,
    "start_time": "2022-06-08T11:08:22.926Z"
   },
   {
    "duration": 5,
    "start_time": "2022-06-08T11:12:23.400Z"
   },
   {
    "duration": 15,
    "start_time": "2022-06-08T11:13:03.063Z"
   },
   {
    "duration": 63,
    "start_time": "2022-06-08T11:20:49.138Z"
   },
   {
    "duration": 55,
    "start_time": "2022-06-08T11:21:08.997Z"
   },
   {
    "duration": 11,
    "start_time": "2022-06-08T11:22:02.422Z"
   },
   {
    "duration": 146,
    "start_time": "2022-06-08T11:25:17.098Z"
   },
   {
    "duration": 263,
    "start_time": "2022-06-08T11:27:56.571Z"
   },
   {
    "duration": 12,
    "start_time": "2022-06-08T11:34:06.140Z"
   },
   {
    "duration": 18,
    "start_time": "2022-06-08T11:35:11.383Z"
   },
   {
    "duration": 188,
    "start_time": "2022-06-08T11:35:22.640Z"
   },
   {
    "duration": 154,
    "start_time": "2022-06-08T11:35:23.572Z"
   },
   {
    "duration": 103,
    "start_time": "2022-06-08T11:35:24.492Z"
   },
   {
    "duration": 26,
    "start_time": "2022-06-08T11:35:25.245Z"
   },
   {
    "duration": 48,
    "start_time": "2022-06-08T11:35:26.061Z"
   },
   {
    "duration": 31,
    "start_time": "2022-06-08T11:35:29.461Z"
   },
   {
    "duration": 25,
    "start_time": "2022-06-08T11:35:32.134Z"
   },
   {
    "duration": 39,
    "start_time": "2022-06-08T11:36:04.574Z"
   },
   {
    "duration": 7,
    "start_time": "2022-06-08T11:36:07.965Z"
   },
   {
    "duration": 24,
    "start_time": "2022-06-08T11:36:11.253Z"
   },
   {
    "duration": 21,
    "start_time": "2022-06-08T11:36:27.077Z"
   },
   {
    "duration": 33,
    "start_time": "2022-06-08T11:36:29.461Z"
   },
   {
    "duration": 7,
    "start_time": "2022-06-08T11:36:32.325Z"
   },
   {
    "duration": 20,
    "start_time": "2022-06-08T11:36:51.436Z"
   },
   {
    "duration": 18,
    "start_time": "2022-06-08T11:36:55.389Z"
   },
   {
    "duration": 26,
    "start_time": "2022-06-08T11:37:55.648Z"
   },
   {
    "duration": 39,
    "start_time": "2022-06-08T11:38:15.814Z"
   },
   {
    "duration": 6,
    "start_time": "2022-06-08T11:40:22.646Z"
   },
   {
    "duration": 39,
    "start_time": "2022-06-08T11:40:37.645Z"
   },
   {
    "duration": 155,
    "start_time": "2022-06-08T11:41:52.071Z"
   },
   {
    "duration": 129,
    "start_time": "2022-06-08T11:41:52.582Z"
   },
   {
    "duration": 98,
    "start_time": "2022-06-08T11:41:53.094Z"
   },
   {
    "duration": 26,
    "start_time": "2022-06-08T11:41:53.383Z"
   },
   {
    "duration": 38,
    "start_time": "2022-06-08T11:41:53.573Z"
   },
   {
    "duration": 30,
    "start_time": "2022-06-08T11:41:53.974Z"
   },
   {
    "duration": 25,
    "start_time": "2022-06-08T11:41:54.158Z"
   },
   {
    "duration": 40,
    "start_time": "2022-06-08T11:41:54.350Z"
   },
   {
    "duration": 8,
    "start_time": "2022-06-08T11:41:54.733Z"
   },
   {
    "duration": 35,
    "start_time": "2022-06-08T11:41:55.125Z"
   },
   {
    "duration": 28,
    "start_time": "2022-06-08T11:41:55.317Z"
   },
   {
    "duration": 40,
    "start_time": "2022-06-08T11:41:55.518Z"
   },
   {
    "duration": 8,
    "start_time": "2022-06-08T11:41:55.750Z"
   },
   {
    "duration": 22,
    "start_time": "2022-06-08T11:41:56.085Z"
   },
   {
    "duration": 18,
    "start_time": "2022-06-08T11:41:56.422Z"
   },
   {
    "duration": 41,
    "start_time": "2022-06-08T11:41:57.085Z"
   },
   {
    "duration": 8,
    "start_time": "2022-06-08T11:41:58.527Z"
   },
   {
    "duration": 26,
    "start_time": "2022-06-08T11:48:50.791Z"
   },
   {
    "duration": 177,
    "start_time": "2022-06-08T11:48:55.847Z"
   },
   {
    "duration": 361,
    "start_time": "2022-06-08T11:49:01.255Z"
   },
   {
    "duration": 168,
    "start_time": "2022-06-08T11:49:27.961Z"
   },
   {
    "duration": 145,
    "start_time": "2022-06-08T11:49:28.480Z"
   },
   {
    "duration": 139,
    "start_time": "2022-06-08T11:49:28.991Z"
   },
   {
    "duration": 33,
    "start_time": "2022-06-08T11:49:29.535Z"
   },
   {
    "duration": 57,
    "start_time": "2022-06-08T11:49:30.152Z"
   },
   {
    "duration": 37,
    "start_time": "2022-06-08T11:49:32.391Z"
   },
   {
    "duration": 26,
    "start_time": "2022-06-08T11:49:33.404Z"
   },
   {
    "duration": 40,
    "start_time": "2022-06-08T11:49:34.023Z"
   },
   {
    "duration": 7,
    "start_time": "2022-06-08T11:49:35.927Z"
   },
   {
    "duration": 24,
    "start_time": "2022-06-08T11:49:37.206Z"
   },
   {
    "duration": 24,
    "start_time": "2022-06-08T11:49:37.856Z"
   },
   {
    "duration": 37,
    "start_time": "2022-06-08T11:49:38.680Z"
   },
   {
    "duration": 8,
    "start_time": "2022-06-08T11:49:39.351Z"
   },
   {
    "duration": 22,
    "start_time": "2022-06-08T11:49:40.055Z"
   },
   {
    "duration": 18,
    "start_time": "2022-06-08T11:49:41.113Z"
   },
   {
    "duration": 37,
    "start_time": "2022-06-08T11:49:42.832Z"
   },
   {
    "duration": 9,
    "start_time": "2022-06-08T11:49:43.800Z"
   },
   {
    "duration": 22,
    "start_time": "2022-06-08T11:49:52.519Z"
   },
   {
    "duration": 19,
    "start_time": "2022-06-08T11:50:05.272Z"
   },
   {
    "duration": 20,
    "start_time": "2022-06-08T11:50:07.929Z"
   },
   {
    "duration": 28,
    "start_time": "2022-06-08T11:50:14.743Z"
   },
   {
    "duration": 10,
    "start_time": "2022-06-08T11:50:18.280Z"
   },
   {
    "duration": 46,
    "start_time": "2022-06-08T11:50:23.161Z"
   },
   {
    "duration": 25,
    "start_time": "2022-06-08T11:52:22.737Z"
   },
   {
    "duration": 8,
    "start_time": "2022-06-08T11:52:28.928Z"
   },
   {
    "duration": 27,
    "start_time": "2022-06-08T11:55:09.640Z"
   },
   {
    "duration": 40,
    "start_time": "2022-06-08T12:15:50.595Z"
   },
   {
    "duration": 40,
    "start_time": "2022-06-08T12:18:51.629Z"
   },
   {
    "duration": 11,
    "start_time": "2022-06-08T12:20:25.484Z"
   },
   {
    "duration": 39,
    "start_time": "2022-06-08T12:21:51.917Z"
   },
   {
    "duration": 25,
    "start_time": "2022-06-08T12:24:32.117Z"
   },
   {
    "duration": 21,
    "start_time": "2022-06-08T12:28:45.527Z"
   },
   {
    "duration": 451,
    "start_time": "2022-06-08T12:29:00.541Z"
   },
   {
    "duration": 27,
    "start_time": "2022-06-08T12:29:29.991Z"
   },
   {
    "duration": 23,
    "start_time": "2022-06-08T12:32:08.417Z"
   },
   {
    "duration": 60,
    "start_time": "2022-06-08T12:32:31.824Z"
   },
   {
    "duration": 906,
    "start_time": "2022-06-08T12:37:48.291Z"
   },
   {
    "duration": 377,
    "start_time": "2022-06-08T12:37:49.199Z"
   },
   {
    "duration": 151,
    "start_time": "2022-06-08T12:37:49.801Z"
   },
   {
    "duration": 58,
    "start_time": "2022-06-08T12:37:50.321Z"
   },
   {
    "duration": 77,
    "start_time": "2022-06-08T12:37:50.690Z"
   },
   {
    "duration": 37,
    "start_time": "2022-06-08T12:37:51.129Z"
   },
   {
    "duration": 26,
    "start_time": "2022-06-08T12:37:51.314Z"
   },
   {
    "duration": 55,
    "start_time": "2022-06-08T12:37:51.530Z"
   },
   {
    "duration": 8,
    "start_time": "2022-06-08T12:37:51.905Z"
   },
   {
    "duration": 23,
    "start_time": "2022-06-08T12:37:52.281Z"
   },
   {
    "duration": 20,
    "start_time": "2022-06-08T12:37:52.497Z"
   },
   {
    "duration": 48,
    "start_time": "2022-06-08T12:37:52.689Z"
   },
   {
    "duration": 8,
    "start_time": "2022-06-08T12:37:52.873Z"
   },
   {
    "duration": 21,
    "start_time": "2022-06-08T12:37:53.066Z"
   },
   {
    "duration": 20,
    "start_time": "2022-06-08T12:37:53.274Z"
   },
   {
    "duration": 39,
    "start_time": "2022-06-08T12:37:53.466Z"
   },
   {
    "duration": 6,
    "start_time": "2022-06-08T12:37:53.641Z"
   },
   {
    "duration": 22,
    "start_time": "2022-06-08T12:37:54.041Z"
   },
   {
    "duration": 22,
    "start_time": "2022-06-08T12:37:54.257Z"
   },
   {
    "duration": 28,
    "start_time": "2022-06-08T12:37:54.666Z"
   },
   {
    "duration": 9,
    "start_time": "2022-06-08T12:37:55.329Z"
   },
   {
    "duration": 38,
    "start_time": "2022-06-08T12:37:55.772Z"
   },
   {
    "duration": 20,
    "start_time": "2022-06-08T12:37:56.577Z"
   },
   {
    "duration": 18,
    "start_time": "2022-06-08T12:37:56.985Z"
   },
   {
    "duration": 4,
    "start_time": "2022-06-08T12:37:57.177Z"
   },
   {
    "duration": 529,
    "start_time": "2022-06-08T12:37:57.377Z"
   },
   {
    "duration": 463,
    "start_time": "2022-06-08T12:40:32.331Z"
   },
   {
    "duration": 465,
    "start_time": "2022-06-08T12:40:35.946Z"
   },
   {
    "duration": 17,
    "start_time": "2022-06-08T12:40:52.682Z"
   },
   {
    "duration": 33,
    "start_time": "2022-06-08T12:42:01.707Z"
   },
   {
    "duration": 46,
    "start_time": "2022-06-08T12:43:27.572Z"
   },
   {
    "duration": 33,
    "start_time": "2022-06-08T12:45:54.835Z"
   },
   {
    "duration": 9,
    "start_time": "2022-06-08T12:46:28.506Z"
   },
   {
    "duration": 8,
    "start_time": "2022-06-08T12:46:52.181Z"
   },
   {
    "duration": 12,
    "start_time": "2022-06-08T12:47:12.230Z"
   },
   {
    "duration": 507,
    "start_time": "2022-06-08T13:09:12.760Z"
   },
   {
    "duration": 128,
    "start_time": "2022-06-08T13:09:23.657Z"
   },
   {
    "duration": 10,
    "start_time": "2022-06-08T13:09:47.072Z"
   },
   {
    "duration": 104,
    "start_time": "2022-06-08T13:09:54.208Z"
   },
   {
    "duration": 77,
    "start_time": "2022-06-08T13:10:07.280Z"
   },
   {
    "duration": 11,
    "start_time": "2022-06-08T13:10:22.338Z"
   },
   {
    "duration": 121,
    "start_time": "2022-06-08T13:10:53.281Z"
   },
   {
    "duration": 113,
    "start_time": "2022-06-08T13:13:19.505Z"
   },
   {
    "duration": 469,
    "start_time": "2022-06-08T13:15:10.626Z"
   },
   {
    "duration": 179,
    "start_time": "2022-06-08T13:17:07.348Z"
   },
   {
    "duration": 127,
    "start_time": "2022-06-08T13:17:14.146Z"
   },
   {
    "duration": 131,
    "start_time": "2022-06-08T13:17:21.714Z"
   },
   {
    "duration": 130,
    "start_time": "2022-06-08T13:18:03.754Z"
   },
   {
    "duration": 179,
    "start_time": "2022-06-08T13:18:12.858Z"
   },
   {
    "duration": 17,
    "start_time": "2022-06-08T13:19:20.346Z"
   },
   {
    "duration": 12,
    "start_time": "2022-06-08T13:20:05.148Z"
   },
   {
    "duration": 16,
    "start_time": "2022-06-08T13:21:37.805Z"
   },
   {
    "duration": 14,
    "start_time": "2022-06-08T13:21:53.290Z"
   },
   {
    "duration": 14,
    "start_time": "2022-06-08T13:22:24.219Z"
   },
   {
    "duration": 14,
    "start_time": "2022-06-08T13:24:03.386Z"
   },
   {
    "duration": 58,
    "start_time": "2022-06-08T20:22:24.820Z"
   },
   {
    "duration": 1134,
    "start_time": "2022-06-08T20:22:34.418Z"
   },
   {
    "duration": 538,
    "start_time": "2022-06-08T20:22:35.555Z"
   },
   {
    "duration": 258,
    "start_time": "2022-06-08T20:22:36.098Z"
   },
   {
    "duration": 77,
    "start_time": "2022-06-08T20:22:36.361Z"
   },
   {
    "duration": 107,
    "start_time": "2022-06-08T20:22:36.771Z"
   },
   {
    "duration": 68,
    "start_time": "2022-06-08T20:22:37.752Z"
   },
   {
    "duration": 36,
    "start_time": "2022-06-08T20:22:38.264Z"
   },
   {
    "duration": 86,
    "start_time": "2022-06-08T20:22:38.749Z"
   },
   {
    "duration": 7,
    "start_time": "2022-06-08T20:22:39.711Z"
   },
   {
    "duration": 24,
    "start_time": "2022-06-08T20:22:40.815Z"
   },
   {
    "duration": 21,
    "start_time": "2022-06-08T20:22:41.328Z"
   },
   {
    "duration": 47,
    "start_time": "2022-06-08T20:22:41.909Z"
   },
   {
    "duration": 9,
    "start_time": "2022-06-08T20:22:42.423Z"
   },
   {
    "duration": 21,
    "start_time": "2022-06-08T20:22:43.009Z"
   },
   {
    "duration": 22,
    "start_time": "2022-06-08T20:22:43.663Z"
   },
   {
    "duration": 41,
    "start_time": "2022-06-08T20:22:44.335Z"
   },
   {
    "duration": 10,
    "start_time": "2022-06-08T20:22:44.936Z"
   },
   {
    "duration": 22,
    "start_time": "2022-06-08T20:22:47.538Z"
   },
   {
    "duration": 21,
    "start_time": "2022-06-08T20:22:48.321Z"
   },
   {
    "duration": 49,
    "start_time": "2022-06-08T20:22:50.231Z"
   },
   {
    "duration": 8,
    "start_time": "2022-06-08T20:22:51.913Z"
   },
   {
    "duration": 44,
    "start_time": "2022-06-08T20:22:52.954Z"
   },
   {
    "duration": 23,
    "start_time": "2022-06-08T20:22:54.597Z"
   },
   {
    "duration": 33,
    "start_time": "2022-06-08T20:22:59.656Z"
   },
   {
    "duration": 40,
    "start_time": "2022-06-08T20:23:02.026Z"
   },
   {
    "duration": 8,
    "start_time": "2022-06-08T20:24:08.910Z"
   },
   {
    "duration": 32,
    "start_time": "2022-06-08T20:25:13.913Z"
   },
   {
    "duration": 32,
    "start_time": "2022-06-08T20:25:21.852Z"
   },
   {
    "duration": 8,
    "start_time": "2022-06-08T20:27:23.584Z"
   },
   {
    "duration": 189,
    "start_time": "2022-06-08T20:27:34.969Z"
   },
   {
    "duration": 131,
    "start_time": "2022-06-08T20:27:35.708Z"
   },
   {
    "duration": 123,
    "start_time": "2022-06-08T20:27:36.416Z"
   },
   {
    "duration": 28,
    "start_time": "2022-06-08T20:27:37.012Z"
   },
   {
    "duration": 52,
    "start_time": "2022-06-08T20:27:37.649Z"
   },
   {
    "duration": 35,
    "start_time": "2022-06-08T20:27:39.120Z"
   },
   {
    "duration": 28,
    "start_time": "2022-06-08T20:27:39.655Z"
   },
   {
    "duration": 55,
    "start_time": "2022-06-08T20:27:40.176Z"
   },
   {
    "duration": 8,
    "start_time": "2022-06-08T20:27:41.054Z"
   },
   {
    "duration": 27,
    "start_time": "2022-06-08T20:27:41.991Z"
   },
   {
    "duration": 22,
    "start_time": "2022-06-08T20:27:42.463Z"
   },
   {
    "duration": 50,
    "start_time": "2022-06-08T20:27:42.944Z"
   },
   {
    "duration": 8,
    "start_time": "2022-06-08T20:27:43.368Z"
   },
   {
    "duration": 22,
    "start_time": "2022-06-08T20:27:43.831Z"
   },
   {
    "duration": 18,
    "start_time": "2022-06-08T20:27:44.279Z"
   },
   {
    "duration": 40,
    "start_time": "2022-06-08T20:27:44.736Z"
   },
   {
    "duration": 7,
    "start_time": "2022-06-08T20:27:45.185Z"
   },
   {
    "duration": 20,
    "start_time": "2022-06-08T20:27:46.117Z"
   },
   {
    "duration": 27,
    "start_time": "2022-06-08T20:27:46.645Z"
   },
   {
    "duration": 39,
    "start_time": "2022-06-08T20:27:48.012Z"
   },
   {
    "duration": 10,
    "start_time": "2022-06-08T20:27:49.223Z"
   },
   {
    "duration": 47,
    "start_time": "2022-06-08T20:27:49.841Z"
   },
   {
    "duration": 23,
    "start_time": "2022-06-08T20:27:50.959Z"
   },
   {
    "duration": 20,
    "start_time": "2022-06-08T20:27:52.350Z"
   },
   {
    "duration": 34,
    "start_time": "2022-06-08T20:27:53.709Z"
   },
   {
    "duration": 9,
    "start_time": "2022-06-08T20:27:55.766Z"
   },
   {
    "duration": 38,
    "start_time": "2022-06-08T20:30:11.112Z"
   },
   {
    "duration": 24,
    "start_time": "2022-06-08T20:34:43.136Z"
   },
   {
    "duration": 22,
    "start_time": "2022-06-08T20:36:01.169Z"
   },
   {
    "duration": 23,
    "start_time": "2022-06-08T20:44:04.875Z"
   },
   {
    "duration": 435,
    "start_time": "2022-06-08T20:44:16.026Z"
   },
   {
    "duration": 26,
    "start_time": "2022-06-08T20:44:56.099Z"
   },
   {
    "duration": 28,
    "start_time": "2022-06-08T20:45:12.634Z"
   },
   {
    "duration": 32,
    "start_time": "2022-06-08T20:47:40.067Z"
   },
   {
    "duration": 26,
    "start_time": "2022-06-08T20:48:10.404Z"
   },
   {
    "duration": 31,
    "start_time": "2022-06-08T20:51:22.334Z"
   },
   {
    "duration": 27,
    "start_time": "2022-06-08T20:52:27.524Z"
   },
   {
    "duration": 12656,
    "start_time": "2022-06-08T20:53:21.341Z"
   },
   {
    "duration": 48,
    "start_time": "2022-06-08T20:53:33.999Z"
   },
   {
    "duration": 13,
    "start_time": "2022-06-08T20:53:59.268Z"
   },
   {
    "duration": 616,
    "start_time": "2022-06-08T20:54:03.148Z"
   },
   {
    "duration": 17,
    "start_time": "2022-06-08T20:54:04.492Z"
   },
   {
    "duration": 145,
    "start_time": "2022-06-08T20:54:05.420Z"
   },
   {
    "duration": 21,
    "start_time": "2022-06-08T20:54:06.364Z"
   },
   {
    "duration": 20,
    "start_time": "2022-06-08T20:54:07.194Z"
   },
   {
    "duration": 17,
    "start_time": "2022-06-08T21:00:46.350Z"
   },
   {
    "duration": 440,
    "start_time": "2022-06-08T21:01:29.734Z"
   },
   {
    "duration": 19,
    "start_time": "2022-06-08T21:06:18.820Z"
   },
   {
    "duration": 26,
    "start_time": "2022-06-08T21:06:38.353Z"
   },
   {
    "duration": 21,
    "start_time": "2022-06-08T21:07:40.537Z"
   },
   {
    "duration": 27,
    "start_time": "2022-06-08T21:08:18.816Z"
   },
   {
    "duration": 6,
    "start_time": "2022-06-08T21:08:51.352Z"
   },
   {
    "duration": 174,
    "start_time": "2022-06-08T21:14:50.283Z"
   },
   {
    "duration": 180,
    "start_time": "2022-06-08T21:15:03.995Z"
   },
   {
    "duration": 163,
    "start_time": "2022-06-08T21:15:17.138Z"
   },
   {
    "duration": 162,
    "start_time": "2022-06-08T21:15:19.538Z"
   },
   {
    "duration": 254,
    "start_time": "2022-06-08T21:17:04.651Z"
   },
   {
    "duration": 252,
    "start_time": "2022-06-08T21:17:23.084Z"
   },
   {
    "duration": 181,
    "start_time": "2022-06-08T21:17:53.619Z"
   },
   {
    "duration": 272,
    "start_time": "2022-06-08T21:18:07.524Z"
   },
   {
    "duration": 249,
    "start_time": "2022-06-08T21:18:26.718Z"
   },
   {
    "duration": 154,
    "start_time": "2022-06-08T21:19:33.200Z"
   },
   {
    "duration": 168,
    "start_time": "2022-06-08T21:20:12.260Z"
   },
   {
    "duration": 169,
    "start_time": "2022-06-08T21:20:13.294Z"
   },
   {
    "duration": 168,
    "start_time": "2022-06-08T21:20:16.812Z"
   },
   {
    "duration": 177,
    "start_time": "2022-06-08T21:20:19.523Z"
   },
   {
    "duration": 232,
    "start_time": "2022-06-08T21:20:34.412Z"
   },
   {
    "duration": 268,
    "start_time": "2022-06-08T21:20:39.807Z"
   },
   {
    "duration": 3,
    "start_time": "2022-06-08T21:27:36.227Z"
   },
   {
    "duration": 5,
    "start_time": "2022-06-08T21:29:41.297Z"
   },
   {
    "duration": 4,
    "start_time": "2022-06-08T21:29:43.951Z"
   },
   {
    "duration": 13,
    "start_time": "2022-06-08T21:31:51.631Z"
   },
   {
    "duration": 11,
    "start_time": "2022-06-08T21:31:54.767Z"
   },
   {
    "duration": 1035,
    "start_time": "2022-06-09T12:18:39.426Z"
   },
   {
    "duration": 396,
    "start_time": "2022-06-09T12:18:40.463Z"
   },
   {
    "duration": 167,
    "start_time": "2022-06-09T12:18:40.860Z"
   },
   {
    "duration": 72,
    "start_time": "2022-06-09T12:18:41.029Z"
   },
   {
    "duration": 69,
    "start_time": "2022-06-09T12:18:41.103Z"
   },
   {
    "duration": 43,
    "start_time": "2022-06-09T12:18:41.173Z"
   },
   {
    "duration": 27,
    "start_time": "2022-06-09T12:18:41.217Z"
   },
   {
    "duration": 81,
    "start_time": "2022-06-09T12:18:41.245Z"
   },
   {
    "duration": 6,
    "start_time": "2022-06-09T12:18:41.327Z"
   },
   {
    "duration": 27,
    "start_time": "2022-06-09T12:18:41.336Z"
   },
   {
    "duration": 37,
    "start_time": "2022-06-09T12:18:41.364Z"
   },
   {
    "duration": 56,
    "start_time": "2022-06-09T12:18:41.402Z"
   },
   {
    "duration": 6,
    "start_time": "2022-06-09T12:18:41.459Z"
   },
   {
    "duration": 46,
    "start_time": "2022-06-09T12:18:41.466Z"
   },
   {
    "duration": 19,
    "start_time": "2022-06-09T12:18:41.513Z"
   },
   {
    "duration": 39,
    "start_time": "2022-06-09T12:18:41.534Z"
   },
   {
    "duration": 8,
    "start_time": "2022-06-09T12:18:41.594Z"
   },
   {
    "duration": 28,
    "start_time": "2022-06-09T12:18:41.604Z"
   },
   {
    "duration": 7,
    "start_time": "2022-06-09T16:26:34.225Z"
   },
   {
    "duration": 5,
    "start_time": "2022-06-09T16:26:44.418Z"
   },
   {
    "duration": 4,
    "start_time": "2022-06-09T16:27:04.357Z"
   },
   {
    "duration": 35,
    "start_time": "2022-06-09T16:28:04.376Z"
   },
   {
    "duration": 25,
    "start_time": "2022-06-09T16:28:42.402Z"
   },
   {
    "duration": 27,
    "start_time": "2022-06-09T16:28:52.929Z"
   },
   {
    "duration": 848,
    "start_time": "2022-06-09T16:29:07.418Z"
   },
   {
    "duration": 393,
    "start_time": "2022-06-09T16:29:08.954Z"
   },
   {
    "duration": 162,
    "start_time": "2022-06-09T16:29:10.011Z"
   },
   {
    "duration": 66,
    "start_time": "2022-06-09T16:29:11.509Z"
   },
   {
    "duration": 85,
    "start_time": "2022-06-09T16:29:12.919Z"
   },
   {
    "duration": 47,
    "start_time": "2022-06-09T16:29:18.124Z"
   },
   {
    "duration": 28,
    "start_time": "2022-06-09T16:29:18.874Z"
   },
   {
    "duration": 51,
    "start_time": "2022-06-09T16:29:20.426Z"
   },
   {
    "duration": 32,
    "start_time": "2022-06-09T16:30:13.411Z"
   },
   {
    "duration": 64,
    "start_time": "2022-06-09T16:30:24.058Z"
   },
   {
    "duration": 7,
    "start_time": "2022-06-09T16:31:38.163Z"
   },
   {
    "duration": 6,
    "start_time": "2022-06-09T16:31:48.058Z"
   },
   {
    "duration": 17,
    "start_time": "2022-06-09T16:32:04.707Z"
   },
   {
    "duration": 44,
    "start_time": "2022-06-09T16:33:34.531Z"
   },
   {
    "duration": 26,
    "start_time": "2022-06-09T16:33:41.807Z"
   },
   {
    "duration": 173,
    "start_time": "2022-06-09T16:34:54.915Z"
   },
   {
    "duration": 147,
    "start_time": "2022-06-09T16:34:56.611Z"
   },
   {
    "duration": 101,
    "start_time": "2022-06-09T16:34:57.207Z"
   },
   {
    "duration": 35,
    "start_time": "2022-06-09T16:34:58.666Z"
   },
   {
    "duration": 50,
    "start_time": "2022-06-09T16:35:00.355Z"
   },
   {
    "duration": 33,
    "start_time": "2022-06-09T16:35:05.051Z"
   },
   {
    "duration": 26,
    "start_time": "2022-06-09T16:35:06.329Z"
   },
   {
    "duration": 27,
    "start_time": "2022-06-09T16:35:11.531Z"
   },
   {
    "duration": 29,
    "start_time": "2022-06-09T16:37:06.542Z"
   },
   {
    "duration": 27,
    "start_time": "2022-06-09T16:37:36.361Z"
   },
   {
    "duration": 26,
    "start_time": "2022-06-09T16:37:52.307Z"
   },
   {
    "duration": 56,
    "start_time": "2022-06-09T16:38:00.636Z"
   },
   {
    "duration": 8,
    "start_time": "2022-06-09T16:38:03.283Z"
   },
   {
    "duration": 27,
    "start_time": "2022-06-09T16:38:07.912Z"
   },
   {
    "duration": 21,
    "start_time": "2022-06-09T16:38:08.572Z"
   },
   {
    "duration": 47,
    "start_time": "2022-06-09T16:38:09.222Z"
   },
   {
    "duration": 7,
    "start_time": "2022-06-09T16:38:10.539Z"
   },
   {
    "duration": 21,
    "start_time": "2022-06-09T16:38:11.115Z"
   },
   {
    "duration": 17,
    "start_time": "2022-06-09T16:38:11.622Z"
   },
   {
    "duration": 37,
    "start_time": "2022-06-09T16:38:12.268Z"
   },
   {
    "duration": 7,
    "start_time": "2022-06-09T16:38:13.411Z"
   },
   {
    "duration": 20,
    "start_time": "2022-06-09T16:38:14.771Z"
   },
   {
    "duration": 20,
    "start_time": "2022-06-09T16:38:16.138Z"
   },
   {
    "duration": 19,
    "start_time": "2022-06-09T16:38:49.181Z"
   },
   {
    "duration": 19,
    "start_time": "2022-06-09T16:38:56.320Z"
   },
   {
    "duration": 20,
    "start_time": "2022-06-09T16:38:59.036Z"
   },
   {
    "duration": 20,
    "start_time": "2022-06-09T16:39:30.135Z"
   },
   {
    "duration": 13,
    "start_time": "2022-06-09T16:39:37.661Z"
   },
   {
    "duration": 35,
    "start_time": "2022-06-09T16:40:46.651Z"
   },
   {
    "duration": 8,
    "start_time": "2022-06-09T16:40:48.055Z"
   },
   {
    "duration": 19,
    "start_time": "2022-06-09T16:40:49.527Z"
   },
   {
    "duration": 22,
    "start_time": "2022-06-09T16:40:54.675Z"
   },
   {
    "duration": 11,
    "start_time": "2022-06-09T16:42:38.950Z"
   },
   {
    "duration": 10,
    "start_time": "2022-06-09T16:44:05.438Z"
   },
   {
    "duration": 12,
    "start_time": "2022-06-09T16:44:46.734Z"
   },
   {
    "duration": 25,
    "start_time": "2022-06-09T16:44:56.020Z"
   },
   {
    "duration": 10,
    "start_time": "2022-06-09T16:45:13.120Z"
   },
   {
    "duration": 39,
    "start_time": "2022-06-09T16:45:17.967Z"
   },
   {
    "duration": 14,
    "start_time": "2022-06-09T16:45:22.155Z"
   },
   {
    "duration": 8,
    "start_time": "2022-06-09T16:45:27.133Z"
   },
   {
    "duration": 24,
    "start_time": "2022-06-09T16:45:30.640Z"
   },
   {
    "duration": 7,
    "start_time": "2022-06-09T16:46:24.708Z"
   },
   {
    "duration": 456,
    "start_time": "2022-06-09T16:46:57.759Z"
   },
   {
    "duration": 8,
    "start_time": "2022-06-09T16:47:32.800Z"
   },
   {
    "duration": 13,
    "start_time": "2022-06-09T16:54:25.007Z"
   },
   {
    "duration": 18,
    "start_time": "2022-06-09T16:54:32.240Z"
   },
   {
    "duration": 229,
    "start_time": "2022-06-09T16:54:45.560Z"
   },
   {
    "duration": 17,
    "start_time": "2022-06-09T16:55:38.605Z"
   },
   {
    "duration": 284,
    "start_time": "2022-06-09T16:56:58.915Z"
   },
   {
    "duration": 347,
    "start_time": "2022-06-09T16:57:07.881Z"
   },
   {
    "duration": 25,
    "start_time": "2022-06-09T16:57:14.398Z"
   },
   {
    "duration": 8,
    "start_time": "2022-06-09T16:57:43.921Z"
   },
   {
    "duration": 458,
    "start_time": "2022-06-09T16:57:46.273Z"
   },
   {
    "duration": 9,
    "start_time": "2022-06-09T16:57:49.117Z"
   },
   {
    "duration": 107,
    "start_time": "2022-06-09T16:57:51.032Z"
   },
   {
    "duration": 4,
    "start_time": "2022-06-09T16:57:53.513Z"
   },
   {
    "duration": 4,
    "start_time": "2022-06-09T16:57:56.569Z"
   },
   {
    "duration": 11,
    "start_time": "2022-06-09T16:57:58.295Z"
   },
   {
    "duration": 14,
    "start_time": "2022-06-09T16:58:00.529Z"
   },
   {
    "duration": 13,
    "start_time": "2022-06-09T16:58:02.922Z"
   },
   {
    "duration": 11,
    "start_time": "2022-06-09T16:58:06.410Z"
   },
   {
    "duration": 200,
    "start_time": "2022-06-09T16:58:10.145Z"
   },
   {
    "duration": 150,
    "start_time": "2022-06-09T16:58:12.473Z"
   },
   {
    "duration": 153,
    "start_time": "2022-06-09T16:58:15.812Z"
   },
   {
    "duration": 159,
    "start_time": "2022-06-09T16:58:18.769Z"
   },
   {
    "duration": 176,
    "start_time": "2022-06-09T16:58:44.049Z"
   },
   {
    "duration": 163,
    "start_time": "2022-06-09T16:59:22.412Z"
   },
   {
    "duration": 156,
    "start_time": "2022-06-09T16:59:26.875Z"
   },
   {
    "duration": 142,
    "start_time": "2022-06-09T16:59:29.223Z"
   },
   {
    "duration": 494,
    "start_time": "2022-06-09T16:59:36.058Z"
   },
   {
    "duration": 18,
    "start_time": "2022-06-09T16:59:39.117Z"
   },
   {
    "duration": 18,
    "start_time": "2022-06-09T16:59:41.067Z"
   },
   {
    "duration": 5,
    "start_time": "2022-06-09T16:59:43.017Z"
   },
   {
    "duration": 9,
    "start_time": "2022-06-09T17:01:05.045Z"
   },
   {
    "duration": 185,
    "start_time": "2022-06-09T17:02:56.668Z"
   },
   {
    "duration": 4,
    "start_time": "2022-06-09T17:05:00.771Z"
   },
   {
    "duration": 649,
    "start_time": "2022-06-09T17:05:41.827Z"
   },
   {
    "duration": 8,
    "start_time": "2022-06-09T17:05:52.268Z"
   },
   {
    "duration": 968,
    "start_time": "2022-06-09T21:34:05.817Z"
   },
   {
    "duration": 694,
    "start_time": "2022-06-09T21:34:06.787Z"
   },
   {
    "duration": 160,
    "start_time": "2022-06-09T21:34:07.483Z"
   },
   {
    "duration": 57,
    "start_time": "2022-06-09T21:34:07.646Z"
   },
   {
    "duration": 67,
    "start_time": "2022-06-09T21:34:07.704Z"
   },
   {
    "duration": 36,
    "start_time": "2022-06-09T21:34:07.773Z"
   },
   {
    "duration": 27,
    "start_time": "2022-06-09T21:34:07.811Z"
   },
   {
    "duration": 11,
    "start_time": "2022-06-09T21:34:07.840Z"
   },
   {
    "duration": 12,
    "start_time": "2022-06-09T21:34:07.853Z"
   },
   {
    "duration": 58,
    "start_time": "2022-06-09T21:34:24.146Z"
   },
   {
    "duration": 7,
    "start_time": "2022-06-09T21:34:39.905Z"
   },
   {
    "duration": 7,
    "start_time": "2022-06-09T21:35:05.230Z"
   },
   {
    "duration": 185,
    "start_time": "2022-06-09T21:35:11.137Z"
   },
   {
    "duration": 145,
    "start_time": "2022-06-09T21:35:11.326Z"
   },
   {
    "duration": 102,
    "start_time": "2022-06-09T21:35:11.472Z"
   },
   {
    "duration": 25,
    "start_time": "2022-06-09T21:35:11.576Z"
   },
   {
    "duration": 39,
    "start_time": "2022-06-09T21:35:11.603Z"
   },
   {
    "duration": 37,
    "start_time": "2022-06-09T21:35:11.644Z"
   },
   {
    "duration": 27,
    "start_time": "2022-06-09T21:35:11.683Z"
   },
   {
    "duration": 22,
    "start_time": "2022-06-09T21:35:11.711Z"
   },
   {
    "duration": 11,
    "start_time": "2022-06-09T21:35:11.735Z"
   },
   {
    "duration": 33,
    "start_time": "2022-06-09T21:35:13.701Z"
   },
   {
    "duration": 7,
    "start_time": "2022-06-09T21:35:15.591Z"
   },
   {
    "duration": 6,
    "start_time": "2022-06-09T21:35:28.869Z"
   },
   {
    "duration": 940,
    "start_time": "2022-06-09T21:59:24.982Z"
   },
   {
    "duration": 459,
    "start_time": "2022-06-09T21:59:26.654Z"
   },
   {
    "duration": 190,
    "start_time": "2022-06-09T21:59:28.182Z"
   },
   {
    "duration": 70,
    "start_time": "2022-06-09T21:59:30.204Z"
   },
   {
    "duration": 92,
    "start_time": "2022-06-09T21:59:32.492Z"
   },
   {
    "duration": 41,
    "start_time": "2022-06-09T21:59:37.540Z"
   },
   {
    "duration": 29,
    "start_time": "2022-06-09T21:59:38.806Z"
   },
   {
    "duration": 11,
    "start_time": "2022-06-09T21:59:39.647Z"
   },
   {
    "duration": 12,
    "start_time": "2022-06-09T21:59:41.086Z"
   },
   {
    "duration": 32,
    "start_time": "2022-06-09T21:59:42.670Z"
   },
   {
    "duration": 36,
    "start_time": "2022-06-09T22:00:22.311Z"
   },
   {
    "duration": 104,
    "start_time": "2022-06-09T22:01:12.990Z"
   },
   {
    "duration": 10,
    "start_time": "2022-06-09T22:01:26.605Z"
   },
   {
    "duration": 30,
    "start_time": "2022-06-09T22:01:29.422Z"
   },
   {
    "duration": 24,
    "start_time": "2022-06-09T22:01:32.847Z"
   },
   {
    "duration": 60,
    "start_time": "2022-06-09T22:01:35.598Z"
   },
   {
    "duration": 8,
    "start_time": "2022-06-09T22:01:38.398Z"
   },
   {
    "duration": 27,
    "start_time": "2022-06-09T22:01:40.894Z"
   },
   {
    "duration": 21,
    "start_time": "2022-06-09T22:01:42.998Z"
   },
   {
    "duration": 50,
    "start_time": "2022-06-09T22:01:43.982Z"
   },
   {
    "duration": 8,
    "start_time": "2022-06-09T22:01:48.822Z"
   },
   {
    "duration": 21,
    "start_time": "2022-06-09T22:01:51.070Z"
   },
   {
    "duration": 20,
    "start_time": "2022-06-09T22:01:53.950Z"
   },
   {
    "duration": 21,
    "start_time": "2022-06-09T22:02:25.441Z"
   },
   {
    "duration": 28,
    "start_time": "2022-06-09T22:02:28.390Z"
   },
   {
    "duration": 56,
    "start_time": "2022-06-09T22:03:05.307Z"
   },
   {
    "duration": 33,
    "start_time": "2022-06-09T22:03:23.512Z"
   },
   {
    "duration": 30,
    "start_time": "2022-06-09T22:03:35.340Z"
   },
   {
    "duration": 9,
    "start_time": "2022-06-09T22:03:43.221Z"
   },
   {
    "duration": 41,
    "start_time": "2022-06-09T22:03:47.681Z"
   },
   {
    "duration": 17,
    "start_time": "2022-06-09T22:03:52.351Z"
   },
   {
    "duration": 8,
    "start_time": "2022-06-09T22:03:57.942Z"
   },
   {
    "duration": 30,
    "start_time": "2022-06-09T22:04:00.928Z"
   },
   {
    "duration": 9,
    "start_time": "2022-06-09T22:04:18.094Z"
   },
   {
    "duration": 605,
    "start_time": "2022-06-09T22:04:30.671Z"
   },
   {
    "duration": 308,
    "start_time": "2022-06-09T22:04:37.111Z"
   },
   {
    "duration": 31,
    "start_time": "2022-06-09T22:04:42.479Z"
   },
   {
    "duration": 10,
    "start_time": "2022-06-09T22:05:08.679Z"
   },
   {
    "duration": 116,
    "start_time": "2022-06-09T22:05:12.205Z"
   },
   {
    "duration": 9,
    "start_time": "2022-06-09T22:05:15.926Z"
   },
   {
    "duration": 124,
    "start_time": "2022-06-09T22:05:18.118Z"
   },
   {
    "duration": 4,
    "start_time": "2022-06-09T22:05:20.526Z"
   },
   {
    "duration": 5,
    "start_time": "2022-06-09T22:05:23.089Z"
   },
   {
    "duration": 4,
    "start_time": "2022-06-09T22:05:23.862Z"
   },
   {
    "duration": 13,
    "start_time": "2022-06-09T22:05:24.742Z"
   },
   {
    "duration": 12,
    "start_time": "2022-06-09T22:05:25.758Z"
   },
   {
    "duration": 74,
    "start_time": "2022-06-09T22:05:26.757Z"
   },
   {
    "duration": 14,
    "start_time": "2022-06-09T22:05:28.517Z"
   },
   {
    "duration": 183,
    "start_time": "2022-06-09T22:05:30.637Z"
   },
   {
    "duration": 199,
    "start_time": "2022-06-09T22:05:31.470Z"
   },
   {
    "duration": 181,
    "start_time": "2022-06-09T22:05:35.709Z"
   },
   {
    "duration": 193,
    "start_time": "2022-06-09T22:05:36.518Z"
   },
   {
    "duration": 186,
    "start_time": "2022-06-09T22:05:56.262Z"
   },
   {
    "duration": 194,
    "start_time": "2022-06-09T22:05:58.757Z"
   },
   {
    "duration": 508,
    "start_time": "2022-06-09T22:06:03.637Z"
   },
   {
    "duration": 22,
    "start_time": "2022-06-09T22:06:05.685Z"
   },
   {
    "duration": 23,
    "start_time": "2022-06-09T22:06:06.358Z"
   },
   {
    "duration": 5,
    "start_time": "2022-06-09T22:06:08.293Z"
   },
   {
    "duration": 962,
    "start_time": "2022-08-15T17:07:34.122Z"
   },
   {
    "duration": 448,
    "start_time": "2022-08-15T17:07:35.086Z"
   },
   {
    "duration": 173,
    "start_time": "2022-08-15T17:07:35.535Z"
   },
   {
    "duration": 63,
    "start_time": "2022-08-15T17:07:35.710Z"
   },
   {
    "duration": 73,
    "start_time": "2022-08-15T17:07:35.775Z"
   },
   {
    "duration": 42,
    "start_time": "2022-08-15T17:07:35.850Z"
   },
   {
    "duration": 29,
    "start_time": "2022-08-15T17:07:35.894Z"
   },
   {
    "duration": 10,
    "start_time": "2022-08-15T17:07:35.925Z"
   },
   {
    "duration": 12,
    "start_time": "2022-08-15T17:07:35.937Z"
   },
   {
    "duration": 57,
    "start_time": "2022-08-15T17:07:35.951Z"
   },
   {
    "duration": 66,
    "start_time": "2022-08-15T17:07:36.010Z"
   },
   {
    "duration": 20,
    "start_time": "2022-08-15T17:07:36.078Z"
   },
   {
    "duration": 31,
    "start_time": "2022-08-15T17:07:36.100Z"
   },
   {
    "duration": 22,
    "start_time": "2022-08-15T17:07:36.134Z"
   },
   {
    "duration": 76,
    "start_time": "2022-08-15T17:07:36.158Z"
   },
   {
    "duration": 8,
    "start_time": "2022-08-15T17:07:36.235Z"
   },
   {
    "duration": 27,
    "start_time": "2022-08-15T17:07:36.244Z"
   },
   {
    "duration": 36,
    "start_time": "2022-08-15T17:07:36.272Z"
   },
   {
    "duration": 45,
    "start_time": "2022-08-15T17:07:36.310Z"
   },
   {
    "duration": 7,
    "start_time": "2022-08-15T17:07:36.356Z"
   },
   {
    "duration": 45,
    "start_time": "2022-08-15T17:07:36.364Z"
   },
   {
    "duration": 21,
    "start_time": "2022-08-15T17:07:36.411Z"
   },
   {
    "duration": 27,
    "start_time": "2022-08-15T17:07:36.433Z"
   },
   {
    "duration": 36,
    "start_time": "2022-08-15T17:07:36.461Z"
   },
   {
    "duration": 40,
    "start_time": "2022-08-15T17:07:36.499Z"
   },
   {
    "duration": 17,
    "start_time": "2022-08-15T17:07:36.541Z"
   },
   {
    "duration": 33,
    "start_time": "2022-08-15T17:07:36.559Z"
   },
   {
    "duration": 27,
    "start_time": "2022-08-15T17:07:36.594Z"
   },
   {
    "duration": 10,
    "start_time": "2022-08-15T17:07:36.623Z"
   },
   {
    "duration": 672,
    "start_time": "2022-08-15T17:07:36.634Z"
   },
   {
    "duration": 329,
    "start_time": "2022-08-15T17:07:37.308Z"
   },
   {
    "duration": 29,
    "start_time": "2022-08-15T17:07:37.639Z"
   },
   {
    "duration": 27,
    "start_time": "2022-08-15T17:07:37.670Z"
   },
   {
    "duration": 122,
    "start_time": "2022-08-15T17:07:37.699Z"
   },
   {
    "duration": 11,
    "start_time": "2022-08-15T17:07:37.823Z"
   },
   {
    "duration": 152,
    "start_time": "2022-08-15T17:07:37.836Z"
   },
   {
    "duration": 5,
    "start_time": "2022-08-15T17:07:37.991Z"
   },
   {
    "duration": 9,
    "start_time": "2022-08-15T17:07:37.997Z"
   },
   {
    "duration": 15,
    "start_time": "2022-08-15T17:07:38.008Z"
   },
   {
    "duration": 92,
    "start_time": "2022-08-15T17:07:38.025Z"
   },
   {
    "duration": 17,
    "start_time": "2022-08-15T17:07:38.121Z"
   },
   {
    "duration": 15,
    "start_time": "2022-08-15T17:07:38.139Z"
   },
   {
    "duration": 209,
    "start_time": "2022-08-15T17:07:38.156Z"
   },
   {
    "duration": 209,
    "start_time": "2022-08-15T17:07:38.367Z"
   },
   {
    "duration": 191,
    "start_time": "2022-08-15T17:07:38.577Z"
   },
   {
    "duration": 207,
    "start_time": "2022-08-15T17:07:38.770Z"
   },
   {
    "duration": 182,
    "start_time": "2022-08-15T17:07:38.979Z"
   },
   {
    "duration": 185,
    "start_time": "2022-08-15T17:07:39.163Z"
   },
   {
    "duration": 25,
    "start_time": "2022-08-15T17:07:39.350Z"
   },
   {
    "duration": 36,
    "start_time": "2022-08-15T17:07:39.377Z"
   },
   {
    "duration": 89,
    "start_time": "2022-08-15T17:07:39.415Z"
   }
  ],
  "kernelspec": {
   "display_name": "Python 3 (ipykernel)",
   "language": "python",
   "name": "python3"
  },
  "language_info": {
   "codemirror_mode": {
    "name": "ipython",
    "version": 3
   },
   "file_extension": ".py",
   "mimetype": "text/x-python",
   "name": "python",
   "nbconvert_exporter": "python",
   "pygments_lexer": "ipython3",
   "version": "3.9.5"
  },
  "toc": {
   "base_numbering": 1,
   "nav_menu": {},
   "number_sections": true,
   "sideBar": true,
   "skip_h1_title": true,
   "title_cell": "Table of Contents",
   "title_sidebar": "Contents",
   "toc_cell": false,
   "toc_position": {},
   "toc_section_display": true,
   "toc_window_display": false
  }
 },
 "nbformat": 4,
 "nbformat_minor": 2
}
